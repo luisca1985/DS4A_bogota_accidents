{
  "cells": [
    {
      "cell_type": "markdown",
      "metadata": {
        "id": "qC8HNjp5nPK4"
      },
      "source": [
        "# **Analyzing Traffic Accidents in Bogotá from 2015 to 2021 - Team 82**\n",
        "José Armando Delgado Álvarez, Andrés Felipe Guzmán Romero, Luis Camilo Jiménez Álvarez, Juan Pablo Lancheros Rodríguez, Paola Andrea Matheus Arbeláez, Alejandro Moreno Fresneda, Leidy Milena Nieves Mendoza, Andrés Felipe Pérez Osorio"
      ]
    },
    {
      "cell_type": "markdown",
      "metadata": {
        "id": "zx8i8Hu4Ur2K"
      },
      "source": [
        "# **Exploratory Data Analysis - EDA**"
      ]
    },
    {
      "cell_type": "markdown",
      "metadata": {
        "id": "T2d7mRVQoqMr"
      },
      "source": [
        "## Import libraries and load the dataset"
      ]
    },
    {
      "cell_type": "markdown",
      "metadata": {
        "id": "NY0Z24RRmz7f"
      },
      "source": [
        "We begin by importing the necessary libraries required to perform our exploratory data analysis."
      ]
    },
    {
      "cell_type": "code",
      "execution_count": 1,
      "metadata": {
        "id": "AKskR3gcFsZW"
      },
      "outputs": [],
      "source": [
        "import numpy                 as np\n",
        "import pandas                as pd\n",
        "import matplotlib.pyplot     as plt\n",
        "import seaborn               as sns\n",
        "import plotly.graph_objects as go\n",
        "import plotly.express as px"
      ]
    },
    {
      "cell_type": "markdown",
      "metadata": {
        "id": "KvUEpAtyWYOS"
      },
      "source": [
        "The data are imported as follows:"
      ]
    },
    {
      "cell_type": "code",
      "execution_count": 2,
      "metadata": {
        "colab": {
          "base_uri": "https://localhost:8080/"
        },
        "id": "KK7JGFtoEQhh",
        "outputId": "a275afc3-5346-4f43-8fe9-3a909e52fa5c"
      },
      "outputs": [],
      "source": [
        "path = 'data/historico_siniestros_bogota.csv'"
      ]
    },
    {
      "cell_type": "markdown",
      "metadata": {
        "id": "MIa5CurAnOUm"
      },
      "source": [
        "## Inspecting data structure\n",
        "We begin by loading the data and looking at its basic shape:"
      ]
    },
    {
      "cell_type": "code",
      "execution_count": 3,
      "metadata": {
        "colab": {
          "base_uri": "https://localhost:8080/"
        },
        "id": "cp_lQTdC8jQQ",
        "outputId": "86441aeb-97ba-4525-f6c9-89db79b5e323"
      },
      "outputs": [
        {
          "data": {
            "text/plain": [
              "(199146, 16)"
            ]
          },
          "execution_count": 3,
          "metadata": {},
          "output_type": "execute_result"
        }
      ],
      "source": [
        "df = pd.read_csv(path, index_col=False)\n",
        "df.shape"
      ]
    },
    {
      "cell_type": "markdown",
      "metadata": {
        "id": "bTvlUjlk9YYC"
      },
      "source": [
        "We display the top and bottom rows, in order to have a preliminary view of the data"
      ]
    },
    {
      "cell_type": "code",
      "execution_count": 4,
      "metadata": {
        "colab": {
          "base_uri": "https://localhost:8080/",
          "height": 337
        },
        "id": "EwQpHW0AF3nO",
        "outputId": "858d1b02-40d9-4d36-c626-14d9b6233b53"
      },
      "outputs": [
        {
          "data": {
            "text/html": [
              "<div>\n",
              "<style scoped>\n",
              "    .dataframe tbody tr th:only-of-type {\n",
              "        vertical-align: middle;\n",
              "    }\n",
              "\n",
              "    .dataframe tbody tr th {\n",
              "        vertical-align: top;\n",
              "    }\n",
              "\n",
              "    .dataframe thead th {\n",
              "        text-align: right;\n",
              "    }\n",
              "</style>\n",
              "<table border=\"1\" class=\"dataframe\">\n",
              "  <thead>\n",
              "    <tr style=\"text-align: right;\">\n",
              "      <th></th>\n",
              "      <th>X</th>\n",
              "      <th>Y</th>\n",
              "      <th>OBJECTID</th>\n",
              "      <th>FORMULARIO</th>\n",
              "      <th>CODIGO_ACCIDENTE</th>\n",
              "      <th>FECHA_OCURRENCIA_ACC</th>\n",
              "      <th>ANO_OCURRENCIA_ACC</th>\n",
              "      <th>DIRECCION</th>\n",
              "      <th>GRAVEDAD</th>\n",
              "      <th>CLASE_ACC</th>\n",
              "      <th>LOCALIDAD</th>\n",
              "      <th>FECHA_HORA_ACC</th>\n",
              "      <th>LATITUD</th>\n",
              "      <th>LONGITUD</th>\n",
              "      <th>CIV</th>\n",
              "      <th>PK_CALZADA</th>\n",
              "    </tr>\n",
              "  </thead>\n",
              "  <tbody>\n",
              "    <tr>\n",
              "      <th>0</th>\n",
              "      <td>-74.090924</td>\n",
              "      <td>4.693807</td>\n",
              "      <td>1</td>\n",
              "      <td>A000640275</td>\n",
              "      <td>4484660</td>\n",
              "      <td>2017/06/12 00:00:00+00</td>\n",
              "      <td>2017</td>\n",
              "      <td>AV AVENIDA BOYACA-CL 79 02</td>\n",
              "      <td>SOLO DANOS</td>\n",
              "      <td>CHOQUE</td>\n",
              "      <td>ENGATIVA</td>\n",
              "      <td>2017/06/12 05:30:00+00</td>\n",
              "      <td>4.693807</td>\n",
              "      <td>-74.090924</td>\n",
              "      <td>10006772.0</td>\n",
              "      <td>221236.0</td>\n",
              "    </tr>\n",
              "    <tr>\n",
              "      <th>1</th>\n",
              "      <td>-74.121000</td>\n",
              "      <td>4.603000</td>\n",
              "      <td>2</td>\n",
              "      <td>A001233353</td>\n",
              "      <td>10533499</td>\n",
              "      <td>2020/11/19 00:00:00+00</td>\n",
              "      <td>2020</td>\n",
              "      <td>CL 26 S- KR 50 02</td>\n",
              "      <td>CON HERIDOS</td>\n",
              "      <td>OTRO</td>\n",
              "      <td>PUENTE ARANDA</td>\n",
              "      <td>2020/11/19 02:05:00+00</td>\n",
              "      <td>4.603000</td>\n",
              "      <td>-74.121000</td>\n",
              "      <td>16004560.0</td>\n",
              "      <td>NaN</td>\n",
              "    </tr>\n",
              "    <tr>\n",
              "      <th>2</th>\n",
              "      <td>-74.042000</td>\n",
              "      <td>4.682000</td>\n",
              "      <td>4</td>\n",
              "      <td>A001232786</td>\n",
              "      <td>10533629</td>\n",
              "      <td>2020/11/10 00:00:00+00</td>\n",
              "      <td>2020</td>\n",
              "      <td>KR 9 - CL 100 02</td>\n",
              "      <td>SOLO DANOS</td>\n",
              "      <td>CHOQUE</td>\n",
              "      <td>USAQUEN</td>\n",
              "      <td>2020/11/10 13:30:00+00</td>\n",
              "      <td>4.682000</td>\n",
              "      <td>-74.042000</td>\n",
              "      <td>30001107.0</td>\n",
              "      <td>NaN</td>\n",
              "    </tr>\n",
              "    <tr>\n",
              "      <th>3</th>\n",
              "      <td>-74.166937</td>\n",
              "      <td>4.587187</td>\n",
              "      <td>7</td>\n",
              "      <td>A000200705</td>\n",
              "      <td>4412699</td>\n",
              "      <td>2015/05/11 00:00:00+00</td>\n",
              "      <td>2015</td>\n",
              "      <td>CL 63A-KR 72 S 02</td>\n",
              "      <td>SOLO DANOS</td>\n",
              "      <td>CHOQUE</td>\n",
              "      <td>CIUDAD BOLIVAR</td>\n",
              "      <td>2015/05/11 10:50:00+00</td>\n",
              "      <td>4.587187</td>\n",
              "      <td>-74.166937</td>\n",
              "      <td>19001483.0</td>\n",
              "      <td>136166.0</td>\n",
              "    </tr>\n",
              "    <tr>\n",
              "      <th>4</th>\n",
              "      <td>-74.092901</td>\n",
              "      <td>4.607648</td>\n",
              "      <td>8</td>\n",
              "      <td>A000402862</td>\n",
              "      <td>4447845</td>\n",
              "      <td>2016/06/08 00:00:00+00</td>\n",
              "      <td>2016</td>\n",
              "      <td>KR 27-CL 9 14</td>\n",
              "      <td>SOLO DANOS</td>\n",
              "      <td>CHOQUE</td>\n",
              "      <td>LOS MARTIRES</td>\n",
              "      <td>2016/06/08 21:30:00+00</td>\n",
              "      <td>4.607648</td>\n",
              "      <td>-74.092901</td>\n",
              "      <td>14000548.0</td>\n",
              "      <td>239719.0</td>\n",
              "    </tr>\n",
              "  </tbody>\n",
              "</table>\n",
              "</div>"
            ],
            "text/plain": [
              "           X         Y  OBJECTID  FORMULARIO  CODIGO_ACCIDENTE  \\\n",
              "0 -74.090924  4.693807         1  A000640275           4484660   \n",
              "1 -74.121000  4.603000         2  A001233353          10533499   \n",
              "2 -74.042000  4.682000         4  A001232786          10533629   \n",
              "3 -74.166937  4.587187         7  A000200705           4412699   \n",
              "4 -74.092901  4.607648         8  A000402862           4447845   \n",
              "\n",
              "     FECHA_OCURRENCIA_ACC  ANO_OCURRENCIA_ACC                   DIRECCION  \\\n",
              "0  2017/06/12 00:00:00+00                2017  AV AVENIDA BOYACA-CL 79 02   \n",
              "1  2020/11/19 00:00:00+00                2020           CL 26 S- KR 50 02   \n",
              "2  2020/11/10 00:00:00+00                2020            KR 9 - CL 100 02   \n",
              "3  2015/05/11 00:00:00+00                2015           CL 63A-KR 72 S 02   \n",
              "4  2016/06/08 00:00:00+00                2016               KR 27-CL 9 14   \n",
              "\n",
              "      GRAVEDAD CLASE_ACC       LOCALIDAD          FECHA_HORA_ACC   LATITUD  \\\n",
              "0   SOLO DANOS    CHOQUE        ENGATIVA  2017/06/12 05:30:00+00  4.693807   \n",
              "1  CON HERIDOS      OTRO   PUENTE ARANDA  2020/11/19 02:05:00+00  4.603000   \n",
              "2   SOLO DANOS    CHOQUE         USAQUEN  2020/11/10 13:30:00+00  4.682000   \n",
              "3   SOLO DANOS    CHOQUE  CIUDAD BOLIVAR  2015/05/11 10:50:00+00  4.587187   \n",
              "4   SOLO DANOS    CHOQUE    LOS MARTIRES  2016/06/08 21:30:00+00  4.607648   \n",
              "\n",
              "    LONGITUD         CIV  PK_CALZADA  \n",
              "0 -74.090924  10006772.0    221236.0  \n",
              "1 -74.121000  16004560.0         NaN  \n",
              "2 -74.042000  30001107.0         NaN  \n",
              "3 -74.166937  19001483.0    136166.0  \n",
              "4 -74.092901  14000548.0    239719.0  "
            ]
          },
          "execution_count": 4,
          "metadata": {},
          "output_type": "execute_result"
        }
      ],
      "source": [
        "df.head()"
      ]
    },
    {
      "cell_type": "code",
      "execution_count": 5,
      "metadata": {
        "colab": {
          "base_uri": "https://localhost:8080/",
          "height": 337
        },
        "id": "grNzkFbs-yjL",
        "outputId": "ddf47440-d495-4806-9f88-f1b34f1516d9"
      },
      "outputs": [
        {
          "data": {
            "text/html": [
              "<div>\n",
              "<style scoped>\n",
              "    .dataframe tbody tr th:only-of-type {\n",
              "        vertical-align: middle;\n",
              "    }\n",
              "\n",
              "    .dataframe tbody tr th {\n",
              "        vertical-align: top;\n",
              "    }\n",
              "\n",
              "    .dataframe thead th {\n",
              "        text-align: right;\n",
              "    }\n",
              "</style>\n",
              "<table border=\"1\" class=\"dataframe\">\n",
              "  <thead>\n",
              "    <tr style=\"text-align: right;\">\n",
              "      <th></th>\n",
              "      <th>X</th>\n",
              "      <th>Y</th>\n",
              "      <th>OBJECTID</th>\n",
              "      <th>FORMULARIO</th>\n",
              "      <th>CODIGO_ACCIDENTE</th>\n",
              "      <th>FECHA_OCURRENCIA_ACC</th>\n",
              "      <th>ANO_OCURRENCIA_ACC</th>\n",
              "      <th>DIRECCION</th>\n",
              "      <th>GRAVEDAD</th>\n",
              "      <th>CLASE_ACC</th>\n",
              "      <th>LOCALIDAD</th>\n",
              "      <th>FECHA_HORA_ACC</th>\n",
              "      <th>LATITUD</th>\n",
              "      <th>LONGITUD</th>\n",
              "      <th>CIV</th>\n",
              "      <th>PK_CALZADA</th>\n",
              "    </tr>\n",
              "  </thead>\n",
              "  <tbody>\n",
              "    <tr>\n",
              "      <th>199141</th>\n",
              "      <td>-74.160000</td>\n",
              "      <td>4.63700</td>\n",
              "      <td>421907</td>\n",
              "      <td>A001341297</td>\n",
              "      <td>10548522</td>\n",
              "      <td>2021/08/30 00:00:00+00</td>\n",
              "      <td>2021</td>\n",
              "      <td>KR 86 F  - CL 33  S 02</td>\n",
              "      <td>SOLO DANOS</td>\n",
              "      <td>CHOQUE</td>\n",
              "      <td>KENNEDY</td>\n",
              "      <td>2021/08/30 16:31:00+00</td>\n",
              "      <td>4.63700</td>\n",
              "      <td>-74.160000</td>\n",
              "      <td>8003090.0</td>\n",
              "      <td>NaN</td>\n",
              "    </tr>\n",
              "    <tr>\n",
              "      <th>199142</th>\n",
              "      <td>-74.167000</td>\n",
              "      <td>4.62800</td>\n",
              "      <td>421908</td>\n",
              "      <td>A001305748</td>\n",
              "      <td>10546116</td>\n",
              "      <td>2021/08/03 00:00:00+00</td>\n",
              "      <td>2021</td>\n",
              "      <td>CL 42 B  S- KR 81 L  02</td>\n",
              "      <td>CON HERIDOS</td>\n",
              "      <td>ATROPELLO</td>\n",
              "      <td>KENNEDY</td>\n",
              "      <td>2021/08/03 14:00:00+00</td>\n",
              "      <td>4.62800</td>\n",
              "      <td>-74.167000</td>\n",
              "      <td>8005066.0</td>\n",
              "      <td>NaN</td>\n",
              "    </tr>\n",
              "    <tr>\n",
              "      <th>199143</th>\n",
              "      <td>-74.158247</td>\n",
              "      <td>4.62483</td>\n",
              "      <td>421909</td>\n",
              "      <td>A001238302</td>\n",
              "      <td>10536074</td>\n",
              "      <td>2021/03/19 00:00:00+00</td>\n",
              "      <td>2021</td>\n",
              "      <td>DG 2 S- KR 79 12</td>\n",
              "      <td>CON HERIDOS</td>\n",
              "      <td>CHOQUE</td>\n",
              "      <td>KENNEDY</td>\n",
              "      <td>2021/03/19 12:50:00+00</td>\n",
              "      <td>4.62483</td>\n",
              "      <td>-74.158247</td>\n",
              "      <td>8005839.0</td>\n",
              "      <td>NaN</td>\n",
              "    </tr>\n",
              "    <tr>\n",
              "      <th>199144</th>\n",
              "      <td>-74.167000</td>\n",
              "      <td>4.62200</td>\n",
              "      <td>421910</td>\n",
              "      <td>A001297106</td>\n",
              "      <td>10538181</td>\n",
              "      <td>2021/04/18 00:00:00+00</td>\n",
              "      <td>2021</td>\n",
              "      <td>CL 43 S- KR 80 02</td>\n",
              "      <td>CON HERIDOS</td>\n",
              "      <td>CHOQUE</td>\n",
              "      <td>KENNEDY</td>\n",
              "      <td>2021/04/18 21:21:00+00</td>\n",
              "      <td>4.62200</td>\n",
              "      <td>-74.167000</td>\n",
              "      <td>8011660.0</td>\n",
              "      <td>NaN</td>\n",
              "    </tr>\n",
              "    <tr>\n",
              "      <th>199145</th>\n",
              "      <td>-74.168000</td>\n",
              "      <td>4.63000</td>\n",
              "      <td>421911</td>\n",
              "      <td>A001304271</td>\n",
              "      <td>10544226</td>\n",
              "      <td>2021/07/12 00:00:00+00</td>\n",
              "      <td>2021</td>\n",
              "      <td>AV AVENIDA CIUDAD DE CALI - CL 42  S 02</td>\n",
              "      <td>CON HERIDOS</td>\n",
              "      <td>CAIDA DE OCUPANTE</td>\n",
              "      <td>KENNEDY</td>\n",
              "      <td>2021/07/12 19:53:00+00</td>\n",
              "      <td>4.63000</td>\n",
              "      <td>-74.168000</td>\n",
              "      <td>8004623.0</td>\n",
              "      <td>NaN</td>\n",
              "    </tr>\n",
              "  </tbody>\n",
              "</table>\n",
              "</div>"
            ],
            "text/plain": [
              "                X        Y  OBJECTID  FORMULARIO  CODIGO_ACCIDENTE  \\\n",
              "199141 -74.160000  4.63700    421907  A001341297          10548522   \n",
              "199142 -74.167000  4.62800    421908  A001305748          10546116   \n",
              "199143 -74.158247  4.62483    421909  A001238302          10536074   \n",
              "199144 -74.167000  4.62200    421910  A001297106          10538181   \n",
              "199145 -74.168000  4.63000    421911  A001304271          10544226   \n",
              "\n",
              "          FECHA_OCURRENCIA_ACC  ANO_OCURRENCIA_ACC  \\\n",
              "199141  2021/08/30 00:00:00+00                2021   \n",
              "199142  2021/08/03 00:00:00+00                2021   \n",
              "199143  2021/03/19 00:00:00+00                2021   \n",
              "199144  2021/04/18 00:00:00+00                2021   \n",
              "199145  2021/07/12 00:00:00+00                2021   \n",
              "\n",
              "                                      DIRECCION     GRAVEDAD  \\\n",
              "199141                   KR 86 F  - CL 33  S 02   SOLO DANOS   \n",
              "199142                  CL 42 B  S- KR 81 L  02  CON HERIDOS   \n",
              "199143                         DG 2 S- KR 79 12  CON HERIDOS   \n",
              "199144                        CL 43 S- KR 80 02  CON HERIDOS   \n",
              "199145  AV AVENIDA CIUDAD DE CALI - CL 42  S 02  CON HERIDOS   \n",
              "\n",
              "                CLASE_ACC LOCALIDAD          FECHA_HORA_ACC  LATITUD  \\\n",
              "199141             CHOQUE   KENNEDY  2021/08/30 16:31:00+00  4.63700   \n",
              "199142          ATROPELLO   KENNEDY  2021/08/03 14:00:00+00  4.62800   \n",
              "199143             CHOQUE   KENNEDY  2021/03/19 12:50:00+00  4.62483   \n",
              "199144             CHOQUE   KENNEDY  2021/04/18 21:21:00+00  4.62200   \n",
              "199145  CAIDA DE OCUPANTE   KENNEDY  2021/07/12 19:53:00+00  4.63000   \n",
              "\n",
              "         LONGITUD        CIV  PK_CALZADA  \n",
              "199141 -74.160000  8003090.0         NaN  \n",
              "199142 -74.167000  8005066.0         NaN  \n",
              "199143 -74.158247  8005839.0         NaN  \n",
              "199144 -74.167000  8011660.0         NaN  \n",
              "199145 -74.168000  8004623.0         NaN  "
            ]
          },
          "execution_count": 5,
          "metadata": {},
          "output_type": "execute_result"
        }
      ],
      "source": [
        "df.tail()"
      ]
    },
    {
      "cell_type": "markdown",
      "metadata": {
        "id": "_FhI-wuLxEhD"
      },
      "source": [
        "#Check column names and types"
      ]
    },
    {
      "cell_type": "markdown",
      "metadata": {
        "id": "Sr5LVtmQpxtM"
      },
      "source": [
        "We translate the column names to have consistency in next steps:"
      ]
    },
    {
      "cell_type": "code",
      "execution_count": 6,
      "metadata": {
        "colab": {
          "base_uri": "https://localhost:8080/"
        },
        "id": "9PnsCwOqm3im",
        "outputId": "45b7fbd4-e1b4-4a43-99c5-d57d86a25d8f"
      },
      "outputs": [
        {
          "data": {
            "text/plain": [
              "Index(['X', 'Y', 'OBJECTID', 'FORMULARIO', 'CODIGO_ACCIDENTE',\n",
              "       'FECHA_OCURRENCIA_ACC', 'ANO_OCURRENCIA_ACC', 'DIRECCION', 'GRAVEDAD',\n",
              "       'CLASE_ACC', 'LOCALIDAD', 'FECHA_HORA_ACC', 'LATITUD', 'LONGITUD',\n",
              "       'CIV', 'PK_CALZADA'],\n",
              "      dtype='object')"
            ]
          },
          "execution_count": 6,
          "metadata": {},
          "output_type": "execute_result"
        }
      ],
      "source": [
        "df.columns"
      ]
    },
    {
      "cell_type": "code",
      "execution_count": 7,
      "metadata": {
        "id": "3LoE0C2Im8Hh"
      },
      "outputs": [],
      "source": [
        "columns_dict = {\"OBJECTID\":\"id\", \n",
        "                \"FORMULARIO\":\"form_id\",\n",
        "                \"CODIGO_ACCIDENTE\": \"accident_code\",\n",
        "                \"FECHA_OCURRENCIA_ACC\": \"date_ocurrence\",\n",
        "                \"ANO_OCURRENCIA_ACC\": \"year_ocurrence\",\n",
        "                \"DIRECCION\":\"address\",\n",
        "                \"GRAVEDAD\":\"severity\",\n",
        "                \"CLASE_ACC\":\"accident_type\",\n",
        "                \"LOCALIDAD\":\"borough\",\n",
        "                \"FECHA_HORA_ACC\":\"full_date\",\n",
        "                \"LATITUD\":\"latitude\",\n",
        "                \"LONGITUD\":\"longitude\",\n",
        "                \"CIV\":\"civ\",\n",
        "                \"PK_CALZADA\":\"road_id\",\n",
        "               }\n",
        "df = df.rename(columns = columns_dict)"
      ]
    },
    {
      "cell_type": "markdown",
      "metadata": {
        "id": "XBEH9bW5nmvK"
      },
      "source": [
        "We inspect the column data types."
      ]
    },
    {
      "cell_type": "code",
      "execution_count": 8,
      "metadata": {
        "colab": {
          "base_uri": "https://localhost:8080/"
        },
        "id": "mXA_f0WSHoNJ",
        "outputId": "12300e7f-72cd-47c1-e189-b9ac41dc339c"
      },
      "outputs": [
        {
          "name": "stdout",
          "output_type": "stream",
          "text": [
            "<class 'pandas.core.frame.DataFrame'>\n",
            "RangeIndex: 199146 entries, 0 to 199145\n",
            "Data columns (total 16 columns):\n",
            " #   Column          Non-Null Count   Dtype  \n",
            "---  ------          --------------   -----  \n",
            " 0   X               199146 non-null  float64\n",
            " 1   Y               199146 non-null  float64\n",
            " 2   id              199146 non-null  int64  \n",
            " 3   form_id         199146 non-null  object \n",
            " 4   accident_code   199146 non-null  int64  \n",
            " 5   date_ocurrence  199146 non-null  object \n",
            " 6   year_ocurrence  199146 non-null  int64  \n",
            " 7   address         199146 non-null  object \n",
            " 8   severity        199146 non-null  object \n",
            " 9   accident_type   199146 non-null  object \n",
            " 10  borough         199100 non-null  object \n",
            " 11  full_date       199146 non-null  object \n",
            " 12  latitude        199146 non-null  float64\n",
            " 13  longitude       199146 non-null  float64\n",
            " 14  civ             197445 non-null  float64\n",
            " 15  road_id         161172 non-null  float64\n",
            "dtypes: float64(6), int64(3), object(7)\n",
            "memory usage: 24.3+ MB\n"
          ]
        }
      ],
      "source": [
        "df.info()"
      ]
    },
    {
      "cell_type": "markdown",
      "metadata": {
        "id": "11UJsBVhwXsA"
      },
      "source": [
        "## Basic summary statistics"
      ]
    },
    {
      "cell_type": "markdown",
      "metadata": {
        "id": "RNyj0q6AI8NP"
      },
      "source": [
        "We want to have an overhead view of the numeric variables in our data"
      ]
    },
    {
      "cell_type": "code",
      "execution_count": 9,
      "metadata": {
        "colab": {
          "base_uri": "https://localhost:8080/",
          "height": 300
        },
        "id": "cD0KD3RAFrZN",
        "outputId": "3755a85e-ed6b-4ece-941c-0f4956ef60c8"
      },
      "outputs": [
        {
          "data": {
            "text/html": [
              "<div>\n",
              "<style scoped>\n",
              "    .dataframe tbody tr th:only-of-type {\n",
              "        vertical-align: middle;\n",
              "    }\n",
              "\n",
              "    .dataframe tbody tr th {\n",
              "        vertical-align: top;\n",
              "    }\n",
              "\n",
              "    .dataframe thead th {\n",
              "        text-align: right;\n",
              "    }\n",
              "</style>\n",
              "<table border=\"1\" class=\"dataframe\">\n",
              "  <thead>\n",
              "    <tr style=\"text-align: right;\">\n",
              "      <th></th>\n",
              "      <th>X</th>\n",
              "      <th>Y</th>\n",
              "      <th>id</th>\n",
              "      <th>accident_code</th>\n",
              "      <th>year_ocurrence</th>\n",
              "      <th>latitude</th>\n",
              "      <th>longitude</th>\n",
              "      <th>civ</th>\n",
              "      <th>road_id</th>\n",
              "    </tr>\n",
              "  </thead>\n",
              "  <tbody>\n",
              "    <tr>\n",
              "      <th>count</th>\n",
              "      <td>199146.000000</td>\n",
              "      <td>199146.000000</td>\n",
              "      <td>199146.000000</td>\n",
              "      <td>1.991460e+05</td>\n",
              "      <td>199146.000000</td>\n",
              "      <td>199146.000000</td>\n",
              "      <td>199146.000000</td>\n",
              "      <td>1.974450e+05</td>\n",
              "      <td>1.611720e+05</td>\n",
              "    </tr>\n",
              "    <tr>\n",
              "      <th>mean</th>\n",
              "      <td>-74.104096</td>\n",
              "      <td>4.649135</td>\n",
              "      <td>246116.268160</td>\n",
              "      <td>7.368238e+06</td>\n",
              "      <td>2017.760106</td>\n",
              "      <td>4.649135</td>\n",
              "      <td>-74.104096</td>\n",
              "      <td>1.379895e+07</td>\n",
              "      <td>7.588678e+06</td>\n",
              "    </tr>\n",
              "    <tr>\n",
              "      <th>std</th>\n",
              "      <td>0.040099</td>\n",
              "      <td>0.057567</td>\n",
              "      <td>128297.631741</td>\n",
              "      <td>3.017820e+06</td>\n",
              "      <td>1.855071</td>\n",
              "      <td>0.057567</td>\n",
              "      <td>0.040099</td>\n",
              "      <td>1.346756e+07</td>\n",
              "      <td>1.840877e+07</td>\n",
              "    </tr>\n",
              "    <tr>\n",
              "      <th>min</th>\n",
              "      <td>-74.228300</td>\n",
              "      <td>4.085800</td>\n",
              "      <td>1.000000</td>\n",
              "      <td>4.401420e+06</td>\n",
              "      <td>2015.000000</td>\n",
              "      <td>4.085800</td>\n",
              "      <td>-74.228300</td>\n",
              "      <td>0.000000e+00</td>\n",
              "      <td>0.000000e+00</td>\n",
              "    </tr>\n",
              "    <tr>\n",
              "      <th>25%</th>\n",
              "      <td>-74.134196</td>\n",
              "      <td>4.608163</td>\n",
              "      <td>135603.750000</td>\n",
              "      <td>4.458053e+06</td>\n",
              "      <td>2016.000000</td>\n",
              "      <td>4.608163</td>\n",
              "      <td>-74.134196</td>\n",
              "      <td>7.004943e+06</td>\n",
              "      <td>4.326700e+04</td>\n",
              "    </tr>\n",
              "    <tr>\n",
              "      <th>50%</th>\n",
              "      <td>-74.103043</td>\n",
              "      <td>4.645415</td>\n",
              "      <td>283027.500000</td>\n",
              "      <td>4.512848e+06</td>\n",
              "      <td>2018.000000</td>\n",
              "      <td>4.645415</td>\n",
              "      <td>-74.103043</td>\n",
              "      <td>1.000758e+07</td>\n",
              "      <td>1.769000e+05</td>\n",
              "    </tr>\n",
              "    <tr>\n",
              "      <th>75%</th>\n",
              "      <td>-74.073008</td>\n",
              "      <td>4.690015</td>\n",
              "      <td>358176.750000</td>\n",
              "      <td>1.049794e+07</td>\n",
              "      <td>2019.000000</td>\n",
              "      <td>4.690015</td>\n",
              "      <td>-74.073007</td>\n",
              "      <td>1.500116e+07</td>\n",
              "      <td>2.354850e+05</td>\n",
              "    </tr>\n",
              "    <tr>\n",
              "      <th>max</th>\n",
              "      <td>-74.011000</td>\n",
              "      <td>4.828041</td>\n",
              "      <td>421911.000000</td>\n",
              "      <td>1.054926e+07</td>\n",
              "      <td>2021.000000</td>\n",
              "      <td>4.828041</td>\n",
              "      <td>-74.011000</td>\n",
              "      <td>5.000962e+07</td>\n",
              "      <td>9.103049e+07</td>\n",
              "    </tr>\n",
              "  </tbody>\n",
              "</table>\n",
              "</div>"
            ],
            "text/plain": [
              "                   X              Y             id  accident_code  \\\n",
              "count  199146.000000  199146.000000  199146.000000   1.991460e+05   \n",
              "mean      -74.104096       4.649135  246116.268160   7.368238e+06   \n",
              "std         0.040099       0.057567  128297.631741   3.017820e+06   \n",
              "min       -74.228300       4.085800       1.000000   4.401420e+06   \n",
              "25%       -74.134196       4.608163  135603.750000   4.458053e+06   \n",
              "50%       -74.103043       4.645415  283027.500000   4.512848e+06   \n",
              "75%       -74.073008       4.690015  358176.750000   1.049794e+07   \n",
              "max       -74.011000       4.828041  421911.000000   1.054926e+07   \n",
              "\n",
              "       year_ocurrence       latitude      longitude           civ  \\\n",
              "count   199146.000000  199146.000000  199146.000000  1.974450e+05   \n",
              "mean      2017.760106       4.649135     -74.104096  1.379895e+07   \n",
              "std          1.855071       0.057567       0.040099  1.346756e+07   \n",
              "min       2015.000000       4.085800     -74.228300  0.000000e+00   \n",
              "25%       2016.000000       4.608163     -74.134196  7.004943e+06   \n",
              "50%       2018.000000       4.645415     -74.103043  1.000758e+07   \n",
              "75%       2019.000000       4.690015     -74.073007  1.500116e+07   \n",
              "max       2021.000000       4.828041     -74.011000  5.000962e+07   \n",
              "\n",
              "            road_id  \n",
              "count  1.611720e+05  \n",
              "mean   7.588678e+06  \n",
              "std    1.840877e+07  \n",
              "min    0.000000e+00  \n",
              "25%    4.326700e+04  \n",
              "50%    1.769000e+05  \n",
              "75%    2.354850e+05  \n",
              "max    9.103049e+07  "
            ]
          },
          "execution_count": 9,
          "metadata": {},
          "output_type": "execute_result"
        }
      ],
      "source": [
        "df.describe()"
      ]
    },
    {
      "cell_type": "markdown",
      "metadata": {
        "id": "Va-Ucyi8KWY3"
      },
      "source": [
        "From the the summary statistics calculated before we can get some insights. First, we note that columns X and Y seems to have the same values as \"longitude\" and \"latitude\" columns. Second, it's possible to know that we have data from 2015 to 2021 according \"year_ocurrence\". However, afterwards we are going to check if we have complete data for those years. Third, maybe zero values from \"civ\" and \"road_id\" could be related with missing data for those fields. "
      ]
    },
    {
      "cell_type": "markdown",
      "metadata": {
        "id": "_ePr5GAxx4fA"
      },
      "source": [
        "##Check for data redundancy\n"
      ]
    },
    {
      "cell_type": "markdown",
      "metadata": {
        "id": "aN1j7NZSnyR-"
      },
      "source": [
        "As we said before, columns X and Y contain the same information as the columns \"longitude\" and \"latitude\" respectively. Therefore, we are going to remove them from the dataset."
      ]
    },
    {
      "cell_type": "code",
      "execution_count": 10,
      "metadata": {
        "id": "wkI4RoCSIcjn"
      },
      "outputs": [],
      "source": [
        "df = df.drop(['X','Y'], axis=1)"
      ]
    },
    {
      "cell_type": "markdown",
      "metadata": {
        "id": "CLvWddkRP6hd"
      },
      "source": [
        "We check if civ and road_id have unique identifiers values or if many accidents could be the same civ:\n",
        "\n"
      ]
    },
    {
      "cell_type": "code",
      "execution_count": 11,
      "metadata": {
        "colab": {
          "base_uri": "https://localhost:8080/"
        },
        "id": "lJgCT7VxUTAY",
        "outputId": "b1db5242-929f-4567-ec4e-43231998ec16"
      },
      "outputs": [
        {
          "data": {
            "text/plain": [
              "(199146, 38420)"
            ]
          },
          "execution_count": 11,
          "metadata": {},
          "output_type": "execute_result"
        }
      ],
      "source": [
        "len(df), len(df['civ'].unique())"
      ]
    },
    {
      "cell_type": "code",
      "execution_count": 12,
      "metadata": {
        "colab": {
          "base_uri": "https://localhost:8080/"
        },
        "id": "mBw8IAicVA4r",
        "outputId": "cea57dde-1b01-498f-bb14-c8cf95642c82"
      },
      "outputs": [
        {
          "data": {
            "text/plain": [
              "(199146, 37954)"
            ]
          },
          "execution_count": 12,
          "metadata": {},
          "output_type": "execute_result"
        }
      ],
      "source": [
        "len(df), len(df['road_id'].unique())"
      ]
    },
    {
      "cell_type": "markdown",
      "metadata": {
        "id": "2eOjEgvtQ6j8"
      },
      "source": [
        "We note that civ and road_id have values that could be represent many accidents."
      ]
    },
    {
      "cell_type": "markdown",
      "metadata": {
        "id": "hglN_Ja7obIy"
      },
      "source": [
        "We extract the date in the column ```date_ocurrence``` by removing the hour part in order to have date with and without hour. Then, we transform it into datetime format."
      ]
    },
    {
      "cell_type": "markdown",
      "metadata": {
        "id": "tg3a4rK1oHtV"
      },
      "source": [
        "## Checking for missing values"
      ]
    },
    {
      "cell_type": "code",
      "execution_count": 13,
      "metadata": {
        "colab": {
          "base_uri": "https://localhost:8080/"
        },
        "id": "w3vcq_TO9M_1",
        "outputId": "44c2aeb5-3b31-453d-bfe7-108ca519a5cf"
      },
      "outputs": [
        {
          "data": {
            "text/plain": [
              "id                    0\n",
              "form_id               0\n",
              "accident_code         0\n",
              "date_ocurrence        0\n",
              "year_ocurrence        0\n",
              "address               0\n",
              "severity              0\n",
              "accident_type         0\n",
              "borough              46\n",
              "full_date             0\n",
              "latitude              0\n",
              "longitude             0\n",
              "civ                1701\n",
              "road_id           37974\n",
              "dtype: int64"
            ]
          },
          "execution_count": 13,
          "metadata": {},
          "output_type": "execute_result"
        }
      ],
      "source": [
        "counting_NAs = df.isna().sum()\n",
        "counting_NAs"
      ]
    },
    {
      "cell_type": "markdown",
      "metadata": {
        "id": "dA_pidops3ml"
      },
      "source": [
        "\"civ\" and \"road_id\" columns have a big number of NAs and it's difficult try to fill those values from the background. Maybe, for \"borough\" we have the change to get the correct value from \"latitude\" and \"longitude\" columns."
      ]
    },
    {
      "cell_type": "markdown",
      "metadata": {
        "id": "EtRiVrJCt0ne"
      },
      "source": [
        "#Cheking for misspelled text"
      ]
    },
    {
      "cell_type": "markdown",
      "metadata": {
        "id": "JBJBTZ1apfeN"
      },
      "source": [
        "In order to check for mispelled text, the categorical data of columns ```accident_type```, ```borough``` and ```severity ``` were surveyed to filter out unique values."
      ]
    },
    {
      "cell_type": "code",
      "execution_count": 14,
      "metadata": {
        "colab": {
          "base_uri": "https://localhost:8080/"
        },
        "id": "TNPuKwsvTh0F",
        "outputId": "cb0d07f9-61ea-461d-b2a4-677b4b313d81"
      },
      "outputs": [
        {
          "data": {
            "text/plain": [
              "array(['CHOQUE', 'OTRO', 'ATROPELLO', 'VOLCAMIENTO', 'CAIDA DE OCUPANTE',\n",
              "       'AUTOLESION', 'INCENDIO'], dtype=object)"
            ]
          },
          "execution_count": 14,
          "metadata": {},
          "output_type": "execute_result"
        }
      ],
      "source": [
        "df['accident_type'].unique()"
      ]
    },
    {
      "cell_type": "code",
      "execution_count": 15,
      "metadata": {
        "id": "rEHb5JB_wrIZ"
      },
      "outputs": [],
      "source": [
        "rename_dict_acctype = {\"ATROPELLO\":\"Run-over\", \"AUTOLESION\":\"Self-harm\",\n",
        "                        \"CAIDA DE OCUPANTE\":\"Passenger falling\", \"CHOQUE\":\"Crash\", \n",
        "                        \"INCENDIO\":\"Fire\",\"OTRO\":\"Other\", \"VOLCAMIENTO\":\"Overturn\"}\n",
        "df = df.replace({\"accident_type\": rename_dict_acctype})\n"
      ]
    },
    {
      "cell_type": "code",
      "execution_count": 16,
      "metadata": {
        "colab": {
          "base_uri": "https://localhost:8080/"
        },
        "id": "CDNjyJVqTvto",
        "outputId": "52294804-7a8a-4ed2-fcd8-0999148a957c"
      },
      "outputs": [
        {
          "data": {
            "text/plain": [
              "array(['ENGATIVA', 'PUENTE ARANDA', 'USAQUEN', 'CIUDAD BOLIVAR',\n",
              "       'LOS MARTIRES', 'SUBA', 'FONTIBON', 'USME', 'TEUSAQUILLO',\n",
              "       'BARRIOS UNIDOS', 'RAFAEL URIBE URIBE', 'CHAPINERO', 'KENNEDY',\n",
              "       'ANTONIO NARINO', 'BOSA', 'SAN CRISTOBAL', 'CANDELARIA',\n",
              "       'TUNJUELITO', 'SANTA FE', nan, 'SUMAPAZ'], dtype=object)"
            ]
          },
          "execution_count": 16,
          "metadata": {},
          "output_type": "execute_result"
        }
      ],
      "source": [
        "df['borough'].unique()"
      ]
    },
    {
      "cell_type": "code",
      "execution_count": 17,
      "metadata": {
        "id": "-DlLfpsM0KaT"
      },
      "outputs": [],
      "source": [
        "rename_dict_boroughs = {\"ANTONIO NARINO\": \"ANTONIO NARIÑO\"}\n",
        "df = df.replace({\"borough\": rename_dict_boroughs})"
      ]
    },
    {
      "cell_type": "code",
      "execution_count": 18,
      "metadata": {
        "colab": {
          "base_uri": "https://localhost:8080/"
        },
        "id": "3A8KfIbUT1CY",
        "outputId": "dde4ffcd-e755-48e2-e8f2-224907d55937"
      },
      "outputs": [
        {
          "data": {
            "text/plain": [
              "array(['SOLO DANOS', 'CON HERIDOS', 'CON MUERTOS'], dtype=object)"
            ]
          },
          "execution_count": 18,
          "metadata": {},
          "output_type": "execute_result"
        }
      ],
      "source": [
        "df['severity'].unique()"
      ]
    },
    {
      "cell_type": "code",
      "execution_count": 19,
      "metadata": {
        "id": "s6r_AfyTllFJ"
      },
      "outputs": [],
      "source": [
        "dict_sev = {\"SOLO DANOS\": \"Only damages\", \"CON HERIDOS\":\"With Injured\", \"CON MUERTOS\":\"With deceased\"}\n",
        "df = df.replace({\"severity\": dict_sev})"
      ]
    },
    {
      "cell_type": "markdown",
      "metadata": {
        "id": "0w9uk3PYSz7G"
      },
      "source": [
        "As we note in the last lines of codes, we don´t have mispelling problems, but we translate them before continue the process. "
      ]
    },
    {
      "cell_type": "markdown",
      "metadata": {
        "id": "TWJbcfPqW6Qg"
      },
      "source": [
        "#Exploring categorical variables"
      ]
    },
    {
      "cell_type": "markdown",
      "metadata": {
        "id": "t4xtjTYNsQwy"
      },
      "source": [
        "We start looking the distribution of accidents according to \"Severity\":"
      ]
    },
    {
      "cell_type": "code",
      "execution_count": 20,
      "metadata": {
        "id": "012C-MvHYQ57"
      },
      "outputs": [],
      "source": [
        "df['Count'] = 1"
      ]
    },
    {
      "cell_type": "code",
      "execution_count": 21,
      "metadata": {
        "colab": {
          "base_uri": "https://localhost:8080/",
          "height": 143
        },
        "id": "Kpapj7yUadii",
        "outputId": "ad2e7522-ae78-443e-f679-c4b8d0cbc75f"
      },
      "outputs": [
        {
          "data": {
            "text/html": [
              "<div>\n",
              "<style scoped>\n",
              "    .dataframe tbody tr th:only-of-type {\n",
              "        vertical-align: middle;\n",
              "    }\n",
              "\n",
              "    .dataframe tbody tr th {\n",
              "        vertical-align: top;\n",
              "    }\n",
              "\n",
              "    .dataframe thead th {\n",
              "        text-align: right;\n",
              "    }\n",
              "</style>\n",
              "<table border=\"1\" class=\"dataframe\">\n",
              "  <thead>\n",
              "    <tr style=\"text-align: right;\">\n",
              "      <th></th>\n",
              "      <th>severity</th>\n",
              "      <th>Count</th>\n",
              "      <th>percentage</th>\n",
              "    </tr>\n",
              "  </thead>\n",
              "  <tbody>\n",
              "    <tr>\n",
              "      <th>0</th>\n",
              "      <td>Only damages</td>\n",
              "      <td>128207</td>\n",
              "      <td>64%</td>\n",
              "    </tr>\n",
              "    <tr>\n",
              "      <th>1</th>\n",
              "      <td>With Injured</td>\n",
              "      <td>67700</td>\n",
              "      <td>33%</td>\n",
              "    </tr>\n",
              "    <tr>\n",
              "      <th>2</th>\n",
              "      <td>With deceased</td>\n",
              "      <td>3239</td>\n",
              "      <td>1%</td>\n",
              "    </tr>\n",
              "  </tbody>\n",
              "</table>\n",
              "</div>"
            ],
            "text/plain": [
              "        severity   Count percentage\n",
              "0   Only damages  128207        64%\n",
              "1   With Injured   67700        33%\n",
              "2  With deceased    3239         1%"
            ]
          },
          "execution_count": 21,
          "metadata": {},
          "output_type": "execute_result"
        }
      ],
      "source": [
        "from pandas.core.frame import DataFrame\n",
        "df_sev = df.groupby(['severity'])[\"Count\"].sum()\n",
        "df_sev= DataFrame(df_sev).reset_index()\n",
        "df_sev[\"percentage\"] = ((df_sev[\"Count\"] / df_sev[\"Count\"].sum())*100).astype(int).astype(str) + '%'\n",
        "df_sev"
      ]
    },
    {
      "cell_type": "code",
      "execution_count": 22,
      "metadata": {
        "colab": {
          "base_uri": "https://localhost:8080/",
          "height": 542
        },
        "id": "-_9TWEcFgQTX",
        "outputId": "fc6d5ce9-6d8b-4731-9522-fbf83b7bffa1"
      },
      "outputs": [
        {
          "data": {
            "image/png": "[encoded data removed]"
          },
          "metadata": {},
          "output_type": "display_data"
        }
      ],
      "source": [
        "fig_severity = px.bar(df_sev, x=df_sev.severity, y=df_sev.Count, color=\"severity\", title=\"Accidents by Severity\", text= \"percentage\")\n",
        "fig_severity.show(renderer=\"png\")"
      ]
    },
    {
      "cell_type": "markdown",
      "metadata": {
        "id": "BX-6Jtd1wF8H"
      },
      "source": [
        "For the whole period of analysis we can see that most accidents (64%) only represent material damages."
      ]
    },
    {
      "cell_type": "markdown",
      "metadata": {
        "id": "pA4MFXXWxFCA"
      },
      "source": [
        "Now, We are going to explore the number of accidents by type:"
      ]
    },
    {
      "cell_type": "code",
      "execution_count": 23,
      "metadata": {
        "colab": {
          "base_uri": "https://localhost:8080/",
          "height": 269
        },
        "id": "NXHICXzgxkXc",
        "outputId": "06d71869-14c8-4336-db3f-5e70fe246f21"
      },
      "outputs": [
        {
          "data": {
            "text/html": [
              "<div>\n",
              "<style scoped>\n",
              "    .dataframe tbody tr th:only-of-type {\n",
              "        vertical-align: middle;\n",
              "    }\n",
              "\n",
              "    .dataframe tbody tr th {\n",
              "        vertical-align: top;\n",
              "    }\n",
              "\n",
              "    .dataframe thead th {\n",
              "        text-align: right;\n",
              "    }\n",
              "</style>\n",
              "<table border=\"1\" class=\"dataframe\">\n",
              "  <thead>\n",
              "    <tr style=\"text-align: right;\">\n",
              "      <th></th>\n",
              "      <th>accident_type</th>\n",
              "      <th>Count</th>\n",
              "      <th>percentage</th>\n",
              "    </tr>\n",
              "  </thead>\n",
              "  <tbody>\n",
              "    <tr>\n",
              "      <th>0</th>\n",
              "      <td>Crash</td>\n",
              "      <td>170802</td>\n",
              "      <td>85%</td>\n",
              "    </tr>\n",
              "    <tr>\n",
              "      <th>5</th>\n",
              "      <td>Run-over</td>\n",
              "      <td>20138</td>\n",
              "      <td>10%</td>\n",
              "    </tr>\n",
              "    <tr>\n",
              "      <th>4</th>\n",
              "      <td>Passenger falling</td>\n",
              "      <td>4639</td>\n",
              "      <td>2%</td>\n",
              "    </tr>\n",
              "    <tr>\n",
              "      <th>3</th>\n",
              "      <td>Overturn</td>\n",
              "      <td>2729</td>\n",
              "      <td>1%</td>\n",
              "    </tr>\n",
              "    <tr>\n",
              "      <th>2</th>\n",
              "      <td>Other</td>\n",
              "      <td>804</td>\n",
              "      <td>0%</td>\n",
              "    </tr>\n",
              "    <tr>\n",
              "      <th>1</th>\n",
              "      <td>Fire</td>\n",
              "      <td>24</td>\n",
              "      <td>0%</td>\n",
              "    </tr>\n",
              "    <tr>\n",
              "      <th>6</th>\n",
              "      <td>Self-harm</td>\n",
              "      <td>10</td>\n",
              "      <td>0%</td>\n",
              "    </tr>\n",
              "  </tbody>\n",
              "</table>\n",
              "</div>"
            ],
            "text/plain": [
              "       accident_type   Count percentage\n",
              "0              Crash  170802        85%\n",
              "5           Run-over   20138        10%\n",
              "4  Passenger falling    4639         2%\n",
              "3           Overturn    2729         1%\n",
              "2              Other     804         0%\n",
              "1               Fire      24         0%\n",
              "6          Self-harm      10         0%"
            ]
          },
          "execution_count": 23,
          "metadata": {},
          "output_type": "execute_result"
        }
      ],
      "source": [
        "df_type = df.groupby(['accident_type'])[\"Count\"].sum()\n",
        "df_type= DataFrame(df_type).reset_index()\n",
        "df_type = df_type.sort_values(\"Count\", ascending = False)\n",
        "df_type[\"percentage\"] = ((df_type[\"Count\"] / df_type[\"Count\"].sum())*100).astype(int).astype(str) + '%'\n",
        "df_type"
      ]
    },
    {
      "cell_type": "code",
      "execution_count": 24,
      "metadata": {
        "colab": {
          "base_uri": "https://localhost:8080/",
          "height": 542
        },
        "id": "BfjBhM120t_w",
        "outputId": "d3256ff3-1fd4-4658-eb44-772e82189618"
      },
      "outputs": [
        {
          "data": {
            "application/vnd.plotly.v1+json": {
              "config": {
                "plotlyServerURL": "https://plot.ly"
              },
              "data": [
                {
                  "alignmentgroup": "True",
                  "hovertemplate": "accident_type=%{x}<br>Count=%{y}<br>percentage=%{text}<extra></extra>",
                  "legendgroup": "Crash",
                  "marker": {
                    "color": "#636efa",
                    "pattern": {
                      "shape": ""
                    }
                  },
                  "name": "Crash",
                  "offsetgroup": "Crash",
                  "orientation": "v",
                  "showlegend": true,
                  "text": [
                    "85%"
                  ],
                  "textposition": "auto",
                  "type": "bar",
                  "x": [
                    "Crash"
                  ],
                  "xaxis": "x",
                  "y": [
                    170802
                  ],
                  "yaxis": "y"
                },
                {
                  "alignmentgroup": "True",
                  "hovertemplate": "accident_type=%{x}<br>Count=%{y}<br>percentage=%{text}<extra></extra>",
                  "legendgroup": "Run-over",
                  "marker": {
                    "color": "#EF553B",
                    "pattern": {
                      "shape": ""
                    }
                  },
                  "name": "Run-over",
                  "offsetgroup": "Run-over",
                  "orientation": "v",
                  "showlegend": true,
                  "text": [
                    "10%"
                  ],
                  "textposition": "auto",
                  "type": "bar",
                  "x": [
                    "Run-over"
                  ],
                  "xaxis": "x",
                  "y": [
                    20138
                  ],
                  "yaxis": "y"
                },
                {
                  "alignmentgroup": "True",
                  "hovertemplate": "accident_type=%{x}<br>Count=%{y}<br>percentage=%{text}<extra></extra>",
                  "legendgroup": "Passenger falling",
                  "marker": {
                    "color": "#00cc96",
                    "pattern": {
                      "shape": ""
                    }
                  },
                  "name": "Passenger falling",
                  "offsetgroup": "Passenger falling",
                  "orientation": "v",
                  "showlegend": true,
                  "text": [
                    "2%"
                  ],
                  "textposition": "auto",
                  "type": "bar",
                  "x": [
                    "Passenger falling"
                  ],
                  "xaxis": "x",
                  "y": [
                    4639
                  ],
                  "yaxis": "y"
                },
                {
                  "alignmentgroup": "True",
                  "hovertemplate": "accident_type=%{x}<br>Count=%{y}<br>percentage=%{text}<extra></extra>",
                  "legendgroup": "Overturn",
                  "marker": {
                    "color": "#ab63fa",
                    "pattern": {
                      "shape": ""
                    }
                  },
                  "name": "Overturn",
                  "offsetgroup": "Overturn",
                  "orientation": "v",
                  "showlegend": true,
                  "text": [
                    "1%"
                  ],
                  "textposition": "auto",
                  "type": "bar",
                  "x": [
                    "Overturn"
                  ],
                  "xaxis": "x",
                  "y": [
                    2729
                  ],
                  "yaxis": "y"
                },
                {
                  "alignmentgroup": "True",
                  "hovertemplate": "accident_type=%{x}<br>Count=%{y}<br>percentage=%{text}<extra></extra>",
                  "legendgroup": "Other",
                  "marker": {
                    "color": "#FFA15A",
                    "pattern": {
                      "shape": ""
                    }
                  },
                  "name": "Other",
                  "offsetgroup": "Other",
                  "orientation": "v",
                  "showlegend": true,
                  "text": [
                    "0%"
                  ],
                  "textposition": "auto",
                  "type": "bar",
                  "x": [
                    "Other"
                  ],
                  "xaxis": "x",
                  "y": [
                    804
                  ],
                  "yaxis": "y"
                },
                {
                  "alignmentgroup": "True",
                  "hovertemplate": "accident_type=%{x}<br>Count=%{y}<br>percentage=%{text}<extra></extra>",
                  "legendgroup": "Fire",
                  "marker": {
                    "color": "#19d3f3",
                    "pattern": {
                      "shape": ""
                    }
                  },
                  "name": "Fire",
                  "offsetgroup": "Fire",
                  "orientation": "v",
                  "showlegend": true,
                  "text": [
                    "0%"
                  ],
                  "textposition": "auto",
                  "type": "bar",
                  "x": [
                    "Fire"
                  ],
                  "xaxis": "x",
                  "y": [
                    24
                  ],
                  "yaxis": "y"
                },
                {
                  "alignmentgroup": "True",
                  "hovertemplate": "accident_type=%{x}<br>Count=%{y}<br>percentage=%{text}<extra></extra>",
                  "legendgroup": "Self-harm",
                  "marker": {
                    "color": "#FF6692",
                    "pattern": {
                      "shape": ""
                    }
                  },
                  "name": "Self-harm",
                  "offsetgroup": "Self-harm",
                  "orientation": "v",
                  "showlegend": true,
                  "text": [
                    "0%"
                  ],
                  "textposition": "auto",
                  "type": "bar",
                  "x": [
                    "Self-harm"
                  ],
                  "xaxis": "x",
                  "y": [
                    10
                  ],
                  "yaxis": "y"
                }
              ],
              "layout": {
                "barmode": "relative",
                "legend": {
                  "title": {
                    "text": "accident_type"
                  },
                  "tracegroupgap": 0
                },
                "template": {
                  "data": {
                    "bar": [
                      {
                        "error_x": {
                          "color": "#2a3f5f"
                        },
                        "error_y": {
                          "color": "#2a3f5f"
                        },
                        "marker": {
                          "line": {
                            "color": "#E5ECF6",
                            "width": 0.5
                          },
                          "pattern": {
                            "fillmode": "overlay",
                            "size": 10,
                            "solidity": 0.2
                          }
                        },
                        "type": "bar"
                      }
                    ],
                    "barpolar": [
                      {
                        "marker": {
                          "line": {
                            "color": "#E5ECF6",
                            "width": 0.5
                          },
                          "pattern": {
                            "fillmode": "overlay",
                            "size": 10,
                            "solidity": 0.2
                          }
                        },
                        "type": "barpolar"
                      }
                    ],
                    "carpet": [
                      {
                        "aaxis": {
                          "endlinecolor": "#2a3f5f",
                          "gridcolor": "white",
                          "linecolor": "white",
                          "minorgridcolor": "white",
                          "startlinecolor": "#2a3f5f"
                        },
                        "baxis": {
                          "endlinecolor": "#2a3f5f",
                          "gridcolor": "white",
                          "linecolor": "white",
                          "minorgridcolor": "white",
                          "startlinecolor": "#2a3f5f"
                        },
                        "type": "carpet"
                      }
                    ],
                    "choropleth": [
                      {
                        "colorbar": {
                          "outlinewidth": 0,
                          "ticks": ""
                        },
                        "type": "choropleth"
                      }
                    ],
                    "contour": [
                      {
                        "colorbar": {
                          "outlinewidth": 0,
                          "ticks": ""
                        },
                        "colorscale": [
                          [
                            0,
                            "#0d0887"
                          ],
                          [
                            0.1111111111111111,
                            "#46039f"
                          ],
                          [
                            0.2222222222222222,
                            "#7201a8"
                          ],
                          [
                            0.3333333333333333,
                            "#9c179e"
                          ],
                          [
                            0.4444444444444444,
                            "#bd3786"
                          ],
                          [
                            0.5555555555555556,
                            "#d8576b"
                          ],
                          [
                            0.6666666666666666,
                            "#ed7953"
                          ],
                          [
                            0.7777777777777778,
                            "#fb9f3a"
                          ],
                          [
                            0.8888888888888888,
                            "#fdca26"
                          ],
                          [
                            1,
                            "#f0f921"
                          ]
                        ],
                        "type": "contour"
                      }
                    ],
                    "contourcarpet": [
                      {
                        "colorbar": {
                          "outlinewidth": 0,
                          "ticks": ""
                        },
                        "type": "contourcarpet"
                      }
                    ],
                    "heatmap": [
                      {
                        "colorbar": {
                          "outlinewidth": 0,
                          "ticks": ""
                        },
                        "colorscale": [
                          [
                            0,
                            "#0d0887"
                          ],
                          [
                            0.1111111111111111,
                            "#46039f"
                          ],
                          [
                            0.2222222222222222,
                            "#7201a8"
                          ],
                          [
                            0.3333333333333333,
                            "#9c179e"
                          ],
                          [
                            0.4444444444444444,
                            "#bd3786"
                          ],
                          [
                            0.5555555555555556,
                            "#d8576b"
                          ],
                          [
                            0.6666666666666666,
                            "#ed7953"
                          ],
                          [
                            0.7777777777777778,
                            "#fb9f3a"
                          ],
                          [
                            0.8888888888888888,
                            "#fdca26"
                          ],
                          [
                            1,
                            "#f0f921"
                          ]
                        ],
                        "type": "heatmap"
                      }
                    ],
                    "heatmapgl": [
                      {
                        "colorbar": {
                          "outlinewidth": 0,
                          "ticks": ""
                        },
                        "colorscale": [
                          [
                            0,
                            "#0d0887"
                          ],
                          [
                            0.1111111111111111,
                            "#46039f"
                          ],
                          [
                            0.2222222222222222,
                            "#7201a8"
                          ],
                          [
                            0.3333333333333333,
                            "#9c179e"
                          ],
                          [
                            0.4444444444444444,
                            "#bd3786"
                          ],
                          [
                            0.5555555555555556,
                            "#d8576b"
                          ],
                          [
                            0.6666666666666666,
                            "#ed7953"
                          ],
                          [
                            0.7777777777777778,
                            "#fb9f3a"
                          ],
                          [
                            0.8888888888888888,
                            "#fdca26"
                          ],
                          [
                            1,
                            "#f0f921"
                          ]
                        ],
                        "type": "heatmapgl"
                      }
                    ],
                    "histogram": [
                      {
                        "marker": {
                          "pattern": {
                            "fillmode": "overlay",
                            "size": 10,
                            "solidity": 0.2
                          }
                        },
                        "type": "histogram"
                      }
                    ],
                    "histogram2d": [
                      {
                        "colorbar": {
                          "outlinewidth": 0,
                          "ticks": ""
                        },
                        "colorscale": [
                          [
                            0,
                            "#0d0887"
                          ],
                          [
                            0.1111111111111111,
                            "#46039f"
                          ],
                          [
                            0.2222222222222222,
                            "#7201a8"
                          ],
                          [
                            0.3333333333333333,
                            "#9c179e"
                          ],
                          [
                            0.4444444444444444,
                            "#bd3786"
                          ],
                          [
                            0.5555555555555556,
                            "#d8576b"
                          ],
                          [
                            0.6666666666666666,
                            "#ed7953"
                          ],
                          [
                            0.7777777777777778,
                            "#fb9f3a"
                          ],
                          [
                            0.8888888888888888,
                            "#fdca26"
                          ],
                          [
                            1,
                            "#f0f921"
                          ]
                        ],
                        "type": "histogram2d"
                      }
                    ],
                    "histogram2dcontour": [
                      {
                        "colorbar": {
                          "outlinewidth": 0,
                          "ticks": ""
                        },
                        "colorscale": [
                          [
                            0,
                            "#0d0887"
                          ],
                          [
                            0.1111111111111111,
                            "#46039f"
                          ],
                          [
                            0.2222222222222222,
                            "#7201a8"
                          ],
                          [
                            0.3333333333333333,
                            "#9c179e"
                          ],
                          [
                            0.4444444444444444,
                            "#bd3786"
                          ],
                          [
                            0.5555555555555556,
                            "#d8576b"
                          ],
                          [
                            0.6666666666666666,
                            "#ed7953"
                          ],
                          [
                            0.7777777777777778,
                            "#fb9f3a"
                          ],
                          [
                            0.8888888888888888,
                            "#fdca26"
                          ],
                          [
                            1,
                            "#f0f921"
                          ]
                        ],
                        "type": "histogram2dcontour"
                      }
                    ],
                    "mesh3d": [
                      {
                        "colorbar": {
                          "outlinewidth": 0,
                          "ticks": ""
                        },
                        "type": "mesh3d"
                      }
                    ],
                    "parcoords": [
                      {
                        "line": {
                          "colorbar": {
                            "outlinewidth": 0,
                            "ticks": ""
                          }
                        },
                        "type": "parcoords"
                      }
                    ],
                    "pie": [
                      {
                        "automargin": true,
                        "type": "pie"
                      }
                    ],
                    "scatter": [
                      {
                        "fillpattern": {
                          "fillmode": "overlay",
                          "size": 10,
                          "solidity": 0.2
                        },
                        "type": "scatter"
                      }
                    ],
                    "scatter3d": [
                      {
                        "line": {
                          "colorbar": {
                            "outlinewidth": 0,
                            "ticks": ""
                          }
                        },
                        "marker": {
                          "colorbar": {
                            "outlinewidth": 0,
                            "ticks": ""
                          }
                        },
                        "type": "scatter3d"
                      }
                    ],
                    "scattercarpet": [
                      {
                        "marker": {
                          "colorbar": {
                            "outlinewidth": 0,
                            "ticks": ""
                          }
                        },
                        "type": "scattercarpet"
                      }
                    ],
                    "scattergeo": [
                      {
                        "marker": {
                          "colorbar": {
                            "outlinewidth": 0,
                            "ticks": ""
                          }
                        },
                        "type": "scattergeo"
                      }
                    ],
                    "scattergl": [
                      {
                        "marker": {
                          "colorbar": {
                            "outlinewidth": 0,
                            "ticks": ""
                          }
                        },
                        "type": "scattergl"
                      }
                    ],
                    "scattermapbox": [
                      {
                        "marker": {
                          "colorbar": {
                            "outlinewidth": 0,
                            "ticks": ""
                          }
                        },
                        "type": "scattermapbox"
                      }
                    ],
                    "scatterpolar": [
                      {
                        "marker": {
                          "colorbar": {
                            "outlinewidth": 0,
                            "ticks": ""
                          }
                        },
                        "type": "scatterpolar"
                      }
                    ],
                    "scatterpolargl": [
                      {
                        "marker": {
                          "colorbar": {
                            "outlinewidth": 0,
                            "ticks": ""
                          }
                        },
                        "type": "scatterpolargl"
                      }
                    ],
                    "scatterternary": [
                      {
                        "marker": {
                          "colorbar": {
                            "outlinewidth": 0,
                            "ticks": ""
                          }
                        },
                        "type": "scatterternary"
                      }
                    ],
                    "surface": [
                      {
                        "colorbar": {
                          "outlinewidth": 0,
                          "ticks": ""
                        },
                        "colorscale": [
                          [
                            0,
                            "#0d0887"
                          ],
                          [
                            0.1111111111111111,
                            "#46039f"
                          ],
                          [
                            0.2222222222222222,
                            "#7201a8"
                          ],
                          [
                            0.3333333333333333,
                            "#9c179e"
                          ],
                          [
                            0.4444444444444444,
                            "#bd3786"
                          ],
                          [
                            0.5555555555555556,
                            "#d8576b"
                          ],
                          [
                            0.6666666666666666,
                            "#ed7953"
                          ],
                          [
                            0.7777777777777778,
                            "#fb9f3a"
                          ],
                          [
                            0.8888888888888888,
                            "#fdca26"
                          ],
                          [
                            1,
                            "#f0f921"
                          ]
                        ],
                        "type": "surface"
                      }
                    ],
                    "table": [
                      {
                        "cells": {
                          "fill": {
                            "color": "#EBF0F8"
                          },
                          "line": {
                            "color": "white"
                          }
                        },
                        "header": {
                          "fill": {
                            "color": "#C8D4E3"
                          },
                          "line": {
                            "color": "white"
                          }
                        },
                        "type": "table"
                      }
                    ]
                  },
                  "layout": {
                    "annotationdefaults": {
                      "arrowcolor": "#2a3f5f",
                      "arrowhead": 0,
                      "arrowwidth": 1
                    },
                    "autotypenumbers": "strict",
                    "coloraxis": {
                      "colorbar": {
                        "outlinewidth": 0,
                        "ticks": ""
                      }
                    },
                    "colorscale": {
                      "diverging": [
                        [
                          0,
                          "#8e0152"
                        ],
                        [
                          0.1,
                          "#c51b7d"
                        ],
                        [
                          0.2,
                          "#de77ae"
                        ],
                        [
                          0.3,
                          "#f1b6da"
                        ],
                        [
                          0.4,
                          "#fde0ef"
                        ],
                        [
                          0.5,
                          "#f7f7f7"
                        ],
                        [
                          0.6,
                          "#e6f5d0"
                        ],
                        [
                          0.7,
                          "#b8e186"
                        ],
                        [
                          0.8,
                          "#7fbc41"
                        ],
                        [
                          0.9,
                          "#4d9221"
                        ],
                        [
                          1,
                          "#276419"
                        ]
                      ],
                      "sequential": [
                        [
                          0,
                          "#0d0887"
                        ],
                        [
                          0.1111111111111111,
                          "#46039f"
                        ],
                        [
                          0.2222222222222222,
                          "#7201a8"
                        ],
                        [
                          0.3333333333333333,
                          "#9c179e"
                        ],
                        [
                          0.4444444444444444,
                          "#bd3786"
                        ],
                        [
                          0.5555555555555556,
                          "#d8576b"
                        ],
                        [
                          0.6666666666666666,
                          "#ed7953"
                        ],
                        [
                          0.7777777777777778,
                          "#fb9f3a"
                        ],
                        [
                          0.8888888888888888,
                          "#fdca26"
                        ],
                        [
                          1,
                          "#f0f921"
                        ]
                      ],
                      "sequentialminus": [
                        [
                          0,
                          "#0d0887"
                        ],
                        [
                          0.1111111111111111,
                          "#46039f"
                        ],
                        [
                          0.2222222222222222,
                          "#7201a8"
                        ],
                        [
                          0.3333333333333333,
                          "#9c179e"
                        ],
                        [
                          0.4444444444444444,
                          "#bd3786"
                        ],
                        [
                          0.5555555555555556,
                          "#d8576b"
                        ],
                        [
                          0.6666666666666666,
                          "#ed7953"
                        ],
                        [
                          0.7777777777777778,
                          "#fb9f3a"
                        ],
                        [
                          0.8888888888888888,
                          "#fdca26"
                        ],
                        [
                          1,
                          "#f0f921"
                        ]
                      ]
                    },
                    "colorway": [
                      "#636efa",
                      "#EF553B",
                      "#00cc96",
                      "#ab63fa",
                      "#FFA15A",
                      "#19d3f3",
                      "#FF6692",
                      "#B6E880",
                      "#FF97FF",
                      "#FECB52"
                    ],
                    "font": {
                      "color": "#2a3f5f"
                    },
                    "geo": {
                      "bgcolor": "white",
                      "lakecolor": "white",
                      "landcolor": "#E5ECF6",
                      "showlakes": true,
                      "showland": true,
                      "subunitcolor": "white"
                    },
                    "hoverlabel": {
                      "align": "left"
                    },
                    "hovermode": "closest",
                    "mapbox": {
                      "style": "light"
                    },
                    "paper_bgcolor": "white",
                    "plot_bgcolor": "#E5ECF6",
                    "polar": {
                      "angularaxis": {
                        "gridcolor": "white",
                        "linecolor": "white",
                        "ticks": ""
                      },
                      "bgcolor": "#E5ECF6",
                      "radialaxis": {
                        "gridcolor": "white",
                        "linecolor": "white",
                        "ticks": ""
                      }
                    },
                    "scene": {
                      "xaxis": {
                        "backgroundcolor": "#E5ECF6",
                        "gridcolor": "white",
                        "gridwidth": 2,
                        "linecolor": "white",
                        "showbackground": true,
                        "ticks": "",
                        "zerolinecolor": "white"
                      },
                      "yaxis": {
                        "backgroundcolor": "#E5ECF6",
                        "gridcolor": "white",
                        "gridwidth": 2,
                        "linecolor": "white",
                        "showbackground": true,
                        "ticks": "",
                        "zerolinecolor": "white"
                      },
                      "zaxis": {
                        "backgroundcolor": "#E5ECF6",
                        "gridcolor": "white",
                        "gridwidth": 2,
                        "linecolor": "white",
                        "showbackground": true,
                        "ticks": "",
                        "zerolinecolor": "white"
                      }
                    },
                    "shapedefaults": {
                      "line": {
                        "color": "#2a3f5f"
                      }
                    },
                    "ternary": {
                      "aaxis": {
                        "gridcolor": "white",
                        "linecolor": "white",
                        "ticks": ""
                      },
                      "baxis": {
                        "gridcolor": "white",
                        "linecolor": "white",
                        "ticks": ""
                      },
                      "bgcolor": "#E5ECF6",
                      "caxis": {
                        "gridcolor": "white",
                        "linecolor": "white",
                        "ticks": ""
                      }
                    },
                    "title": {
                      "x": 0.05
                    },
                    "xaxis": {
                      "automargin": true,
                      "gridcolor": "white",
                      "linecolor": "white",
                      "ticks": "",
                      "title": {
                        "standoff": 15
                      },
                      "zerolinecolor": "white",
                      "zerolinewidth": 2
                    },
                    "yaxis": {
                      "automargin": true,
                      "gridcolor": "white",
                      "linecolor": "white",
                      "ticks": "",
                      "title": {
                        "standoff": 15
                      },
                      "zerolinecolor": "white",
                      "zerolinewidth": 2
                    }
                  }
                },
                "title": {
                  "text": "Accidents by type"
                },
                "xaxis": {
                  "anchor": "y",
                  "categoryarray": [
                    "Crash",
                    "Run-over",
                    "Passenger falling",
                    "Overturn",
                    "Other",
                    "Fire",
                    "Self-harm"
                  ],
                  "categoryorder": "array",
                  "domain": [
                    0,
                    1
                  ],
                  "title": {
                    "text": "accident_type"
                  }
                },
                "yaxis": {
                  "anchor": "x",
                  "domain": [
                    0,
                    1
                  ],
                  "title": {
                    "text": "Count"
                  }
                }
              }
            }
          },
          "metadata": {},
          "output_type": "display_data"
        }
      ],
      "source": [
        "px.bar(df_type, x=df_type.accident_type, y=df_type.Count, color=\"accident_type\", title=\"Accidents by type\", text= \"percentage\")"
      ]
    },
    {
      "cell_type": "markdown",
      "metadata": {
        "id": "HLcsstY24Gz3"
      },
      "source": [
        "For the whole period of analysis we found that 85% of accidents are product of a crash. "
      ]
    },
    {
      "cell_type": "markdown",
      "metadata": {
        "id": "iPMMJgEf4zl3"
      },
      "source": [
        "We look at number of accidents by borough:\n"
      ]
    },
    {
      "cell_type": "code",
      "execution_count": 25,
      "metadata": {
        "colab": {
          "base_uri": "https://localhost:8080/",
          "height": 677
        },
        "id": "7RLM42vs5HLE",
        "outputId": "11e90599-4c7a-4bcb-f546-fa936350568b"
      },
      "outputs": [
        {
          "data": {
            "text/html": [
              "<div>\n",
              "<style scoped>\n",
              "    .dataframe tbody tr th:only-of-type {\n",
              "        vertical-align: middle;\n",
              "    }\n",
              "\n",
              "    .dataframe tbody tr th {\n",
              "        vertical-align: top;\n",
              "    }\n",
              "\n",
              "    .dataframe thead th {\n",
              "        text-align: right;\n",
              "    }\n",
              "</style>\n",
              "<table border=\"1\" class=\"dataframe\">\n",
              "  <thead>\n",
              "    <tr style=\"text-align: right;\">\n",
              "      <th></th>\n",
              "      <th>borough</th>\n",
              "      <th>Count</th>\n",
              "      <th>percentage</th>\n",
              "    </tr>\n",
              "  </thead>\n",
              "  <tbody>\n",
              "    <tr>\n",
              "      <th>8</th>\n",
              "      <td>KENNEDY</td>\n",
              "      <td>23661</td>\n",
              "      <td>11%</td>\n",
              "    </tr>\n",
              "    <tr>\n",
              "      <th>6</th>\n",
              "      <td>ENGATIVA</td>\n",
              "      <td>20928</td>\n",
              "      <td>10%</td>\n",
              "    </tr>\n",
              "    <tr>\n",
              "      <th>18</th>\n",
              "      <td>USAQUEN</td>\n",
              "      <td>19292</td>\n",
              "      <td>9%</td>\n",
              "    </tr>\n",
              "    <tr>\n",
              "      <th>14</th>\n",
              "      <td>SUBA</td>\n",
              "      <td>18973</td>\n",
              "      <td>9%</td>\n",
              "    </tr>\n",
              "    <tr>\n",
              "      <th>7</th>\n",
              "      <td>FONTIBON</td>\n",
              "      <td>16377</td>\n",
              "      <td>8%</td>\n",
              "    </tr>\n",
              "    <tr>\n",
              "      <th>10</th>\n",
              "      <td>PUENTE ARANDA</td>\n",
              "      <td>14143</td>\n",
              "      <td>7%</td>\n",
              "    </tr>\n",
              "    <tr>\n",
              "      <th>4</th>\n",
              "      <td>CHAPINERO</td>\n",
              "      <td>11696</td>\n",
              "      <td>5%</td>\n",
              "    </tr>\n",
              "    <tr>\n",
              "      <th>16</th>\n",
              "      <td>TEUSAQUILLO</td>\n",
              "      <td>10167</td>\n",
              "      <td>5%</td>\n",
              "    </tr>\n",
              "    <tr>\n",
              "      <th>1</th>\n",
              "      <td>BARRIOS UNIDOS</td>\n",
              "      <td>10094</td>\n",
              "      <td>5%</td>\n",
              "    </tr>\n",
              "    <tr>\n",
              "      <th>2</th>\n",
              "      <td>BOSA</td>\n",
              "      <td>9417</td>\n",
              "      <td>4%</td>\n",
              "    </tr>\n",
              "    <tr>\n",
              "      <th>5</th>\n",
              "      <td>CIUDAD BOLIVAR</td>\n",
              "      <td>8005</td>\n",
              "      <td>4%</td>\n",
              "    </tr>\n",
              "    <tr>\n",
              "      <th>9</th>\n",
              "      <td>LOS MARTIRES</td>\n",
              "      <td>6250</td>\n",
              "      <td>3%</td>\n",
              "    </tr>\n",
              "    <tr>\n",
              "      <th>13</th>\n",
              "      <td>SANTA FE</td>\n",
              "      <td>5451</td>\n",
              "      <td>2%</td>\n",
              "    </tr>\n",
              "    <tr>\n",
              "      <th>17</th>\n",
              "      <td>TUNJUELITO</td>\n",
              "      <td>5351</td>\n",
              "      <td>2%</td>\n",
              "    </tr>\n",
              "    <tr>\n",
              "      <th>12</th>\n",
              "      <td>SAN CRISTOBAL</td>\n",
              "      <td>5335</td>\n",
              "      <td>2%</td>\n",
              "    </tr>\n",
              "    <tr>\n",
              "      <th>11</th>\n",
              "      <td>RAFAEL URIBE URIBE</td>\n",
              "      <td>5333</td>\n",
              "      <td>2%</td>\n",
              "    </tr>\n",
              "    <tr>\n",
              "      <th>19</th>\n",
              "      <td>USME</td>\n",
              "      <td>4017</td>\n",
              "      <td>2%</td>\n",
              "    </tr>\n",
              "    <tr>\n",
              "      <th>0</th>\n",
              "      <td>ANTONIO NARIÑO</td>\n",
              "      <td>3721</td>\n",
              "      <td>1%</td>\n",
              "    </tr>\n",
              "    <tr>\n",
              "      <th>3</th>\n",
              "      <td>CANDELARIA</td>\n",
              "      <td>882</td>\n",
              "      <td>0%</td>\n",
              "    </tr>\n",
              "    <tr>\n",
              "      <th>15</th>\n",
              "      <td>SUMAPAZ</td>\n",
              "      <td>7</td>\n",
              "      <td>0%</td>\n",
              "    </tr>\n",
              "  </tbody>\n",
              "</table>\n",
              "</div>"
            ],
            "text/plain": [
              "               borough  Count percentage\n",
              "8              KENNEDY  23661        11%\n",
              "6             ENGATIVA  20928        10%\n",
              "18             USAQUEN  19292         9%\n",
              "14                SUBA  18973         9%\n",
              "7             FONTIBON  16377         8%\n",
              "10       PUENTE ARANDA  14143         7%\n",
              "4            CHAPINERO  11696         5%\n",
              "16         TEUSAQUILLO  10167         5%\n",
              "1       BARRIOS UNIDOS  10094         5%\n",
              "2                 BOSA   9417         4%\n",
              "5       CIUDAD BOLIVAR   8005         4%\n",
              "9         LOS MARTIRES   6250         3%\n",
              "13            SANTA FE   5451         2%\n",
              "17          TUNJUELITO   5351         2%\n",
              "12       SAN CRISTOBAL   5335         2%\n",
              "11  RAFAEL URIBE URIBE   5333         2%\n",
              "19                USME   4017         2%\n",
              "0       ANTONIO NARIÑO   3721         1%\n",
              "3           CANDELARIA    882         0%\n",
              "15             SUMAPAZ      7         0%"
            ]
          },
          "execution_count": 25,
          "metadata": {},
          "output_type": "execute_result"
        }
      ],
      "source": [
        "df_brg = df.groupby(['borough'])[\"Count\"].sum()\n",
        "df_brg= DataFrame(df_brg).reset_index()\n",
        "df_brg = df_brg.sort_values(\"Count\", ascending = False)\n",
        "df_brg[\"percentage\"] = ((df_brg[\"Count\"] / df_brg[\"Count\"].sum())*100).astype(int).astype(str) + '%'\n",
        "df_brg"
      ]
    },
    {
      "cell_type": "code",
      "execution_count": 26,
      "metadata": {
        "colab": {
          "base_uri": "https://localhost:8080/",
          "height": 542
        },
        "id": "JxvW0Vzr59pK",
        "outputId": "467ca6d3-52b4-40c5-82f7-d47fba0121b8"
      },
      "outputs": [
        {
          "data": {
            "application/vnd.plotly.v1+json": {
              "config": {
                "plotlyServerURL": "https://plot.ly"
              },
              "data": [
                {
                  "alignmentgroup": "True",
                  "hovertemplate": "borough=%{x}<br>Count=%{y}<br>percentage=%{text}<extra></extra>",
                  "legendgroup": "KENNEDY",
                  "marker": {
                    "color": "#636efa",
                    "pattern": {
                      "shape": ""
                    }
                  },
                  "name": "KENNEDY",
                  "offsetgroup": "KENNEDY",
                  "orientation": "v",
                  "showlegend": true,
                  "text": [
                    "11%"
                  ],
                  "textposition": "auto",
                  "type": "bar",
                  "x": [
                    "KENNEDY"
                  ],
                  "xaxis": "x",
                  "y": [
                    23661
                  ],
                  "yaxis": "y"
                },
                {
                  "alignmentgroup": "True",
                  "hovertemplate": "borough=%{x}<br>Count=%{y}<br>percentage=%{text}<extra></extra>",
                  "legendgroup": "ENGATIVA",
                  "marker": {
                    "color": "#EF553B",
                    "pattern": {
                      "shape": ""
                    }
                  },
                  "name": "ENGATIVA",
                  "offsetgroup": "ENGATIVA",
                  "orientation": "v",
                  "showlegend": true,
                  "text": [
                    "10%"
                  ],
                  "textposition": "auto",
                  "type": "bar",
                  "x": [
                    "ENGATIVA"
                  ],
                  "xaxis": "x",
                  "y": [
                    20928
                  ],
                  "yaxis": "y"
                },
                {
                  "alignmentgroup": "True",
                  "hovertemplate": "borough=%{x}<br>Count=%{y}<br>percentage=%{text}<extra></extra>",
                  "legendgroup": "USAQUEN",
                  "marker": {
                    "color": "#00cc96",
                    "pattern": {
                      "shape": ""
                    }
                  },
                  "name": "USAQUEN",
                  "offsetgroup": "USAQUEN",
                  "orientation": "v",
                  "showlegend": true,
                  "text": [
                    "9%"
                  ],
                  "textposition": "auto",
                  "type": "bar",
                  "x": [
                    "USAQUEN"
                  ],
                  "xaxis": "x",
                  "y": [
                    19292
                  ],
                  "yaxis": "y"
                },
                {
                  "alignmentgroup": "True",
                  "hovertemplate": "borough=%{x}<br>Count=%{y}<br>percentage=%{text}<extra></extra>",
                  "legendgroup": "SUBA",
                  "marker": {
                    "color": "#ab63fa",
                    "pattern": {
                      "shape": ""
                    }
                  },
                  "name": "SUBA",
                  "offsetgroup": "SUBA",
                  "orientation": "v",
                  "showlegend": true,
                  "text": [
                    "9%"
                  ],
                  "textposition": "auto",
                  "type": "bar",
                  "x": [
                    "SUBA"
                  ],
                  "xaxis": "x",
                  "y": [
                    18973
                  ],
                  "yaxis": "y"
                },
                {
                  "alignmentgroup": "True",
                  "hovertemplate": "borough=%{x}<br>Count=%{y}<br>percentage=%{text}<extra></extra>",
                  "legendgroup": "FONTIBON",
                  "marker": {
                    "color": "#FFA15A",
                    "pattern": {
                      "shape": ""
                    }
                  },
                  "name": "FONTIBON",
                  "offsetgroup": "FONTIBON",
                  "orientation": "v",
                  "showlegend": true,
                  "text": [
                    "8%"
                  ],
                  "textposition": "auto",
                  "type": "bar",
                  "x": [
                    "FONTIBON"
                  ],
                  "xaxis": "x",
                  "y": [
                    16377
                  ],
                  "yaxis": "y"
                },
                {
                  "alignmentgroup": "True",
                  "hovertemplate": "borough=%{x}<br>Count=%{y}<br>percentage=%{text}<extra></extra>",
                  "legendgroup": "PUENTE ARANDA",
                  "marker": {
                    "color": "#19d3f3",
                    "pattern": {
                      "shape": ""
                    }
                  },
                  "name": "PUENTE ARANDA",
                  "offsetgroup": "PUENTE ARANDA",
                  "orientation": "v",
                  "showlegend": true,
                  "text": [
                    "7%"
                  ],
                  "textposition": "auto",
                  "type": "bar",
                  "x": [
                    "PUENTE ARANDA"
                  ],
                  "xaxis": "x",
                  "y": [
                    14143
                  ],
                  "yaxis": "y"
                },
                {
                  "alignmentgroup": "True",
                  "hovertemplate": "borough=%{x}<br>Count=%{y}<br>percentage=%{text}<extra></extra>",
                  "legendgroup": "CHAPINERO",
                  "marker": {
                    "color": "#FF6692",
                    "pattern": {
                      "shape": ""
                    }
                  },
                  "name": "CHAPINERO",
                  "offsetgroup": "CHAPINERO",
                  "orientation": "v",
                  "showlegend": true,
                  "text": [
                    "5%"
                  ],
                  "textposition": "auto",
                  "type": "bar",
                  "x": [
                    "CHAPINERO"
                  ],
                  "xaxis": "x",
                  "y": [
                    11696
                  ],
                  "yaxis": "y"
                },
                {
                  "alignmentgroup": "True",
                  "hovertemplate": "borough=%{x}<br>Count=%{y}<br>percentage=%{text}<extra></extra>",
                  "legendgroup": "TEUSAQUILLO",
                  "marker": {
                    "color": "#B6E880",
                    "pattern": {
                      "shape": ""
                    }
                  },
                  "name": "TEUSAQUILLO",
                  "offsetgroup": "TEUSAQUILLO",
                  "orientation": "v",
                  "showlegend": true,
                  "text": [
                    "5%"
                  ],
                  "textposition": "auto",
                  "type": "bar",
                  "x": [
                    "TEUSAQUILLO"
                  ],
                  "xaxis": "x",
                  "y": [
                    10167
                  ],
                  "yaxis": "y"
                },
                {
                  "alignmentgroup": "True",
                  "hovertemplate": "borough=%{x}<br>Count=%{y}<br>percentage=%{text}<extra></extra>",
                  "legendgroup": "BARRIOS UNIDOS",
                  "marker": {
                    "color": "#FF97FF",
                    "pattern": {
                      "shape": ""
                    }
                  },
                  "name": "BARRIOS UNIDOS",
                  "offsetgroup": "BARRIOS UNIDOS",
                  "orientation": "v",
                  "showlegend": true,
                  "text": [
                    "5%"
                  ],
                  "textposition": "auto",
                  "type": "bar",
                  "x": [
                    "BARRIOS UNIDOS"
                  ],
                  "xaxis": "x",
                  "y": [
                    10094
                  ],
                  "yaxis": "y"
                },
                {
                  "alignmentgroup": "True",
                  "hovertemplate": "borough=%{x}<br>Count=%{y}<br>percentage=%{text}<extra></extra>",
                  "legendgroup": "BOSA",
                  "marker": {
                    "color": "#FECB52",
                    "pattern": {
                      "shape": ""
                    }
                  },
                  "name": "BOSA",
                  "offsetgroup": "BOSA",
                  "orientation": "v",
                  "showlegend": true,
                  "text": [
                    "4%"
                  ],
                  "textposition": "auto",
                  "type": "bar",
                  "x": [
                    "BOSA"
                  ],
                  "xaxis": "x",
                  "y": [
                    9417
                  ],
                  "yaxis": "y"
                },
                {
                  "alignmentgroup": "True",
                  "hovertemplate": "borough=%{x}<br>Count=%{y}<br>percentage=%{text}<extra></extra>",
                  "legendgroup": "CIUDAD BOLIVAR",
                  "marker": {
                    "color": "#636efa",
                    "pattern": {
                      "shape": ""
                    }
                  },
                  "name": "CIUDAD BOLIVAR",
                  "offsetgroup": "CIUDAD BOLIVAR",
                  "orientation": "v",
                  "showlegend": true,
                  "text": [
                    "4%"
                  ],
                  "textposition": "auto",
                  "type": "bar",
                  "x": [
                    "CIUDAD BOLIVAR"
                  ],
                  "xaxis": "x",
                  "y": [
                    8005
                  ],
                  "yaxis": "y"
                },
                {
                  "alignmentgroup": "True",
                  "hovertemplate": "borough=%{x}<br>Count=%{y}<br>percentage=%{text}<extra></extra>",
                  "legendgroup": "LOS MARTIRES",
                  "marker": {
                    "color": "#EF553B",
                    "pattern": {
                      "shape": ""
                    }
                  },
                  "name": "LOS MARTIRES",
                  "offsetgroup": "LOS MARTIRES",
                  "orientation": "v",
                  "showlegend": true,
                  "text": [
                    "3%"
                  ],
                  "textposition": "auto",
                  "type": "bar",
                  "x": [
                    "LOS MARTIRES"
                  ],
                  "xaxis": "x",
                  "y": [
                    6250
                  ],
                  "yaxis": "y"
                },
                {
                  "alignmentgroup": "True",
                  "hovertemplate": "borough=%{x}<br>Count=%{y}<br>percentage=%{text}<extra></extra>",
                  "legendgroup": "SANTA FE",
                  "marker": {
                    "color": "#00cc96",
                    "pattern": {
                      "shape": ""
                    }
                  },
                  "name": "SANTA FE",
                  "offsetgroup": "SANTA FE",
                  "orientation": "v",
                  "showlegend": true,
                  "text": [
                    "2%"
                  ],
                  "textposition": "auto",
                  "type": "bar",
                  "x": [
                    "SANTA FE"
                  ],
                  "xaxis": "x",
                  "y": [
                    5451
                  ],
                  "yaxis": "y"
                },
                {
                  "alignmentgroup": "True",
                  "hovertemplate": "borough=%{x}<br>Count=%{y}<br>percentage=%{text}<extra></extra>",
                  "legendgroup": "TUNJUELITO",
                  "marker": {
                    "color": "#ab63fa",
                    "pattern": {
                      "shape": ""
                    }
                  },
                  "name": "TUNJUELITO",
                  "offsetgroup": "TUNJUELITO",
                  "orientation": "v",
                  "showlegend": true,
                  "text": [
                    "2%"
                  ],
                  "textposition": "auto",
                  "type": "bar",
                  "x": [
                    "TUNJUELITO"
                  ],
                  "xaxis": "x",
                  "y": [
                    5351
                  ],
                  "yaxis": "y"
                },
                {
                  "alignmentgroup": "True",
                  "hovertemplate": "borough=%{x}<br>Count=%{y}<br>percentage=%{text}<extra></extra>",
                  "legendgroup": "SAN CRISTOBAL",
                  "marker": {
                    "color": "#FFA15A",
                    "pattern": {
                      "shape": ""
                    }
                  },
                  "name": "SAN CRISTOBAL",
                  "offsetgroup": "SAN CRISTOBAL",
                  "orientation": "v",
                  "showlegend": true,
                  "text": [
                    "2%"
                  ],
                  "textposition": "auto",
                  "type": "bar",
                  "x": [
                    "SAN CRISTOBAL"
                  ],
                  "xaxis": "x",
                  "y": [
                    5335
                  ],
                  "yaxis": "y"
                },
                {
                  "alignmentgroup": "True",
                  "hovertemplate": "borough=%{x}<br>Count=%{y}<br>percentage=%{text}<extra></extra>",
                  "legendgroup": "RAFAEL URIBE URIBE",
                  "marker": {
                    "color": "#19d3f3",
                    "pattern": {
                      "shape": ""
                    }
                  },
                  "name": "RAFAEL URIBE URIBE",
                  "offsetgroup": "RAFAEL URIBE URIBE",
                  "orientation": "v",
                  "showlegend": true,
                  "text": [
                    "2%"
                  ],
                  "textposition": "auto",
                  "type": "bar",
                  "x": [
                    "RAFAEL URIBE URIBE"
                  ],
                  "xaxis": "x",
                  "y": [
                    5333
                  ],
                  "yaxis": "y"
                },
                {
                  "alignmentgroup": "True",
                  "hovertemplate": "borough=%{x}<br>Count=%{y}<br>percentage=%{text}<extra></extra>",
                  "legendgroup": "USME",
                  "marker": {
                    "color": "#FF6692",
                    "pattern": {
                      "shape": ""
                    }
                  },
                  "name": "USME",
                  "offsetgroup": "USME",
                  "orientation": "v",
                  "showlegend": true,
                  "text": [
                    "2%"
                  ],
                  "textposition": "auto",
                  "type": "bar",
                  "x": [
                    "USME"
                  ],
                  "xaxis": "x",
                  "y": [
                    4017
                  ],
                  "yaxis": "y"
                },
                {
                  "alignmentgroup": "True",
                  "hovertemplate": "borough=%{x}<br>Count=%{y}<br>percentage=%{text}<extra></extra>",
                  "legendgroup": "ANTONIO NARIÑO",
                  "marker": {
                    "color": "#B6E880",
                    "pattern": {
                      "shape": ""
                    }
                  },
                  "name": "ANTONIO NARIÑO",
                  "offsetgroup": "ANTONIO NARIÑO",
                  "orientation": "v",
                  "showlegend": true,
                  "text": [
                    "1%"
                  ],
                  "textposition": "auto",
                  "type": "bar",
                  "x": [
                    "ANTONIO NARIÑO"
                  ],
                  "xaxis": "x",
                  "y": [
                    3721
                  ],
                  "yaxis": "y"
                },
                {
                  "alignmentgroup": "True",
                  "hovertemplate": "borough=%{x}<br>Count=%{y}<br>percentage=%{text}<extra></extra>",
                  "legendgroup": "CANDELARIA",
                  "marker": {
                    "color": "#FF97FF",
                    "pattern": {
                      "shape": ""
                    }
                  },
                  "name": "CANDELARIA",
                  "offsetgroup": "CANDELARIA",
                  "orientation": "v",
                  "showlegend": true,
                  "text": [
                    "0%"
                  ],
                  "textposition": "auto",
                  "type": "bar",
                  "x": [
                    "CANDELARIA"
                  ],
                  "xaxis": "x",
                  "y": [
                    882
                  ],
                  "yaxis": "y"
                },
                {
                  "alignmentgroup": "True",
                  "hovertemplate": "borough=%{x}<br>Count=%{y}<br>percentage=%{text}<extra></extra>",
                  "legendgroup": "SUMAPAZ",
                  "marker": {
                    "color": "#FECB52",
                    "pattern": {
                      "shape": ""
                    }
                  },
                  "name": "SUMAPAZ",
                  "offsetgroup": "SUMAPAZ",
                  "orientation": "v",
                  "showlegend": true,
                  "text": [
                    "0%"
                  ],
                  "textposition": "auto",
                  "type": "bar",
                  "x": [
                    "SUMAPAZ"
                  ],
                  "xaxis": "x",
                  "y": [
                    7
                  ],
                  "yaxis": "y"
                }
              ],
              "layout": {
                "barmode": "relative",
                "legend": {
                  "title": {
                    "text": "borough"
                  },
                  "tracegroupgap": 0
                },
                "template": {
                  "data": {
                    "bar": [
                      {
                        "error_x": {
                          "color": "#2a3f5f"
                        },
                        "error_y": {
                          "color": "#2a3f5f"
                        },
                        "marker": {
                          "line": {
                            "color": "#E5ECF6",
                            "width": 0.5
                          },
                          "pattern": {
                            "fillmode": "overlay",
                            "size": 10,
                            "solidity": 0.2
                          }
                        },
                        "type": "bar"
                      }
                    ],
                    "barpolar": [
                      {
                        "marker": {
                          "line": {
                            "color": "#E5ECF6",
                            "width": 0.5
                          },
                          "pattern": {
                            "fillmode": "overlay",
                            "size": 10,
                            "solidity": 0.2
                          }
                        },
                        "type": "barpolar"
                      }
                    ],
                    "carpet": [
                      {
                        "aaxis": {
                          "endlinecolor": "#2a3f5f",
                          "gridcolor": "white",
                          "linecolor": "white",
                          "minorgridcolor": "white",
                          "startlinecolor": "#2a3f5f"
                        },
                        "baxis": {
                          "endlinecolor": "#2a3f5f",
                          "gridcolor": "white",
                          "linecolor": "white",
                          "minorgridcolor": "white",
                          "startlinecolor": "#2a3f5f"
                        },
                        "type": "carpet"
                      }
                    ],
                    "choropleth": [
                      {
                        "colorbar": {
                          "outlinewidth": 0,
                          "ticks": ""
                        },
                        "type": "choropleth"
                      }
                    ],
                    "contour": [
                      {
                        "colorbar": {
                          "outlinewidth": 0,
                          "ticks": ""
                        },
                        "colorscale": [
                          [
                            0,
                            "#0d0887"
                          ],
                          [
                            0.1111111111111111,
                            "#46039f"
                          ],
                          [
                            0.2222222222222222,
                            "#7201a8"
                          ],
                          [
                            0.3333333333333333,
                            "#9c179e"
                          ],
                          [
                            0.4444444444444444,
                            "#bd3786"
                          ],
                          [
                            0.5555555555555556,
                            "#d8576b"
                          ],
                          [
                            0.6666666666666666,
                            "#ed7953"
                          ],
                          [
                            0.7777777777777778,
                            "#fb9f3a"
                          ],
                          [
                            0.8888888888888888,
                            "#fdca26"
                          ],
                          [
                            1,
                            "#f0f921"
                          ]
                        ],
                        "type": "contour"
                      }
                    ],
                    "contourcarpet": [
                      {
                        "colorbar": {
                          "outlinewidth": 0,
                          "ticks": ""
                        },
                        "type": "contourcarpet"
                      }
                    ],
                    "heatmap": [
                      {
                        "colorbar": {
                          "outlinewidth": 0,
                          "ticks": ""
                        },
                        "colorscale": [
                          [
                            0,
                            "#0d0887"
                          ],
                          [
                            0.1111111111111111,
                            "#46039f"
                          ],
                          [
                            0.2222222222222222,
                            "#7201a8"
                          ],
                          [
                            0.3333333333333333,
                            "#9c179e"
                          ],
                          [
                            0.4444444444444444,
                            "#bd3786"
                          ],
                          [
                            0.5555555555555556,
                            "#d8576b"
                          ],
                          [
                            0.6666666666666666,
                            "#ed7953"
                          ],
                          [
                            0.7777777777777778,
                            "#fb9f3a"
                          ],
                          [
                            0.8888888888888888,
                            "#fdca26"
                          ],
                          [
                            1,
                            "#f0f921"
                          ]
                        ],
                        "type": "heatmap"
                      }
                    ],
                    "heatmapgl": [
                      {
                        "colorbar": {
                          "outlinewidth": 0,
                          "ticks": ""
                        },
                        "colorscale": [
                          [
                            0,
                            "#0d0887"
                          ],
                          [
                            0.1111111111111111,
                            "#46039f"
                          ],
                          [
                            0.2222222222222222,
                            "#7201a8"
                          ],
                          [
                            0.3333333333333333,
                            "#9c179e"
                          ],
                          [
                            0.4444444444444444,
                            "#bd3786"
                          ],
                          [
                            0.5555555555555556,
                            "#d8576b"
                          ],
                          [
                            0.6666666666666666,
                            "#ed7953"
                          ],
                          [
                            0.7777777777777778,
                            "#fb9f3a"
                          ],
                          [
                            0.8888888888888888,
                            "#fdca26"
                          ],
                          [
                            1,
                            "#f0f921"
                          ]
                        ],
                        "type": "heatmapgl"
                      }
                    ],
                    "histogram": [
                      {
                        "marker": {
                          "pattern": {
                            "fillmode": "overlay",
                            "size": 10,
                            "solidity": 0.2
                          }
                        },
                        "type": "histogram"
                      }
                    ],
                    "histogram2d": [
                      {
                        "colorbar": {
                          "outlinewidth": 0,
                          "ticks": ""
                        },
                        "colorscale": [
                          [
                            0,
                            "#0d0887"
                          ],
                          [
                            0.1111111111111111,
                            "#46039f"
                          ],
                          [
                            0.2222222222222222,
                            "#7201a8"
                          ],
                          [
                            0.3333333333333333,
                            "#9c179e"
                          ],
                          [
                            0.4444444444444444,
                            "#bd3786"
                          ],
                          [
                            0.5555555555555556,
                            "#d8576b"
                          ],
                          [
                            0.6666666666666666,
                            "#ed7953"
                          ],
                          [
                            0.7777777777777778,
                            "#fb9f3a"
                          ],
                          [
                            0.8888888888888888,
                            "#fdca26"
                          ],
                          [
                            1,
                            "#f0f921"
                          ]
                        ],
                        "type": "histogram2d"
                      }
                    ],
                    "histogram2dcontour": [
                      {
                        "colorbar": {
                          "outlinewidth": 0,
                          "ticks": ""
                        },
                        "colorscale": [
                          [
                            0,
                            "#0d0887"
                          ],
                          [
                            0.1111111111111111,
                            "#46039f"
                          ],
                          [
                            0.2222222222222222,
                            "#7201a8"
                          ],
                          [
                            0.3333333333333333,
                            "#9c179e"
                          ],
                          [
                            0.4444444444444444,
                            "#bd3786"
                          ],
                          [
                            0.5555555555555556,
                            "#d8576b"
                          ],
                          [
                            0.6666666666666666,
                            "#ed7953"
                          ],
                          [
                            0.7777777777777778,
                            "#fb9f3a"
                          ],
                          [
                            0.8888888888888888,
                            "#fdca26"
                          ],
                          [
                            1,
                            "#f0f921"
                          ]
                        ],
                        "type": "histogram2dcontour"
                      }
                    ],
                    "mesh3d": [
                      {
                        "colorbar": {
                          "outlinewidth": 0,
                          "ticks": ""
                        },
                        "type": "mesh3d"
                      }
                    ],
                    "parcoords": [
                      {
                        "line": {
                          "colorbar": {
                            "outlinewidth": 0,
                            "ticks": ""
                          }
                        },
                        "type": "parcoords"
                      }
                    ],
                    "pie": [
                      {
                        "automargin": true,
                        "type": "pie"
                      }
                    ],
                    "scatter": [
                      {
                        "fillpattern": {
                          "fillmode": "overlay",
                          "size": 10,
                          "solidity": 0.2
                        },
                        "type": "scatter"
                      }
                    ],
                    "scatter3d": [
                      {
                        "line": {
                          "colorbar": {
                            "outlinewidth": 0,
                            "ticks": ""
                          }
                        },
                        "marker": {
                          "colorbar": {
                            "outlinewidth": 0,
                            "ticks": ""
                          }
                        },
                        "type": "scatter3d"
                      }
                    ],
                    "scattercarpet": [
                      {
                        "marker": {
                          "colorbar": {
                            "outlinewidth": 0,
                            "ticks": ""
                          }
                        },
                        "type": "scattercarpet"
                      }
                    ],
                    "scattergeo": [
                      {
                        "marker": {
                          "colorbar": {
                            "outlinewidth": 0,
                            "ticks": ""
                          }
                        },
                        "type": "scattergeo"
                      }
                    ],
                    "scattergl": [
                      {
                        "marker": {
                          "colorbar": {
                            "outlinewidth": 0,
                            "ticks": ""
                          }
                        },
                        "type": "scattergl"
                      }
                    ],
                    "scattermapbox": [
                      {
                        "marker": {
                          "colorbar": {
                            "outlinewidth": 0,
                            "ticks": ""
                          }
                        },
                        "type": "scattermapbox"
                      }
                    ],
                    "scatterpolar": [
                      {
                        "marker": {
                          "colorbar": {
                            "outlinewidth": 0,
                            "ticks": ""
                          }
                        },
                        "type": "scatterpolar"
                      }
                    ],
                    "scatterpolargl": [
                      {
                        "marker": {
                          "colorbar": {
                            "outlinewidth": 0,
                            "ticks": ""
                          }
                        },
                        "type": "scatterpolargl"
                      }
                    ],
                    "scatterternary": [
                      {
                        "marker": {
                          "colorbar": {
                            "outlinewidth": 0,
                            "ticks": ""
                          }
                        },
                        "type": "scatterternary"
                      }
                    ],
                    "surface": [
                      {
                        "colorbar": {
                          "outlinewidth": 0,
                          "ticks": ""
                        },
                        "colorscale": [
                          [
                            0,
                            "#0d0887"
                          ],
                          [
                            0.1111111111111111,
                            "#46039f"
                          ],
                          [
                            0.2222222222222222,
                            "#7201a8"
                          ],
                          [
                            0.3333333333333333,
                            "#9c179e"
                          ],
                          [
                            0.4444444444444444,
                            "#bd3786"
                          ],
                          [
                            0.5555555555555556,
                            "#d8576b"
                          ],
                          [
                            0.6666666666666666,
                            "#ed7953"
                          ],
                          [
                            0.7777777777777778,
                            "#fb9f3a"
                          ],
                          [
                            0.8888888888888888,
                            "#fdca26"
                          ],
                          [
                            1,
                            "#f0f921"
                          ]
                        ],
                        "type": "surface"
                      }
                    ],
                    "table": [
                      {
                        "cells": {
                          "fill": {
                            "color": "#EBF0F8"
                          },
                          "line": {
                            "color": "white"
                          }
                        },
                        "header": {
                          "fill": {
                            "color": "#C8D4E3"
                          },
                          "line": {
                            "color": "white"
                          }
                        },
                        "type": "table"
                      }
                    ]
                  },
                  "layout": {
                    "annotationdefaults": {
                      "arrowcolor": "#2a3f5f",
                      "arrowhead": 0,
                      "arrowwidth": 1
                    },
                    "autotypenumbers": "strict",
                    "coloraxis": {
                      "colorbar": {
                        "outlinewidth": 0,
                        "ticks": ""
                      }
                    },
                    "colorscale": {
                      "diverging": [
                        [
                          0,
                          "#8e0152"
                        ],
                        [
                          0.1,
                          "#c51b7d"
                        ],
                        [
                          0.2,
                          "#de77ae"
                        ],
                        [
                          0.3,
                          "#f1b6da"
                        ],
                        [
                          0.4,
                          "#fde0ef"
                        ],
                        [
                          0.5,
                          "#f7f7f7"
                        ],
                        [
                          0.6,
                          "#e6f5d0"
                        ],
                        [
                          0.7,
                          "#b8e186"
                        ],
                        [
                          0.8,
                          "#7fbc41"
                        ],
                        [
                          0.9,
                          "#4d9221"
                        ],
                        [
                          1,
                          "#276419"
                        ]
                      ],
                      "sequential": [
                        [
                          0,
                          "#0d0887"
                        ],
                        [
                          0.1111111111111111,
                          "#46039f"
                        ],
                        [
                          0.2222222222222222,
                          "#7201a8"
                        ],
                        [
                          0.3333333333333333,
                          "#9c179e"
                        ],
                        [
                          0.4444444444444444,
                          "#bd3786"
                        ],
                        [
                          0.5555555555555556,
                          "#d8576b"
                        ],
                        [
                          0.6666666666666666,
                          "#ed7953"
                        ],
                        [
                          0.7777777777777778,
                          "#fb9f3a"
                        ],
                        [
                          0.8888888888888888,
                          "#fdca26"
                        ],
                        [
                          1,
                          "#f0f921"
                        ]
                      ],
                      "sequentialminus": [
                        [
                          0,
                          "#0d0887"
                        ],
                        [
                          0.1111111111111111,
                          "#46039f"
                        ],
                        [
                          0.2222222222222222,
                          "#7201a8"
                        ],
                        [
                          0.3333333333333333,
                          "#9c179e"
                        ],
                        [
                          0.4444444444444444,
                          "#bd3786"
                        ],
                        [
                          0.5555555555555556,
                          "#d8576b"
                        ],
                        [
                          0.6666666666666666,
                          "#ed7953"
                        ],
                        [
                          0.7777777777777778,
                          "#fb9f3a"
                        ],
                        [
                          0.8888888888888888,
                          "#fdca26"
                        ],
                        [
                          1,
                          "#f0f921"
                        ]
                      ]
                    },
                    "colorway": [
                      "#636efa",
                      "#EF553B",
                      "#00cc96",
                      "#ab63fa",
                      "#FFA15A",
                      "#19d3f3",
                      "#FF6692",
                      "#B6E880",
                      "#FF97FF",
                      "#FECB52"
                    ],
                    "font": {
                      "color": "#2a3f5f"
                    },
                    "geo": {
                      "bgcolor": "white",
                      "lakecolor": "white",
                      "landcolor": "#E5ECF6",
                      "showlakes": true,
                      "showland": true,
                      "subunitcolor": "white"
                    },
                    "hoverlabel": {
                      "align": "left"
                    },
                    "hovermode": "closest",
                    "mapbox": {
                      "style": "light"
                    },
                    "paper_bgcolor": "white",
                    "plot_bgcolor": "#E5ECF6",
                    "polar": {
                      "angularaxis": {
                        "gridcolor": "white",
                        "linecolor": "white",
                        "ticks": ""
                      },
                      "bgcolor": "#E5ECF6",
                      "radialaxis": {
                        "gridcolor": "white",
                        "linecolor": "white",
                        "ticks": ""
                      }
                    },
                    "scene": {
                      "xaxis": {
                        "backgroundcolor": "#E5ECF6",
                        "gridcolor": "white",
                        "gridwidth": 2,
                        "linecolor": "white",
                        "showbackground": true,
                        "ticks": "",
                        "zerolinecolor": "white"
                      },
                      "yaxis": {
                        "backgroundcolor": "#E5ECF6",
                        "gridcolor": "white",
                        "gridwidth": 2,
                        "linecolor": "white",
                        "showbackground": true,
                        "ticks": "",
                        "zerolinecolor": "white"
                      },
                      "zaxis": {
                        "backgroundcolor": "#E5ECF6",
                        "gridcolor": "white",
                        "gridwidth": 2,
                        "linecolor": "white",
                        "showbackground": true,
                        "ticks": "",
                        "zerolinecolor": "white"
                      }
                    },
                    "shapedefaults": {
                      "line": {
                        "color": "#2a3f5f"
                      }
                    },
                    "ternary": {
                      "aaxis": {
                        "gridcolor": "white",
                        "linecolor": "white",
                        "ticks": ""
                      },
                      "baxis": {
                        "gridcolor": "white",
                        "linecolor": "white",
                        "ticks": ""
                      },
                      "bgcolor": "#E5ECF6",
                      "caxis": {
                        "gridcolor": "white",
                        "linecolor": "white",
                        "ticks": ""
                      }
                    },
                    "title": {
                      "x": 0.05
                    },
                    "xaxis": {
                      "automargin": true,
                      "gridcolor": "white",
                      "linecolor": "white",
                      "ticks": "",
                      "title": {
                        "standoff": 15
                      },
                      "zerolinecolor": "white",
                      "zerolinewidth": 2
                    },
                    "yaxis": {
                      "automargin": true,
                      "gridcolor": "white",
                      "linecolor": "white",
                      "ticks": "",
                      "title": {
                        "standoff": 15
                      },
                      "zerolinecolor": "white",
                      "zerolinewidth": 2
                    }
                  }
                },
                "title": {
                  "text": "Accidents by borough"
                },
                "xaxis": {
                  "anchor": "y",
                  "categoryarray": [
                    "KENNEDY",
                    "ENGATIVA",
                    "USAQUEN",
                    "SUBA",
                    "FONTIBON",
                    "PUENTE ARANDA",
                    "CHAPINERO",
                    "TEUSAQUILLO",
                    "BARRIOS UNIDOS",
                    "BOSA",
                    "CIUDAD BOLIVAR",
                    "LOS MARTIRES",
                    "SANTA FE",
                    "TUNJUELITO",
                    "SAN CRISTOBAL",
                    "RAFAEL URIBE URIBE",
                    "USME",
                    "ANTONIO NARIÑO",
                    "CANDELARIA",
                    "SUMAPAZ"
                  ],
                  "categoryorder": "array",
                  "domain": [
                    0,
                    1
                  ],
                  "title": {
                    "text": "borough"
                  }
                },
                "yaxis": {
                  "anchor": "x",
                  "domain": [
                    0,
                    1
                  ],
                  "title": {
                    "text": "Count"
                  }
                }
              }
            }
          },
          "metadata": {},
          "output_type": "display_data"
        }
      ],
      "source": [
        "px.bar(df_brg, x=df_brg.borough, y=df_brg.Count, color=\"borough\", title=\"Accidents by borough\", text= \"percentage\")"
      ]
    },
    {
      "cell_type": "markdown",
      "metadata": {
        "id": "aLtleGhS7lEg"
      },
      "source": [
        "Without exploring other factors, we can say that \"Kennedy\", \"Engativa\" and \"Usaquen\" are the top three boroughs with more accidents. Those boroughs have around 20k accidents for the whole period of analysis. On the other side, the boroughs with less accidentality are \"Sumapaz\", \"Candelaria\" and \"Antonio Nariño\" with a level of accidents less than 5k."
      ]
    },
    {
      "cell_type": "markdown",
      "metadata": {
        "id": "g9z7IHpPAwHj"
      },
      "source": [
        "# Working with dates"
      ]
    },
    {
      "cell_type": "markdown",
      "metadata": {
        "id": "AEGaNoasRkNB"
      },
      "source": [
        "First, we split the dates to explore trends on the data according to different periodicity:"
      ]
    },
    {
      "cell_type": "markdown",
      "metadata": {
        "id": "DtqtJXvOR7M9"
      },
      "source": [
        "We convert \"full_date\" column to datatime format:"
      ]
    },
    {
      "cell_type": "code",
      "execution_count": 27,
      "metadata": {
        "colab": {
          "base_uri": "https://localhost:8080/"
        },
        "id": "6y6Qww2NOxt3",
        "outputId": "a9edcfd7-441b-40ff-d565-f9243b8b8294"
      },
      "outputs": [
        {
          "data": {
            "text/plain": [
              "<bound method NDFrame.head of 0        2017-06-12 05:30:00+00:00\n",
              "1        2020-11-19 02:05:00+00:00\n",
              "2        2020-11-10 13:30:00+00:00\n",
              "3        2015-05-11 10:50:00+00:00\n",
              "4        2016-06-08 21:30:00+00:00\n",
              "                    ...           \n",
              "199141   2021-08-30 16:31:00+00:00\n",
              "199142   2021-08-03 14:00:00+00:00\n",
              "199143   2021-03-19 12:50:00+00:00\n",
              "199144   2021-04-18 21:21:00+00:00\n",
              "199145   2021-07-12 19:53:00+00:00\n",
              "Name: full_date, Length: 199146, dtype: datetime64[ns, UTC]>"
            ]
          },
          "execution_count": 27,
          "metadata": {},
          "output_type": "execute_result"
        }
      ],
      "source": [
        "df['full_date'] = pd.to_datetime(df['full_date'])\n",
        "df['full_date'].head"
      ]
    },
    {
      "cell_type": "markdown",
      "metadata": {
        "id": "u2fN9tXrZU7c"
      },
      "source": [
        "We remove the hour string from column date_ocurrence removing zeros from hour part:"
      ]
    },
    {
      "cell_type": "code",
      "execution_count": 28,
      "metadata": {
        "colab": {
          "base_uri": "https://localhost:8080/"
        },
        "id": "P4ZBTom4MbvC",
        "outputId": "e8040518-9df7-42f5-8c53-410fe02b6755"
      },
      "outputs": [
        {
          "data": {
            "text/plain": [
              "0   2017-06-12\n",
              "1   2020-11-19\n",
              "2   2020-11-10\n",
              "3   2015-05-11\n",
              "4   2016-06-08\n",
              "Name: date, dtype: datetime64[ns]"
            ]
          },
          "execution_count": 28,
          "metadata": {},
          "output_type": "execute_result"
        }
      ],
      "source": [
        "df['date'] = pd.to_datetime(df['date_ocurrence'].str[:-12])\n",
        "df['date'].head()"
      ]
    },
    {
      "cell_type": "markdown",
      "metadata": {
        "id": "lfNAP76XGiaC"
      },
      "source": [
        "Distribution of accidents by year"
      ]
    },
    {
      "cell_type": "code",
      "execution_count": 29,
      "metadata": {
        "colab": {
          "base_uri": "https://localhost:8080/",
          "height": 269
        },
        "id": "ZGwDwB0xGpqd",
        "outputId": "eda6ffe7-a9f1-4780-e6be-b30287ec0b9b"
      },
      "outputs": [
        {
          "data": {
            "text/html": [
              "<div>\n",
              "<style scoped>\n",
              "    .dataframe tbody tr th:only-of-type {\n",
              "        vertical-align: middle;\n",
              "    }\n",
              "\n",
              "    .dataframe tbody tr th {\n",
              "        vertical-align: top;\n",
              "    }\n",
              "\n",
              "    .dataframe thead th {\n",
              "        text-align: right;\n",
              "    }\n",
              "</style>\n",
              "<table border=\"1\" class=\"dataframe\">\n",
              "  <thead>\n",
              "    <tr style=\"text-align: right;\">\n",
              "      <th></th>\n",
              "      <th>year_ocurrence</th>\n",
              "      <th>Count</th>\n",
              "      <th>percentage</th>\n",
              "    </tr>\n",
              "  </thead>\n",
              "  <tbody>\n",
              "    <tr>\n",
              "      <th>3</th>\n",
              "      <td>2018</td>\n",
              "      <td>33418</td>\n",
              "      <td>16%</td>\n",
              "    </tr>\n",
              "    <tr>\n",
              "      <th>4</th>\n",
              "      <td>2019</td>\n",
              "      <td>32962</td>\n",
              "      <td>16%</td>\n",
              "    </tr>\n",
              "    <tr>\n",
              "      <th>2</th>\n",
              "      <td>2017</td>\n",
              "      <td>32415</td>\n",
              "      <td>16%</td>\n",
              "    </tr>\n",
              "    <tr>\n",
              "      <th>1</th>\n",
              "      <td>2016</td>\n",
              "      <td>31928</td>\n",
              "      <td>16%</td>\n",
              "    </tr>\n",
              "    <tr>\n",
              "      <th>0</th>\n",
              "      <td>2015</td>\n",
              "      <td>27885</td>\n",
              "      <td>14%</td>\n",
              "    </tr>\n",
              "    <tr>\n",
              "      <th>5</th>\n",
              "      <td>2020</td>\n",
              "      <td>22424</td>\n",
              "      <td>11%</td>\n",
              "    </tr>\n",
              "    <tr>\n",
              "      <th>6</th>\n",
              "      <td>2021</td>\n",
              "      <td>18114</td>\n",
              "      <td>9%</td>\n",
              "    </tr>\n",
              "  </tbody>\n",
              "</table>\n",
              "</div>"
            ],
            "text/plain": [
              "   year_ocurrence  Count percentage\n",
              "3            2018  33418        16%\n",
              "4            2019  32962        16%\n",
              "2            2017  32415        16%\n",
              "1            2016  31928        16%\n",
              "0            2015  27885        14%\n",
              "5            2020  22424        11%\n",
              "6            2021  18114         9%"
            ]
          },
          "execution_count": 29,
          "metadata": {},
          "output_type": "execute_result"
        }
      ],
      "source": [
        "df_years = df.groupby(['year_ocurrence'])[\"Count\"].sum()\n",
        "df_years= DataFrame(df_years).reset_index()\n",
        "df_years = df_years.sort_values(\"Count\", ascending = False)\n",
        "df_years[\"percentage\"] = ((df_years[\"Count\"] / df_years[\"Count\"].sum())*100).astype(int).astype(str) + '%'\n",
        "df_years"
      ]
    },
    {
      "cell_type": "code",
      "execution_count": 30,
      "metadata": {
        "colab": {
          "base_uri": "https://localhost:8080/",
          "height": 542
        },
        "id": "G7pgtCNbCoDq",
        "outputId": "e3254b4d-cdff-42a6-fdde-ce6ce6dcd1ef"
      },
      "outputs": [
        {
          "data": {
            "application/vnd.plotly.v1+json": {
              "config": {
                "plotlyServerURL": "https://plot.ly"
              },
              "data": [
                {
                  "alignmentgroup": "True",
                  "hovertemplate": "year_ocurrence=%{marker.color}<br>Count=%{y}<br>percentage=%{text}<extra></extra>",
                  "legendgroup": "",
                  "marker": {
                    "color": [
                      2018,
                      2019,
                      2017,
                      2016,
                      2015,
                      2020,
                      2021
                    ],
                    "coloraxis": "coloraxis",
                    "pattern": {
                      "shape": ""
                    }
                  },
                  "name": "",
                  "offsetgroup": "",
                  "orientation": "v",
                  "showlegend": false,
                  "text": [
                    "16%",
                    "16%",
                    "16%",
                    "16%",
                    "14%",
                    "11%",
                    "9%"
                  ],
                  "textposition": "auto",
                  "type": "bar",
                  "x": [
                    2018,
                    2019,
                    2017,
                    2016,
                    2015,
                    2020,
                    2021
                  ],
                  "xaxis": "x",
                  "y": [
                    33418,
                    32962,
                    32415,
                    31928,
                    27885,
                    22424,
                    18114
                  ],
                  "yaxis": "y"
                }
              ],
              "layout": {
                "barmode": "relative",
                "coloraxis": {
                  "colorbar": {
                    "title": {
                      "text": "year_ocurrence"
                    }
                  },
                  "colorscale": [
                    [
                      0,
                      "#0d0887"
                    ],
                    [
                      0.1111111111111111,
                      "#46039f"
                    ],
                    [
                      0.2222222222222222,
                      "#7201a8"
                    ],
                    [
                      0.3333333333333333,
                      "#9c179e"
                    ],
                    [
                      0.4444444444444444,
                      "#bd3786"
                    ],
                    [
                      0.5555555555555556,
                      "#d8576b"
                    ],
                    [
                      0.6666666666666666,
                      "#ed7953"
                    ],
                    [
                      0.7777777777777778,
                      "#fb9f3a"
                    ],
                    [
                      0.8888888888888888,
                      "#fdca26"
                    ],
                    [
                      1,
                      "#f0f921"
                    ]
                  ],
                  "showscale": false
                },
                "legend": {
                  "tracegroupgap": 0
                },
                "template": {
                  "data": {
                    "bar": [
                      {
                        "error_x": {
                          "color": "#2a3f5f"
                        },
                        "error_y": {
                          "color": "#2a3f5f"
                        },
                        "marker": {
                          "line": {
                            "color": "#E5ECF6",
                            "width": 0.5
                          },
                          "pattern": {
                            "fillmode": "overlay",
                            "size": 10,
                            "solidity": 0.2
                          }
                        },
                        "type": "bar"
                      }
                    ],
                    "barpolar": [
                      {
                        "marker": {
                          "line": {
                            "color": "#E5ECF6",
                            "width": 0.5
                          },
                          "pattern": {
                            "fillmode": "overlay",
                            "size": 10,
                            "solidity": 0.2
                          }
                        },
                        "type": "barpolar"
                      }
                    ],
                    "carpet": [
                      {
                        "aaxis": {
                          "endlinecolor": "#2a3f5f",
                          "gridcolor": "white",
                          "linecolor": "white",
                          "minorgridcolor": "white",
                          "startlinecolor": "#2a3f5f"
                        },
                        "baxis": {
                          "endlinecolor": "#2a3f5f",
                          "gridcolor": "white",
                          "linecolor": "white",
                          "minorgridcolor": "white",
                          "startlinecolor": "#2a3f5f"
                        },
                        "type": "carpet"
                      }
                    ],
                    "choropleth": [
                      {
                        "colorbar": {
                          "outlinewidth": 0,
                          "ticks": ""
                        },
                        "type": "choropleth"
                      }
                    ],
                    "contour": [
                      {
                        "colorbar": {
                          "outlinewidth": 0,
                          "ticks": ""
                        },
                        "colorscale": [
                          [
                            0,
                            "#0d0887"
                          ],
                          [
                            0.1111111111111111,
                            "#46039f"
                          ],
                          [
                            0.2222222222222222,
                            "#7201a8"
                          ],
                          [
                            0.3333333333333333,
                            "#9c179e"
                          ],
                          [
                            0.4444444444444444,
                            "#bd3786"
                          ],
                          [
                            0.5555555555555556,
                            "#d8576b"
                          ],
                          [
                            0.6666666666666666,
                            "#ed7953"
                          ],
                          [
                            0.7777777777777778,
                            "#fb9f3a"
                          ],
                          [
                            0.8888888888888888,
                            "#fdca26"
                          ],
                          [
                            1,
                            "#f0f921"
                          ]
                        ],
                        "type": "contour"
                      }
                    ],
                    "contourcarpet": [
                      {
                        "colorbar": {
                          "outlinewidth": 0,
                          "ticks": ""
                        },
                        "type": "contourcarpet"
                      }
                    ],
                    "heatmap": [
                      {
                        "colorbar": {
                          "outlinewidth": 0,
                          "ticks": ""
                        },
                        "colorscale": [
                          [
                            0,
                            "#0d0887"
                          ],
                          [
                            0.1111111111111111,
                            "#46039f"
                          ],
                          [
                            0.2222222222222222,
                            "#7201a8"
                          ],
                          [
                            0.3333333333333333,
                            "#9c179e"
                          ],
                          [
                            0.4444444444444444,
                            "#bd3786"
                          ],
                          [
                            0.5555555555555556,
                            "#d8576b"
                          ],
                          [
                            0.6666666666666666,
                            "#ed7953"
                          ],
                          [
                            0.7777777777777778,
                            "#fb9f3a"
                          ],
                          [
                            0.8888888888888888,
                            "#fdca26"
                          ],
                          [
                            1,
                            "#f0f921"
                          ]
                        ],
                        "type": "heatmap"
                      }
                    ],
                    "heatmapgl": [
                      {
                        "colorbar": {
                          "outlinewidth": 0,
                          "ticks": ""
                        },
                        "colorscale": [
                          [
                            0,
                            "#0d0887"
                          ],
                          [
                            0.1111111111111111,
                            "#46039f"
                          ],
                          [
                            0.2222222222222222,
                            "#7201a8"
                          ],
                          [
                            0.3333333333333333,
                            "#9c179e"
                          ],
                          [
                            0.4444444444444444,
                            "#bd3786"
                          ],
                          [
                            0.5555555555555556,
                            "#d8576b"
                          ],
                          [
                            0.6666666666666666,
                            "#ed7953"
                          ],
                          [
                            0.7777777777777778,
                            "#fb9f3a"
                          ],
                          [
                            0.8888888888888888,
                            "#fdca26"
                          ],
                          [
                            1,
                            "#f0f921"
                          ]
                        ],
                        "type": "heatmapgl"
                      }
                    ],
                    "histogram": [
                      {
                        "marker": {
                          "pattern": {
                            "fillmode": "overlay",
                            "size": 10,
                            "solidity": 0.2
                          }
                        },
                        "type": "histogram"
                      }
                    ],
                    "histogram2d": [
                      {
                        "colorbar": {
                          "outlinewidth": 0,
                          "ticks": ""
                        },
                        "colorscale": [
                          [
                            0,
                            "#0d0887"
                          ],
                          [
                            0.1111111111111111,
                            "#46039f"
                          ],
                          [
                            0.2222222222222222,
                            "#7201a8"
                          ],
                          [
                            0.3333333333333333,
                            "#9c179e"
                          ],
                          [
                            0.4444444444444444,
                            "#bd3786"
                          ],
                          [
                            0.5555555555555556,
                            "#d8576b"
                          ],
                          [
                            0.6666666666666666,
                            "#ed7953"
                          ],
                          [
                            0.7777777777777778,
                            "#fb9f3a"
                          ],
                          [
                            0.8888888888888888,
                            "#fdca26"
                          ],
                          [
                            1,
                            "#f0f921"
                          ]
                        ],
                        "type": "histogram2d"
                      }
                    ],
                    "histogram2dcontour": [
                      {
                        "colorbar": {
                          "outlinewidth": 0,
                          "ticks": ""
                        },
                        "colorscale": [
                          [
                            0,
                            "#0d0887"
                          ],
                          [
                            0.1111111111111111,
                            "#46039f"
                          ],
                          [
                            0.2222222222222222,
                            "#7201a8"
                          ],
                          [
                            0.3333333333333333,
                            "#9c179e"
                          ],
                          [
                            0.4444444444444444,
                            "#bd3786"
                          ],
                          [
                            0.5555555555555556,
                            "#d8576b"
                          ],
                          [
                            0.6666666666666666,
                            "#ed7953"
                          ],
                          [
                            0.7777777777777778,
                            "#fb9f3a"
                          ],
                          [
                            0.8888888888888888,
                            "#fdca26"
                          ],
                          [
                            1,
                            "#f0f921"
                          ]
                        ],
                        "type": "histogram2dcontour"
                      }
                    ],
                    "mesh3d": [
                      {
                        "colorbar": {
                          "outlinewidth": 0,
                          "ticks": ""
                        },
                        "type": "mesh3d"
                      }
                    ],
                    "parcoords": [
                      {
                        "line": {
                          "colorbar": {
                            "outlinewidth": 0,
                            "ticks": ""
                          }
                        },
                        "type": "parcoords"
                      }
                    ],
                    "pie": [
                      {
                        "automargin": true,
                        "type": "pie"
                      }
                    ],
                    "scatter": [
                      {
                        "fillpattern": {
                          "fillmode": "overlay",
                          "size": 10,
                          "solidity": 0.2
                        },
                        "type": "scatter"
                      }
                    ],
                    "scatter3d": [
                      {
                        "line": {
                          "colorbar": {
                            "outlinewidth": 0,
                            "ticks": ""
                          }
                        },
                        "marker": {
                          "colorbar": {
                            "outlinewidth": 0,
                            "ticks": ""
                          }
                        },
                        "type": "scatter3d"
                      }
                    ],
                    "scattercarpet": [
                      {
                        "marker": {
                          "colorbar": {
                            "outlinewidth": 0,
                            "ticks": ""
                          }
                        },
                        "type": "scattercarpet"
                      }
                    ],
                    "scattergeo": [
                      {
                        "marker": {
                          "colorbar": {
                            "outlinewidth": 0,
                            "ticks": ""
                          }
                        },
                        "type": "scattergeo"
                      }
                    ],
                    "scattergl": [
                      {
                        "marker": {
                          "colorbar": {
                            "outlinewidth": 0,
                            "ticks": ""
                          }
                        },
                        "type": "scattergl"
                      }
                    ],
                    "scattermapbox": [
                      {
                        "marker": {
                          "colorbar": {
                            "outlinewidth": 0,
                            "ticks": ""
                          }
                        },
                        "type": "scattermapbox"
                      }
                    ],
                    "scatterpolar": [
                      {
                        "marker": {
                          "colorbar": {
                            "outlinewidth": 0,
                            "ticks": ""
                          }
                        },
                        "type": "scatterpolar"
                      }
                    ],
                    "scatterpolargl": [
                      {
                        "marker": {
                          "colorbar": {
                            "outlinewidth": 0,
                            "ticks": ""
                          }
                        },
                        "type": "scatterpolargl"
                      }
                    ],
                    "scatterternary": [
                      {
                        "marker": {
                          "colorbar": {
                            "outlinewidth": 0,
                            "ticks": ""
                          }
                        },
                        "type": "scatterternary"
                      }
                    ],
                    "surface": [
                      {
                        "colorbar": {
                          "outlinewidth": 0,
                          "ticks": ""
                        },
                        "colorscale": [
                          [
                            0,
                            "#0d0887"
                          ],
                          [
                            0.1111111111111111,
                            "#46039f"
                          ],
                          [
                            0.2222222222222222,
                            "#7201a8"
                          ],
                          [
                            0.3333333333333333,
                            "#9c179e"
                          ],
                          [
                            0.4444444444444444,
                            "#bd3786"
                          ],
                          [
                            0.5555555555555556,
                            "#d8576b"
                          ],
                          [
                            0.6666666666666666,
                            "#ed7953"
                          ],
                          [
                            0.7777777777777778,
                            "#fb9f3a"
                          ],
                          [
                            0.8888888888888888,
                            "#fdca26"
                          ],
                          [
                            1,
                            "#f0f921"
                          ]
                        ],
                        "type": "surface"
                      }
                    ],
                    "table": [
                      {
                        "cells": {
                          "fill": {
                            "color": "#EBF0F8"
                          },
                          "line": {
                            "color": "white"
                          }
                        },
                        "header": {
                          "fill": {
                            "color": "#C8D4E3"
                          },
                          "line": {
                            "color": "white"
                          }
                        },
                        "type": "table"
                      }
                    ]
                  },
                  "layout": {
                    "annotationdefaults": {
                      "arrowcolor": "#2a3f5f",
                      "arrowhead": 0,
                      "arrowwidth": 1
                    },
                    "autotypenumbers": "strict",
                    "coloraxis": {
                      "colorbar": {
                        "outlinewidth": 0,
                        "ticks": ""
                      }
                    },
                    "colorscale": {
                      "diverging": [
                        [
                          0,
                          "#8e0152"
                        ],
                        [
                          0.1,
                          "#c51b7d"
                        ],
                        [
                          0.2,
                          "#de77ae"
                        ],
                        [
                          0.3,
                          "#f1b6da"
                        ],
                        [
                          0.4,
                          "#fde0ef"
                        ],
                        [
                          0.5,
                          "#f7f7f7"
                        ],
                        [
                          0.6,
                          "#e6f5d0"
                        ],
                        [
                          0.7,
                          "#b8e186"
                        ],
                        [
                          0.8,
                          "#7fbc41"
                        ],
                        [
                          0.9,
                          "#4d9221"
                        ],
                        [
                          1,
                          "#276419"
                        ]
                      ],
                      "sequential": [
                        [
                          0,
                          "#0d0887"
                        ],
                        [
                          0.1111111111111111,
                          "#46039f"
                        ],
                        [
                          0.2222222222222222,
                          "#7201a8"
                        ],
                        [
                          0.3333333333333333,
                          "#9c179e"
                        ],
                        [
                          0.4444444444444444,
                          "#bd3786"
                        ],
                        [
                          0.5555555555555556,
                          "#d8576b"
                        ],
                        [
                          0.6666666666666666,
                          "#ed7953"
                        ],
                        [
                          0.7777777777777778,
                          "#fb9f3a"
                        ],
                        [
                          0.8888888888888888,
                          "#fdca26"
                        ],
                        [
                          1,
                          "#f0f921"
                        ]
                      ],
                      "sequentialminus": [
                        [
                          0,
                          "#0d0887"
                        ],
                        [
                          0.1111111111111111,
                          "#46039f"
                        ],
                        [
                          0.2222222222222222,
                          "#7201a8"
                        ],
                        [
                          0.3333333333333333,
                          "#9c179e"
                        ],
                        [
                          0.4444444444444444,
                          "#bd3786"
                        ],
                        [
                          0.5555555555555556,
                          "#d8576b"
                        ],
                        [
                          0.6666666666666666,
                          "#ed7953"
                        ],
                        [
                          0.7777777777777778,
                          "#fb9f3a"
                        ],
                        [
                          0.8888888888888888,
                          "#fdca26"
                        ],
                        [
                          1,
                          "#f0f921"
                        ]
                      ]
                    },
                    "colorway": [
                      "#636efa",
                      "#EF553B",
                      "#00cc96",
                      "#ab63fa",
                      "#FFA15A",
                      "#19d3f3",
                      "#FF6692",
                      "#B6E880",
                      "#FF97FF",
                      "#FECB52"
                    ],
                    "font": {
                      "color": "#2a3f5f"
                    },
                    "geo": {
                      "bgcolor": "white",
                      "lakecolor": "white",
                      "landcolor": "#E5ECF6",
                      "showlakes": true,
                      "showland": true,
                      "subunitcolor": "white"
                    },
                    "hoverlabel": {
                      "align": "left"
                    },
                    "hovermode": "closest",
                    "mapbox": {
                      "style": "light"
                    },
                    "paper_bgcolor": "white",
                    "plot_bgcolor": "#E5ECF6",
                    "polar": {
                      "angularaxis": {
                        "gridcolor": "white",
                        "linecolor": "white",
                        "ticks": ""
                      },
                      "bgcolor": "#E5ECF6",
                      "radialaxis": {
                        "gridcolor": "white",
                        "linecolor": "white",
                        "ticks": ""
                      }
                    },
                    "scene": {
                      "xaxis": {
                        "backgroundcolor": "#E5ECF6",
                        "gridcolor": "white",
                        "gridwidth": 2,
                        "linecolor": "white",
                        "showbackground": true,
                        "ticks": "",
                        "zerolinecolor": "white"
                      },
                      "yaxis": {
                        "backgroundcolor": "#E5ECF6",
                        "gridcolor": "white",
                        "gridwidth": 2,
                        "linecolor": "white",
                        "showbackground": true,
                        "ticks": "",
                        "zerolinecolor": "white"
                      },
                      "zaxis": {
                        "backgroundcolor": "#E5ECF6",
                        "gridcolor": "white",
                        "gridwidth": 2,
                        "linecolor": "white",
                        "showbackground": true,
                        "ticks": "",
                        "zerolinecolor": "white"
                      }
                    },
                    "shapedefaults": {
                      "line": {
                        "color": "#2a3f5f"
                      }
                    },
                    "ternary": {
                      "aaxis": {
                        "gridcolor": "white",
                        "linecolor": "white",
                        "ticks": ""
                      },
                      "baxis": {
                        "gridcolor": "white",
                        "linecolor": "white",
                        "ticks": ""
                      },
                      "bgcolor": "#E5ECF6",
                      "caxis": {
                        "gridcolor": "white",
                        "linecolor": "white",
                        "ticks": ""
                      }
                    },
                    "title": {
                      "x": 0.05
                    },
                    "xaxis": {
                      "automargin": true,
                      "gridcolor": "white",
                      "linecolor": "white",
                      "ticks": "",
                      "title": {
                        "standoff": 15
                      },
                      "zerolinecolor": "white",
                      "zerolinewidth": 2
                    },
                    "yaxis": {
                      "automargin": true,
                      "gridcolor": "white",
                      "linecolor": "white",
                      "ticks": "",
                      "title": {
                        "standoff": 15
                      },
                      "zerolinecolor": "white",
                      "zerolinewidth": 2
                    }
                  }
                },
                "title": {
                  "text": "Accidents by year"
                },
                "xaxis": {
                  "anchor": "y",
                  "domain": [
                    0,
                    1
                  ],
                  "title": {
                    "text": "year_ocurrence"
                  }
                },
                "yaxis": {
                  "anchor": "x",
                  "domain": [
                    0,
                    1
                  ],
                  "title": {
                    "text": "Count"
                  }
                }
              }
            }
          },
          "metadata": {},
          "output_type": "display_data"
        }
      ],
      "source": [
        "fig = px.bar(df_years, x=df_years.year_ocurrence, y=df_years.Count, title=\"Accidents by year\",  color=\"year_ocurrence\", text= \"percentage\")\n",
        "fig.update_coloraxes(showscale = False)\n",
        "fig.show()"
      ]
    },
    {
      "cell_type": "markdown",
      "metadata": {
        "id": "ykBLhl_uFcZP"
      },
      "source": [
        "According to the chart, we can say that maybe 2020 has less accidents than previous years due to pandemic. But the low level of accidents of 2021 could be related with missing data for the end of the year. We need to check that inspecting the months with available data for each year."
      ]
    },
    {
      "cell_type": "markdown",
      "metadata": {
        "id": "41sWR457FSvF"
      },
      "source": [
        "We create a new column to display month and year. In this way, we can display a time series chart:"
      ]
    },
    {
      "cell_type": "code",
      "execution_count": 31,
      "metadata": {
        "colab": {
          "base_uri": "https://localhost:8080/"
        },
        "id": "t9oRlg91dJUv",
        "outputId": "35aa7542-64fc-4eae-c876-92ae166fbb25"
      },
      "outputs": [
        {
          "data": {
            "text/plain": [
              "0         Jun/2017\n",
              "1         Nov/2020\n",
              "2         Nov/2020\n",
              "3         May/2015\n",
              "4         Jun/2016\n",
              "            ...   \n",
              "199141    Aug/2021\n",
              "199142    Aug/2021\n",
              "199143    Mar/2021\n",
              "199144    Apr/2021\n",
              "199145    Jul/2021\n",
              "Name: MM_YYYY, Length: 199146, dtype: object"
            ]
          },
          "execution_count": 31,
          "metadata": {},
          "output_type": "execute_result"
        }
      ],
      "source": [
        "df['MM_YYYY'] = df['date'].dt.to_period('M')\n",
        "df['MM_YYYY'] = df['MM_YYYY'].dt.strftime('%b/%Y')\n",
        "df['MM_YYYY']"
      ]
    },
    {
      "cell_type": "markdown",
      "metadata": {
        "id": "y3GL8wjNvFH3"
      },
      "source": [
        "We group data by month and year and sort them for the time series chart: "
      ]
    },
    {
      "cell_type": "code",
      "execution_count": 32,
      "metadata": {
        "colab": {
          "base_uri": "https://localhost:8080/",
          "height": 424
        },
        "id": "cXIKoeedA9PP",
        "outputId": "a1e8a2a2-a538-459e-fa1b-f6826e4adff4"
      },
      "outputs": [
        {
          "data": {
            "text/html": [
              "<div>\n",
              "<style scoped>\n",
              "    .dataframe tbody tr th:only-of-type {\n",
              "        vertical-align: middle;\n",
              "    }\n",
              "\n",
              "    .dataframe tbody tr th {\n",
              "        vertical-align: top;\n",
              "    }\n",
              "\n",
              "    .dataframe thead th {\n",
              "        text-align: right;\n",
              "    }\n",
              "</style>\n",
              "<table border=\"1\" class=\"dataframe\">\n",
              "  <thead>\n",
              "    <tr style=\"text-align: right;\">\n",
              "      <th></th>\n",
              "      <th>MM_YYYY</th>\n",
              "      <th>Count</th>\n",
              "      <th>MM</th>\n",
              "      <th>YYYY</th>\n",
              "    </tr>\n",
              "  </thead>\n",
              "  <tbody>\n",
              "    <tr>\n",
              "      <th>27</th>\n",
              "      <td>Jan/2015</td>\n",
              "      <td>1913</td>\n",
              "      <td>1</td>\n",
              "      <td>2015</td>\n",
              "    </tr>\n",
              "    <tr>\n",
              "      <th>20</th>\n",
              "      <td>Feb/2015</td>\n",
              "      <td>2310</td>\n",
              "      <td>2</td>\n",
              "      <td>2015</td>\n",
              "    </tr>\n",
              "    <tr>\n",
              "      <th>48</th>\n",
              "      <td>Mar/2015</td>\n",
              "      <td>2396</td>\n",
              "      <td>3</td>\n",
              "      <td>2015</td>\n",
              "    </tr>\n",
              "    <tr>\n",
              "      <th>0</th>\n",
              "      <td>Apr/2015</td>\n",
              "      <td>2259</td>\n",
              "      <td>4</td>\n",
              "      <td>2015</td>\n",
              "    </tr>\n",
              "    <tr>\n",
              "      <th>55</th>\n",
              "      <td>May/2015</td>\n",
              "      <td>2388</td>\n",
              "      <td>5</td>\n",
              "      <td>2015</td>\n",
              "    </tr>\n",
              "    <tr>\n",
              "      <th>...</th>\n",
              "      <td>...</td>\n",
              "      <td>...</td>\n",
              "      <td>...</td>\n",
              "      <td>...</td>\n",
              "    </tr>\n",
              "    <tr>\n",
              "      <th>61</th>\n",
              "      <td>May/2021</td>\n",
              "      <td>2030</td>\n",
              "      <td>5</td>\n",
              "      <td>2021</td>\n",
              "    </tr>\n",
              "    <tr>\n",
              "      <th>47</th>\n",
              "      <td>Jun/2021</td>\n",
              "      <td>2341</td>\n",
              "      <td>6</td>\n",
              "      <td>2021</td>\n",
              "    </tr>\n",
              "    <tr>\n",
              "      <th>40</th>\n",
              "      <td>Jul/2021</td>\n",
              "      <td>2423</td>\n",
              "      <td>7</td>\n",
              "      <td>2021</td>\n",
              "    </tr>\n",
              "    <tr>\n",
              "      <th>13</th>\n",
              "      <td>Aug/2021</td>\n",
              "      <td>2506</td>\n",
              "      <td>8</td>\n",
              "      <td>2021</td>\n",
              "    </tr>\n",
              "    <tr>\n",
              "      <th>80</th>\n",
              "      <td>Sep/2021</td>\n",
              "      <td>754</td>\n",
              "      <td>9</td>\n",
              "      <td>2021</td>\n",
              "    </tr>\n",
              "  </tbody>\n",
              "</table>\n",
              "<p>81 rows × 4 columns</p>\n",
              "</div>"
            ],
            "text/plain": [
              "     MM_YYYY  Count  MM  YYYY\n",
              "27  Jan/2015   1913   1  2015\n",
              "20  Feb/2015   2310   2  2015\n",
              "48  Mar/2015   2396   3  2015\n",
              "0   Apr/2015   2259   4  2015\n",
              "55  May/2015   2388   5  2015\n",
              "..       ...    ...  ..   ...\n",
              "61  May/2021   2030   5  2021\n",
              "47  Jun/2021   2341   6  2021\n",
              "40  Jul/2021   2423   7  2021\n",
              "13  Aug/2021   2506   8  2021\n",
              "80  Sep/2021    754   9  2021\n",
              "\n",
              "[81 rows x 4 columns]"
            ]
          },
          "execution_count": 32,
          "metadata": {},
          "output_type": "execute_result"
        }
      ],
      "source": [
        "df_my = df.groupby(['MM_YYYY'])[\"Count\"].sum()\n",
        "df_my= DataFrame(df_my).reset_index()\n",
        "df_my[\"MM_YYYY\"] = df_my[\"MM_YYYY\"].astype(str)\n",
        "df_my[\"MM\"] = df_my[\"MM_YYYY\"].str[0:3]\n",
        "df_my[\"YYYY\"] = df_my[\"MM_YYYY\"].str[4:8]\n",
        "num_months = {\"Jan\":1, \"Feb\":2, \"Mar\":3, \"Apr\":4, \"May\":5,\"Jun\":6,\"Jul\":7,\"Aug\":8,\"Sep\":9,\"Oct\":10,\"Nov\":11,\"Dec\":12}\n",
        "df_my = df_my.replace({\"MM\": num_months})\n",
        "df_my = df_my.sort_values([\"YYYY\",\"MM\" ])\n",
        "df_my"
      ]
    },
    {
      "cell_type": "code",
      "execution_count": 33,
      "metadata": {
        "colab": {
          "base_uri": "https://localhost:8080/",
          "height": 542
        },
        "id": "QFuF2LLugUs1",
        "outputId": "9f9d78fd-6809-4e31-84b5-f53a1e66603e"
      },
      "outputs": [
        {
          "data": {
            "application/vnd.plotly.v1+json": {
              "config": {
                "plotlyServerURL": "https://plot.ly"
              },
              "data": [
                {
                  "hovertemplate": "MM_YYYY=%{x}<br>Total Accidents=%{y}<extra></extra>",
                  "legendgroup": "",
                  "line": {
                    "color": "#636efa",
                    "dash": "solid"
                  },
                  "marker": {
                    "symbol": "circle"
                  },
                  "mode": "lines",
                  "name": "",
                  "orientation": "v",
                  "showlegend": false,
                  "type": "scatter",
                  "x": [
                    "Jan/2015",
                    "Feb/2015",
                    "Mar/2015",
                    "Apr/2015",
                    "May/2015",
                    "Jun/2015",
                    "Jul/2015",
                    "Aug/2015",
                    "Sep/2015",
                    "Oct/2015",
                    "Nov/2015",
                    "Dec/2015",
                    "Jan/2016",
                    "Feb/2016",
                    "Mar/2016",
                    "Apr/2016",
                    "May/2016",
                    "Jun/2016",
                    "Jul/2016",
                    "Aug/2016",
                    "Sep/2016",
                    "Oct/2016",
                    "Nov/2016",
                    "Dec/2016",
                    "Jan/2017",
                    "Feb/2017",
                    "Mar/2017",
                    "Apr/2017",
                    "May/2017",
                    "Jun/2017",
                    "Jul/2017",
                    "Aug/2017",
                    "Sep/2017",
                    "Oct/2017",
                    "Nov/2017",
                    "Dec/2017",
                    "Jan/2018",
                    "Feb/2018",
                    "Mar/2018",
                    "Apr/2018",
                    "May/2018",
                    "Jun/2018",
                    "Jul/2018",
                    "Aug/2018",
                    "Sep/2018",
                    "Oct/2018",
                    "Nov/2018",
                    "Dec/2018",
                    "Jan/2019",
                    "Feb/2019",
                    "Mar/2019",
                    "Apr/2019",
                    "May/2019",
                    "Jun/2019",
                    "Jul/2019",
                    "Aug/2019",
                    "Sep/2019",
                    "Oct/2019",
                    "Nov/2019",
                    "Dec/2019",
                    "Jan/2020",
                    "Feb/2020",
                    "Mar/2020",
                    "Apr/2020",
                    "May/2020",
                    "Jun/2020",
                    "Jul/2020",
                    "Aug/2020",
                    "Sep/2020",
                    "Oct/2020",
                    "Nov/2020",
                    "Dec/2020",
                    "Jan/2021",
                    "Feb/2021",
                    "Mar/2021",
                    "Apr/2021",
                    "May/2021",
                    "Jun/2021",
                    "Jul/2021",
                    "Aug/2021",
                    "Sep/2021"
                  ],
                  "xaxis": "x",
                  "y": [
                    1913,
                    2310,
                    2396,
                    2259,
                    2388,
                    2233,
                    2470,
                    2315,
                    2512,
                    2500,
                    2393,
                    2196,
                    1905,
                    2367,
                    2411,
                    2653,
                    2783,
                    2634,
                    2632,
                    2822,
                    2898,
                    3030,
                    3053,
                    2740,
                    2156,
                    2706,
                    2954,
                    2487,
                    3037,
                    2521,
                    2647,
                    2819,
                    2727,
                    2784,
                    2822,
                    2755,
                    2260,
                    2648,
                    3022,
                    2900,
                    3040,
                    2900,
                    2737,
                    2866,
                    2606,
                    2798,
                    2797,
                    2844,
                    2260,
                    2494,
                    2871,
                    2599,
                    2969,
                    2572,
                    2761,
                    2887,
                    2937,
                    2917,
                    2715,
                    2980,
                    2284,
                    2796,
                    1866,
                    676,
                    1127,
                    1492,
                    1607,
                    1617,
                    2022,
                    2264,
                    2304,
                    2369,
                    1493,
                    2026,
                    2600,
                    1941,
                    2030,
                    2341,
                    2423,
                    2506,
                    754
                  ],
                  "yaxis": "y"
                }
              ],
              "layout": {
                "legend": {
                  "tracegroupgap": 0
                },
                "template": {
                  "data": {
                    "bar": [
                      {
                        "error_x": {
                          "color": "#2a3f5f"
                        },
                        "error_y": {
                          "color": "#2a3f5f"
                        },
                        "marker": {
                          "line": {
                            "color": "#E5ECF6",
                            "width": 0.5
                          },
                          "pattern": {
                            "fillmode": "overlay",
                            "size": 10,
                            "solidity": 0.2
                          }
                        },
                        "type": "bar"
                      }
                    ],
                    "barpolar": [
                      {
                        "marker": {
                          "line": {
                            "color": "#E5ECF6",
                            "width": 0.5
                          },
                          "pattern": {
                            "fillmode": "overlay",
                            "size": 10,
                            "solidity": 0.2
                          }
                        },
                        "type": "barpolar"
                      }
                    ],
                    "carpet": [
                      {
                        "aaxis": {
                          "endlinecolor": "#2a3f5f",
                          "gridcolor": "white",
                          "linecolor": "white",
                          "minorgridcolor": "white",
                          "startlinecolor": "#2a3f5f"
                        },
                        "baxis": {
                          "endlinecolor": "#2a3f5f",
                          "gridcolor": "white",
                          "linecolor": "white",
                          "minorgridcolor": "white",
                          "startlinecolor": "#2a3f5f"
                        },
                        "type": "carpet"
                      }
                    ],
                    "choropleth": [
                      {
                        "colorbar": {
                          "outlinewidth": 0,
                          "ticks": ""
                        },
                        "type": "choropleth"
                      }
                    ],
                    "contour": [
                      {
                        "colorbar": {
                          "outlinewidth": 0,
                          "ticks": ""
                        },
                        "colorscale": [
                          [
                            0,
                            "#0d0887"
                          ],
                          [
                            0.1111111111111111,
                            "#46039f"
                          ],
                          [
                            0.2222222222222222,
                            "#7201a8"
                          ],
                          [
                            0.3333333333333333,
                            "#9c179e"
                          ],
                          [
                            0.4444444444444444,
                            "#bd3786"
                          ],
                          [
                            0.5555555555555556,
                            "#d8576b"
                          ],
                          [
                            0.6666666666666666,
                            "#ed7953"
                          ],
                          [
                            0.7777777777777778,
                            "#fb9f3a"
                          ],
                          [
                            0.8888888888888888,
                            "#fdca26"
                          ],
                          [
                            1,
                            "#f0f921"
                          ]
                        ],
                        "type": "contour"
                      }
                    ],
                    "contourcarpet": [
                      {
                        "colorbar": {
                          "outlinewidth": 0,
                          "ticks": ""
                        },
                        "type": "contourcarpet"
                      }
                    ],
                    "heatmap": [
                      {
                        "colorbar": {
                          "outlinewidth": 0,
                          "ticks": ""
                        },
                        "colorscale": [
                          [
                            0,
                            "#0d0887"
                          ],
                          [
                            0.1111111111111111,
                            "#46039f"
                          ],
                          [
                            0.2222222222222222,
                            "#7201a8"
                          ],
                          [
                            0.3333333333333333,
                            "#9c179e"
                          ],
                          [
                            0.4444444444444444,
                            "#bd3786"
                          ],
                          [
                            0.5555555555555556,
                            "#d8576b"
                          ],
                          [
                            0.6666666666666666,
                            "#ed7953"
                          ],
                          [
                            0.7777777777777778,
                            "#fb9f3a"
                          ],
                          [
                            0.8888888888888888,
                            "#fdca26"
                          ],
                          [
                            1,
                            "#f0f921"
                          ]
                        ],
                        "type": "heatmap"
                      }
                    ],
                    "heatmapgl": [
                      {
                        "colorbar": {
                          "outlinewidth": 0,
                          "ticks": ""
                        },
                        "colorscale": [
                          [
                            0,
                            "#0d0887"
                          ],
                          [
                            0.1111111111111111,
                            "#46039f"
                          ],
                          [
                            0.2222222222222222,
                            "#7201a8"
                          ],
                          [
                            0.3333333333333333,
                            "#9c179e"
                          ],
                          [
                            0.4444444444444444,
                            "#bd3786"
                          ],
                          [
                            0.5555555555555556,
                            "#d8576b"
                          ],
                          [
                            0.6666666666666666,
                            "#ed7953"
                          ],
                          [
                            0.7777777777777778,
                            "#fb9f3a"
                          ],
                          [
                            0.8888888888888888,
                            "#fdca26"
                          ],
                          [
                            1,
                            "#f0f921"
                          ]
                        ],
                        "type": "heatmapgl"
                      }
                    ],
                    "histogram": [
                      {
                        "marker": {
                          "pattern": {
                            "fillmode": "overlay",
                            "size": 10,
                            "solidity": 0.2
                          }
                        },
                        "type": "histogram"
                      }
                    ],
                    "histogram2d": [
                      {
                        "colorbar": {
                          "outlinewidth": 0,
                          "ticks": ""
                        },
                        "colorscale": [
                          [
                            0,
                            "#0d0887"
                          ],
                          [
                            0.1111111111111111,
                            "#46039f"
                          ],
                          [
                            0.2222222222222222,
                            "#7201a8"
                          ],
                          [
                            0.3333333333333333,
                            "#9c179e"
                          ],
                          [
                            0.4444444444444444,
                            "#bd3786"
                          ],
                          [
                            0.5555555555555556,
                            "#d8576b"
                          ],
                          [
                            0.6666666666666666,
                            "#ed7953"
                          ],
                          [
                            0.7777777777777778,
                            "#fb9f3a"
                          ],
                          [
                            0.8888888888888888,
                            "#fdca26"
                          ],
                          [
                            1,
                            "#f0f921"
                          ]
                        ],
                        "type": "histogram2d"
                      }
                    ],
                    "histogram2dcontour": [
                      {
                        "colorbar": {
                          "outlinewidth": 0,
                          "ticks": ""
                        },
                        "colorscale": [
                          [
                            0,
                            "#0d0887"
                          ],
                          [
                            0.1111111111111111,
                            "#46039f"
                          ],
                          [
                            0.2222222222222222,
                            "#7201a8"
                          ],
                          [
                            0.3333333333333333,
                            "#9c179e"
                          ],
                          [
                            0.4444444444444444,
                            "#bd3786"
                          ],
                          [
                            0.5555555555555556,
                            "#d8576b"
                          ],
                          [
                            0.6666666666666666,
                            "#ed7953"
                          ],
                          [
                            0.7777777777777778,
                            "#fb9f3a"
                          ],
                          [
                            0.8888888888888888,
                            "#fdca26"
                          ],
                          [
                            1,
                            "#f0f921"
                          ]
                        ],
                        "type": "histogram2dcontour"
                      }
                    ],
                    "mesh3d": [
                      {
                        "colorbar": {
                          "outlinewidth": 0,
                          "ticks": ""
                        },
                        "type": "mesh3d"
                      }
                    ],
                    "parcoords": [
                      {
                        "line": {
                          "colorbar": {
                            "outlinewidth": 0,
                            "ticks": ""
                          }
                        },
                        "type": "parcoords"
                      }
                    ],
                    "pie": [
                      {
                        "automargin": true,
                        "type": "pie"
                      }
                    ],
                    "scatter": [
                      {
                        "fillpattern": {
                          "fillmode": "overlay",
                          "size": 10,
                          "solidity": 0.2
                        },
                        "type": "scatter"
                      }
                    ],
                    "scatter3d": [
                      {
                        "line": {
                          "colorbar": {
                            "outlinewidth": 0,
                            "ticks": ""
                          }
                        },
                        "marker": {
                          "colorbar": {
                            "outlinewidth": 0,
                            "ticks": ""
                          }
                        },
                        "type": "scatter3d"
                      }
                    ],
                    "scattercarpet": [
                      {
                        "marker": {
                          "colorbar": {
                            "outlinewidth": 0,
                            "ticks": ""
                          }
                        },
                        "type": "scattercarpet"
                      }
                    ],
                    "scattergeo": [
                      {
                        "marker": {
                          "colorbar": {
                            "outlinewidth": 0,
                            "ticks": ""
                          }
                        },
                        "type": "scattergeo"
                      }
                    ],
                    "scattergl": [
                      {
                        "marker": {
                          "colorbar": {
                            "outlinewidth": 0,
                            "ticks": ""
                          }
                        },
                        "type": "scattergl"
                      }
                    ],
                    "scattermapbox": [
                      {
                        "marker": {
                          "colorbar": {
                            "outlinewidth": 0,
                            "ticks": ""
                          }
                        },
                        "type": "scattermapbox"
                      }
                    ],
                    "scatterpolar": [
                      {
                        "marker": {
                          "colorbar": {
                            "outlinewidth": 0,
                            "ticks": ""
                          }
                        },
                        "type": "scatterpolar"
                      }
                    ],
                    "scatterpolargl": [
                      {
                        "marker": {
                          "colorbar": {
                            "outlinewidth": 0,
                            "ticks": ""
                          }
                        },
                        "type": "scatterpolargl"
                      }
                    ],
                    "scatterternary": [
                      {
                        "marker": {
                          "colorbar": {
                            "outlinewidth": 0,
                            "ticks": ""
                          }
                        },
                        "type": "scatterternary"
                      }
                    ],
                    "surface": [
                      {
                        "colorbar": {
                          "outlinewidth": 0,
                          "ticks": ""
                        },
                        "colorscale": [
                          [
                            0,
                            "#0d0887"
                          ],
                          [
                            0.1111111111111111,
                            "#46039f"
                          ],
                          [
                            0.2222222222222222,
                            "#7201a8"
                          ],
                          [
                            0.3333333333333333,
                            "#9c179e"
                          ],
                          [
                            0.4444444444444444,
                            "#bd3786"
                          ],
                          [
                            0.5555555555555556,
                            "#d8576b"
                          ],
                          [
                            0.6666666666666666,
                            "#ed7953"
                          ],
                          [
                            0.7777777777777778,
                            "#fb9f3a"
                          ],
                          [
                            0.8888888888888888,
                            "#fdca26"
                          ],
                          [
                            1,
                            "#f0f921"
                          ]
                        ],
                        "type": "surface"
                      }
                    ],
                    "table": [
                      {
                        "cells": {
                          "fill": {
                            "color": "#EBF0F8"
                          },
                          "line": {
                            "color": "white"
                          }
                        },
                        "header": {
                          "fill": {
                            "color": "#C8D4E3"
                          },
                          "line": {
                            "color": "white"
                          }
                        },
                        "type": "table"
                      }
                    ]
                  },
                  "layout": {
                    "annotationdefaults": {
                      "arrowcolor": "#2a3f5f",
                      "arrowhead": 0,
                      "arrowwidth": 1
                    },
                    "autotypenumbers": "strict",
                    "coloraxis": {
                      "colorbar": {
                        "outlinewidth": 0,
                        "ticks": ""
                      }
                    },
                    "colorscale": {
                      "diverging": [
                        [
                          0,
                          "#8e0152"
                        ],
                        [
                          0.1,
                          "#c51b7d"
                        ],
                        [
                          0.2,
                          "#de77ae"
                        ],
                        [
                          0.3,
                          "#f1b6da"
                        ],
                        [
                          0.4,
                          "#fde0ef"
                        ],
                        [
                          0.5,
                          "#f7f7f7"
                        ],
                        [
                          0.6,
                          "#e6f5d0"
                        ],
                        [
                          0.7,
                          "#b8e186"
                        ],
                        [
                          0.8,
                          "#7fbc41"
                        ],
                        [
                          0.9,
                          "#4d9221"
                        ],
                        [
                          1,
                          "#276419"
                        ]
                      ],
                      "sequential": [
                        [
                          0,
                          "#0d0887"
                        ],
                        [
                          0.1111111111111111,
                          "#46039f"
                        ],
                        [
                          0.2222222222222222,
                          "#7201a8"
                        ],
                        [
                          0.3333333333333333,
                          "#9c179e"
                        ],
                        [
                          0.4444444444444444,
                          "#bd3786"
                        ],
                        [
                          0.5555555555555556,
                          "#d8576b"
                        ],
                        [
                          0.6666666666666666,
                          "#ed7953"
                        ],
                        [
                          0.7777777777777778,
                          "#fb9f3a"
                        ],
                        [
                          0.8888888888888888,
                          "#fdca26"
                        ],
                        [
                          1,
                          "#f0f921"
                        ]
                      ],
                      "sequentialminus": [
                        [
                          0,
                          "#0d0887"
                        ],
                        [
                          0.1111111111111111,
                          "#46039f"
                        ],
                        [
                          0.2222222222222222,
                          "#7201a8"
                        ],
                        [
                          0.3333333333333333,
                          "#9c179e"
                        ],
                        [
                          0.4444444444444444,
                          "#bd3786"
                        ],
                        [
                          0.5555555555555556,
                          "#d8576b"
                        ],
                        [
                          0.6666666666666666,
                          "#ed7953"
                        ],
                        [
                          0.7777777777777778,
                          "#fb9f3a"
                        ],
                        [
                          0.8888888888888888,
                          "#fdca26"
                        ],
                        [
                          1,
                          "#f0f921"
                        ]
                      ]
                    },
                    "colorway": [
                      "#636efa",
                      "#EF553B",
                      "#00cc96",
                      "#ab63fa",
                      "#FFA15A",
                      "#19d3f3",
                      "#FF6692",
                      "#B6E880",
                      "#FF97FF",
                      "#FECB52"
                    ],
                    "font": {
                      "color": "#2a3f5f"
                    },
                    "geo": {
                      "bgcolor": "white",
                      "lakecolor": "white",
                      "landcolor": "#E5ECF6",
                      "showlakes": true,
                      "showland": true,
                      "subunitcolor": "white"
                    },
                    "hoverlabel": {
                      "align": "left"
                    },
                    "hovermode": "closest",
                    "mapbox": {
                      "style": "light"
                    },
                    "paper_bgcolor": "white",
                    "plot_bgcolor": "#E5ECF6",
                    "polar": {
                      "angularaxis": {
                        "gridcolor": "white",
                        "linecolor": "white",
                        "ticks": ""
                      },
                      "bgcolor": "#E5ECF6",
                      "radialaxis": {
                        "gridcolor": "white",
                        "linecolor": "white",
                        "ticks": ""
                      }
                    },
                    "scene": {
                      "xaxis": {
                        "backgroundcolor": "#E5ECF6",
                        "gridcolor": "white",
                        "gridwidth": 2,
                        "linecolor": "white",
                        "showbackground": true,
                        "ticks": "",
                        "zerolinecolor": "white"
                      },
                      "yaxis": {
                        "backgroundcolor": "#E5ECF6",
                        "gridcolor": "white",
                        "gridwidth": 2,
                        "linecolor": "white",
                        "showbackground": true,
                        "ticks": "",
                        "zerolinecolor": "white"
                      },
                      "zaxis": {
                        "backgroundcolor": "#E5ECF6",
                        "gridcolor": "white",
                        "gridwidth": 2,
                        "linecolor": "white",
                        "showbackground": true,
                        "ticks": "",
                        "zerolinecolor": "white"
                      }
                    },
                    "shapedefaults": {
                      "line": {
                        "color": "#2a3f5f"
                      }
                    },
                    "ternary": {
                      "aaxis": {
                        "gridcolor": "white",
                        "linecolor": "white",
                        "ticks": ""
                      },
                      "baxis": {
                        "gridcolor": "white",
                        "linecolor": "white",
                        "ticks": ""
                      },
                      "bgcolor": "#E5ECF6",
                      "caxis": {
                        "gridcolor": "white",
                        "linecolor": "white",
                        "ticks": ""
                      }
                    },
                    "title": {
                      "x": 0.05
                    },
                    "xaxis": {
                      "automargin": true,
                      "gridcolor": "white",
                      "linecolor": "white",
                      "ticks": "",
                      "title": {
                        "standoff": 15
                      },
                      "zerolinecolor": "white",
                      "zerolinewidth": 2
                    },
                    "yaxis": {
                      "automargin": true,
                      "gridcolor": "white",
                      "linecolor": "white",
                      "ticks": "",
                      "title": {
                        "standoff": 15
                      },
                      "zerolinecolor": "white",
                      "zerolinewidth": 2
                    }
                  }
                },
                "title": {
                  "text": "Total accidents by year and month"
                },
                "xaxis": {
                  "anchor": "y",
                  "domain": [
                    0,
                    1
                  ],
                  "dtick": 3,
                  "showgrid": false,
                  "tick0": 0,
                  "tickangle": -90,
                  "tickmode": "linear",
                  "title": {
                    "text": "MM_YYYY"
                  }
                },
                "yaxis": {
                  "anchor": "x",
                  "domain": [
                    0,
                    1
                  ],
                  "title": {
                    "text": "Total Accidents"
                  }
                }
              }
            }
          },
          "metadata": {},
          "output_type": "display_data"
        }
      ],
      "source": [
        "fig = px.line(df_my, x='MM_YYYY', y='Count',\n",
        "    labels=dict( Count = \"Total Accidents\"), title = \"Total accidents by year and month\")\n",
        "\n",
        "fig.update_xaxes(tickangle=270)\n",
        "fig.update_layout(\n",
        "    xaxis = dict(\n",
        "        tickmode = 'linear',\n",
        "        tick0 = 0,\n",
        "        dtick = 3,\n",
        "        showgrid=False,\n",
        "    ), #yaxis=dict(showgrid=False),\n",
        ")\n",
        "fig.show()"
      ]
    },
    {
      "cell_type": "markdown",
      "metadata": {
        "id": "O61CL5D6dYm-"
      },
      "source": [
        "Looking at the whole period of analysis, 2015 was the year with the lowest level of accidentality, while from 2016 to 2019 the average level of accidents was similar. Also, we see that 2020 was an atypical year, with a strong drop on April 2020 caused by the COVID-19 pandemic lockdown in Bogotá. From this , the level of accidents was lower than 2020, until september when the goverment finished the quarantine period. After this action, the level of accidents have been more similar to 2016, but having bigger spikes than before.\n",
        "On the other side, looking at seasonality we see that January represents the month with less accidents than the other months. This situation can be explained by New Year celebration and holidays. People usually go away from the city to have fun on tourist destinations. Then, the drop on december can be also explained for the same reason: Xmas activities and holidays, but the effect is smaller that in january.\n",
        "We also note that 2021 has incomplete data, because we are missing data from september to december."
      ]
    },
    {
      "cell_type": "markdown",
      "metadata": {
        "id": "KAJSQ2z5SKSA"
      },
      "source": [
        "We create a new column with hour to look at this factor later:"
      ]
    },
    {
      "cell_type": "code",
      "execution_count": 34,
      "metadata": {
        "colab": {
          "base_uri": "https://localhost:8080/"
        },
        "id": "oZRjxpSCoFYm",
        "outputId": "f0e849b2-b64e-4680-94e0-624d335fcbc3"
      },
      "outputs": [
        {
          "data": {
            "text/plain": [
              "0          5\n",
              "1          2\n",
              "2         13\n",
              "3         10\n",
              "4         21\n",
              "          ..\n",
              "199141    16\n",
              "199142    14\n",
              "199143    12\n",
              "199144    21\n",
              "199145    19\n",
              "Name: hour, Length: 199146, dtype: int64"
            ]
          },
          "execution_count": 34,
          "metadata": {},
          "output_type": "execute_result"
        }
      ],
      "source": [
        "df['hour'] = pd.to_datetime(df['full_date']).dt.hour\n",
        "df['hour']"
      ]
    },
    {
      "cell_type": "markdown",
      "metadata": {
        "id": "Z1gn9gXdHn9W"
      },
      "source": [
        "We group the accidents by hour:"
      ]
    },
    {
      "cell_type": "code",
      "execution_count": 35,
      "metadata": {
        "id": "WcQw0XuWBi5l"
      },
      "outputs": [],
      "source": [
        "df_hour = df.groupby(['hour'])[\"Count\"].sum()\n",
        "df_hour= DataFrame(df_hour).reset_index()\n",
        "df_hour = df_hour.sort_values(\"hour\", ascending = True)"
      ]
    },
    {
      "cell_type": "code",
      "execution_count": 36,
      "metadata": {
        "colab": {
          "base_uri": "https://localhost:8080/",
          "height": 542
        },
        "id": "KZKOnb71DBIL",
        "outputId": "3c951846-2687-4f6c-f6e1-c046f5c5542e"
      },
      "outputs": [
        {
          "data": {
            "application/vnd.plotly.v1+json": {
              "config": {
                "plotlyServerURL": "https://plot.ly"
              },
              "data": [
                {
                  "alignmentgroup": "True",
                  "hovertemplate": "hour=%{marker.color}<br>Count=%{y}<extra></extra>",
                  "legendgroup": "",
                  "marker": {
                    "color": [
                      0,
                      1,
                      2,
                      3,
                      4,
                      5,
                      6,
                      7,
                      8,
                      9,
                      10,
                      11,
                      12,
                      13,
                      14,
                      15,
                      16,
                      17,
                      18,
                      19,
                      20,
                      21,
                      22,
                      23
                    ],
                    "coloraxis": "coloraxis",
                    "pattern": {
                      "shape": ""
                    }
                  },
                  "name": "",
                  "offsetgroup": "",
                  "orientation": "v",
                  "showlegend": false,
                  "textposition": "auto",
                  "type": "bar",
                  "x": [
                    0,
                    1,
                    2,
                    3,
                    4,
                    5,
                    6,
                    7,
                    8,
                    9,
                    10,
                    11,
                    12,
                    13,
                    14,
                    15,
                    16,
                    17,
                    18,
                    19,
                    20,
                    21,
                    22,
                    23
                  ],
                  "xaxis": "x",
                  "y": [
                    2408,
                    1775,
                    1539,
                    1878,
                    2324,
                    5617,
                    9601,
                    11631,
                    11106,
                    10250,
                    10880,
                    11585,
                    11972,
                    12544,
                    13187,
                    11769,
                    11403,
                    11268,
                    10055,
                    10636,
                    9656,
                    7092,
                    5320,
                    3650
                  ],
                  "yaxis": "y"
                }
              ],
              "layout": {
                "barmode": "relative",
                "coloraxis": {
                  "colorbar": {
                    "title": {
                      "text": "hour"
                    }
                  },
                  "colorscale": [
                    [
                      0,
                      "#0d0887"
                    ],
                    [
                      0.1111111111111111,
                      "#46039f"
                    ],
                    [
                      0.2222222222222222,
                      "#7201a8"
                    ],
                    [
                      0.3333333333333333,
                      "#9c179e"
                    ],
                    [
                      0.4444444444444444,
                      "#bd3786"
                    ],
                    [
                      0.5555555555555556,
                      "#d8576b"
                    ],
                    [
                      0.6666666666666666,
                      "#ed7953"
                    ],
                    [
                      0.7777777777777778,
                      "#fb9f3a"
                    ],
                    [
                      0.8888888888888888,
                      "#fdca26"
                    ],
                    [
                      1,
                      "#f0f921"
                    ]
                  ],
                  "showscale": false
                },
                "legend": {
                  "tracegroupgap": 0
                },
                "template": {
                  "data": {
                    "bar": [
                      {
                        "error_x": {
                          "color": "#2a3f5f"
                        },
                        "error_y": {
                          "color": "#2a3f5f"
                        },
                        "marker": {
                          "line": {
                            "color": "#E5ECF6",
                            "width": 0.5
                          },
                          "pattern": {
                            "fillmode": "overlay",
                            "size": 10,
                            "solidity": 0.2
                          }
                        },
                        "type": "bar"
                      }
                    ],
                    "barpolar": [
                      {
                        "marker": {
                          "line": {
                            "color": "#E5ECF6",
                            "width": 0.5
                          },
                          "pattern": {
                            "fillmode": "overlay",
                            "size": 10,
                            "solidity": 0.2
                          }
                        },
                        "type": "barpolar"
                      }
                    ],
                    "carpet": [
                      {
                        "aaxis": {
                          "endlinecolor": "#2a3f5f",
                          "gridcolor": "white",
                          "linecolor": "white",
                          "minorgridcolor": "white",
                          "startlinecolor": "#2a3f5f"
                        },
                        "baxis": {
                          "endlinecolor": "#2a3f5f",
                          "gridcolor": "white",
                          "linecolor": "white",
                          "minorgridcolor": "white",
                          "startlinecolor": "#2a3f5f"
                        },
                        "type": "carpet"
                      }
                    ],
                    "choropleth": [
                      {
                        "colorbar": {
                          "outlinewidth": 0,
                          "ticks": ""
                        },
                        "type": "choropleth"
                      }
                    ],
                    "contour": [
                      {
                        "colorbar": {
                          "outlinewidth": 0,
                          "ticks": ""
                        },
                        "colorscale": [
                          [
                            0,
                            "#0d0887"
                          ],
                          [
                            0.1111111111111111,
                            "#46039f"
                          ],
                          [
                            0.2222222222222222,
                            "#7201a8"
                          ],
                          [
                            0.3333333333333333,
                            "#9c179e"
                          ],
                          [
                            0.4444444444444444,
                            "#bd3786"
                          ],
                          [
                            0.5555555555555556,
                            "#d8576b"
                          ],
                          [
                            0.6666666666666666,
                            "#ed7953"
                          ],
                          [
                            0.7777777777777778,
                            "#fb9f3a"
                          ],
                          [
                            0.8888888888888888,
                            "#fdca26"
                          ],
                          [
                            1,
                            "#f0f921"
                          ]
                        ],
                        "type": "contour"
                      }
                    ],
                    "contourcarpet": [
                      {
                        "colorbar": {
                          "outlinewidth": 0,
                          "ticks": ""
                        },
                        "type": "contourcarpet"
                      }
                    ],
                    "heatmap": [
                      {
                        "colorbar": {
                          "outlinewidth": 0,
                          "ticks": ""
                        },
                        "colorscale": [
                          [
                            0,
                            "#0d0887"
                          ],
                          [
                            0.1111111111111111,
                            "#46039f"
                          ],
                          [
                            0.2222222222222222,
                            "#7201a8"
                          ],
                          [
                            0.3333333333333333,
                            "#9c179e"
                          ],
                          [
                            0.4444444444444444,
                            "#bd3786"
                          ],
                          [
                            0.5555555555555556,
                            "#d8576b"
                          ],
                          [
                            0.6666666666666666,
                            "#ed7953"
                          ],
                          [
                            0.7777777777777778,
                            "#fb9f3a"
                          ],
                          [
                            0.8888888888888888,
                            "#fdca26"
                          ],
                          [
                            1,
                            "#f0f921"
                          ]
                        ],
                        "type": "heatmap"
                      }
                    ],
                    "heatmapgl": [
                      {
                        "colorbar": {
                          "outlinewidth": 0,
                          "ticks": ""
                        },
                        "colorscale": [
                          [
                            0,
                            "#0d0887"
                          ],
                          [
                            0.1111111111111111,
                            "#46039f"
                          ],
                          [
                            0.2222222222222222,
                            "#7201a8"
                          ],
                          [
                            0.3333333333333333,
                            "#9c179e"
                          ],
                          [
                            0.4444444444444444,
                            "#bd3786"
                          ],
                          [
                            0.5555555555555556,
                            "#d8576b"
                          ],
                          [
                            0.6666666666666666,
                            "#ed7953"
                          ],
                          [
                            0.7777777777777778,
                            "#fb9f3a"
                          ],
                          [
                            0.8888888888888888,
                            "#fdca26"
                          ],
                          [
                            1,
                            "#f0f921"
                          ]
                        ],
                        "type": "heatmapgl"
                      }
                    ],
                    "histogram": [
                      {
                        "marker": {
                          "pattern": {
                            "fillmode": "overlay",
                            "size": 10,
                            "solidity": 0.2
                          }
                        },
                        "type": "histogram"
                      }
                    ],
                    "histogram2d": [
                      {
                        "colorbar": {
                          "outlinewidth": 0,
                          "ticks": ""
                        },
                        "colorscale": [
                          [
                            0,
                            "#0d0887"
                          ],
                          [
                            0.1111111111111111,
                            "#46039f"
                          ],
                          [
                            0.2222222222222222,
                            "#7201a8"
                          ],
                          [
                            0.3333333333333333,
                            "#9c179e"
                          ],
                          [
                            0.4444444444444444,
                            "#bd3786"
                          ],
                          [
                            0.5555555555555556,
                            "#d8576b"
                          ],
                          [
                            0.6666666666666666,
                            "#ed7953"
                          ],
                          [
                            0.7777777777777778,
                            "#fb9f3a"
                          ],
                          [
                            0.8888888888888888,
                            "#fdca26"
                          ],
                          [
                            1,
                            "#f0f921"
                          ]
                        ],
                        "type": "histogram2d"
                      }
                    ],
                    "histogram2dcontour": [
                      {
                        "colorbar": {
                          "outlinewidth": 0,
                          "ticks": ""
                        },
                        "colorscale": [
                          [
                            0,
                            "#0d0887"
                          ],
                          [
                            0.1111111111111111,
                            "#46039f"
                          ],
                          [
                            0.2222222222222222,
                            "#7201a8"
                          ],
                          [
                            0.3333333333333333,
                            "#9c179e"
                          ],
                          [
                            0.4444444444444444,
                            "#bd3786"
                          ],
                          [
                            0.5555555555555556,
                            "#d8576b"
                          ],
                          [
                            0.6666666666666666,
                            "#ed7953"
                          ],
                          [
                            0.7777777777777778,
                            "#fb9f3a"
                          ],
                          [
                            0.8888888888888888,
                            "#fdca26"
                          ],
                          [
                            1,
                            "#f0f921"
                          ]
                        ],
                        "type": "histogram2dcontour"
                      }
                    ],
                    "mesh3d": [
                      {
                        "colorbar": {
                          "outlinewidth": 0,
                          "ticks": ""
                        },
                        "type": "mesh3d"
                      }
                    ],
                    "parcoords": [
                      {
                        "line": {
                          "colorbar": {
                            "outlinewidth": 0,
                            "ticks": ""
                          }
                        },
                        "type": "parcoords"
                      }
                    ],
                    "pie": [
                      {
                        "automargin": true,
                        "type": "pie"
                      }
                    ],
                    "scatter": [
                      {
                        "fillpattern": {
                          "fillmode": "overlay",
                          "size": 10,
                          "solidity": 0.2
                        },
                        "type": "scatter"
                      }
                    ],
                    "scatter3d": [
                      {
                        "line": {
                          "colorbar": {
                            "outlinewidth": 0,
                            "ticks": ""
                          }
                        },
                        "marker": {
                          "colorbar": {
                            "outlinewidth": 0,
                            "ticks": ""
                          }
                        },
                        "type": "scatter3d"
                      }
                    ],
                    "scattercarpet": [
                      {
                        "marker": {
                          "colorbar": {
                            "outlinewidth": 0,
                            "ticks": ""
                          }
                        },
                        "type": "scattercarpet"
                      }
                    ],
                    "scattergeo": [
                      {
                        "marker": {
                          "colorbar": {
                            "outlinewidth": 0,
                            "ticks": ""
                          }
                        },
                        "type": "scattergeo"
                      }
                    ],
                    "scattergl": [
                      {
                        "marker": {
                          "colorbar": {
                            "outlinewidth": 0,
                            "ticks": ""
                          }
                        },
                        "type": "scattergl"
                      }
                    ],
                    "scattermapbox": [
                      {
                        "marker": {
                          "colorbar": {
                            "outlinewidth": 0,
                            "ticks": ""
                          }
                        },
                        "type": "scattermapbox"
                      }
                    ],
                    "scatterpolar": [
                      {
                        "marker": {
                          "colorbar": {
                            "outlinewidth": 0,
                            "ticks": ""
                          }
                        },
                        "type": "scatterpolar"
                      }
                    ],
                    "scatterpolargl": [
                      {
                        "marker": {
                          "colorbar": {
                            "outlinewidth": 0,
                            "ticks": ""
                          }
                        },
                        "type": "scatterpolargl"
                      }
                    ],
                    "scatterternary": [
                      {
                        "marker": {
                          "colorbar": {
                            "outlinewidth": 0,
                            "ticks": ""
                          }
                        },
                        "type": "scatterternary"
                      }
                    ],
                    "surface": [
                      {
                        "colorbar": {
                          "outlinewidth": 0,
                          "ticks": ""
                        },
                        "colorscale": [
                          [
                            0,
                            "#0d0887"
                          ],
                          [
                            0.1111111111111111,
                            "#46039f"
                          ],
                          [
                            0.2222222222222222,
                            "#7201a8"
                          ],
                          [
                            0.3333333333333333,
                            "#9c179e"
                          ],
                          [
                            0.4444444444444444,
                            "#bd3786"
                          ],
                          [
                            0.5555555555555556,
                            "#d8576b"
                          ],
                          [
                            0.6666666666666666,
                            "#ed7953"
                          ],
                          [
                            0.7777777777777778,
                            "#fb9f3a"
                          ],
                          [
                            0.8888888888888888,
                            "#fdca26"
                          ],
                          [
                            1,
                            "#f0f921"
                          ]
                        ],
                        "type": "surface"
                      }
                    ],
                    "table": [
                      {
                        "cells": {
                          "fill": {
                            "color": "#EBF0F8"
                          },
                          "line": {
                            "color": "white"
                          }
                        },
                        "header": {
                          "fill": {
                            "color": "#C8D4E3"
                          },
                          "line": {
                            "color": "white"
                          }
                        },
                        "type": "table"
                      }
                    ]
                  },
                  "layout": {
                    "annotationdefaults": {
                      "arrowcolor": "#2a3f5f",
                      "arrowhead": 0,
                      "arrowwidth": 1
                    },
                    "autotypenumbers": "strict",
                    "coloraxis": {
                      "colorbar": {
                        "outlinewidth": 0,
                        "ticks": ""
                      }
                    },
                    "colorscale": {
                      "diverging": [
                        [
                          0,
                          "#8e0152"
                        ],
                        [
                          0.1,
                          "#c51b7d"
                        ],
                        [
                          0.2,
                          "#de77ae"
                        ],
                        [
                          0.3,
                          "#f1b6da"
                        ],
                        [
                          0.4,
                          "#fde0ef"
                        ],
                        [
                          0.5,
                          "#f7f7f7"
                        ],
                        [
                          0.6,
                          "#e6f5d0"
                        ],
                        [
                          0.7,
                          "#b8e186"
                        ],
                        [
                          0.8,
                          "#7fbc41"
                        ],
                        [
                          0.9,
                          "#4d9221"
                        ],
                        [
                          1,
                          "#276419"
                        ]
                      ],
                      "sequential": [
                        [
                          0,
                          "#0d0887"
                        ],
                        [
                          0.1111111111111111,
                          "#46039f"
                        ],
                        [
                          0.2222222222222222,
                          "#7201a8"
                        ],
                        [
                          0.3333333333333333,
                          "#9c179e"
                        ],
                        [
                          0.4444444444444444,
                          "#bd3786"
                        ],
                        [
                          0.5555555555555556,
                          "#d8576b"
                        ],
                        [
                          0.6666666666666666,
                          "#ed7953"
                        ],
                        [
                          0.7777777777777778,
                          "#fb9f3a"
                        ],
                        [
                          0.8888888888888888,
                          "#fdca26"
                        ],
                        [
                          1,
                          "#f0f921"
                        ]
                      ],
                      "sequentialminus": [
                        [
                          0,
                          "#0d0887"
                        ],
                        [
                          0.1111111111111111,
                          "#46039f"
                        ],
                        [
                          0.2222222222222222,
                          "#7201a8"
                        ],
                        [
                          0.3333333333333333,
                          "#9c179e"
                        ],
                        [
                          0.4444444444444444,
                          "#bd3786"
                        ],
                        [
                          0.5555555555555556,
                          "#d8576b"
                        ],
                        [
                          0.6666666666666666,
                          "#ed7953"
                        ],
                        [
                          0.7777777777777778,
                          "#fb9f3a"
                        ],
                        [
                          0.8888888888888888,
                          "#fdca26"
                        ],
                        [
                          1,
                          "#f0f921"
                        ]
                      ]
                    },
                    "colorway": [
                      "#636efa",
                      "#EF553B",
                      "#00cc96",
                      "#ab63fa",
                      "#FFA15A",
                      "#19d3f3",
                      "#FF6692",
                      "#B6E880",
                      "#FF97FF",
                      "#FECB52"
                    ],
                    "font": {
                      "color": "#2a3f5f"
                    },
                    "geo": {
                      "bgcolor": "white",
                      "lakecolor": "white",
                      "landcolor": "#E5ECF6",
                      "showlakes": true,
                      "showland": true,
                      "subunitcolor": "white"
                    },
                    "hoverlabel": {
                      "align": "left"
                    },
                    "hovermode": "closest",
                    "mapbox": {
                      "style": "light"
                    },
                    "paper_bgcolor": "white",
                    "plot_bgcolor": "#E5ECF6",
                    "polar": {
                      "angularaxis": {
                        "gridcolor": "white",
                        "linecolor": "white",
                        "ticks": ""
                      },
                      "bgcolor": "#E5ECF6",
                      "radialaxis": {
                        "gridcolor": "white",
                        "linecolor": "white",
                        "ticks": ""
                      }
                    },
                    "scene": {
                      "xaxis": {
                        "backgroundcolor": "#E5ECF6",
                        "gridcolor": "white",
                        "gridwidth": 2,
                        "linecolor": "white",
                        "showbackground": true,
                        "ticks": "",
                        "zerolinecolor": "white"
                      },
                      "yaxis": {
                        "backgroundcolor": "#E5ECF6",
                        "gridcolor": "white",
                        "gridwidth": 2,
                        "linecolor": "white",
                        "showbackground": true,
                        "ticks": "",
                        "zerolinecolor": "white"
                      },
                      "zaxis": {
                        "backgroundcolor": "#E5ECF6",
                        "gridcolor": "white",
                        "gridwidth": 2,
                        "linecolor": "white",
                        "showbackground": true,
                        "ticks": "",
                        "zerolinecolor": "white"
                      }
                    },
                    "shapedefaults": {
                      "line": {
                        "color": "#2a3f5f"
                      }
                    },
                    "ternary": {
                      "aaxis": {
                        "gridcolor": "white",
                        "linecolor": "white",
                        "ticks": ""
                      },
                      "baxis": {
                        "gridcolor": "white",
                        "linecolor": "white",
                        "ticks": ""
                      },
                      "bgcolor": "#E5ECF6",
                      "caxis": {
                        "gridcolor": "white",
                        "linecolor": "white",
                        "ticks": ""
                      }
                    },
                    "title": {
                      "x": 0.05
                    },
                    "xaxis": {
                      "automargin": true,
                      "gridcolor": "white",
                      "linecolor": "white",
                      "ticks": "",
                      "title": {
                        "standoff": 15
                      },
                      "zerolinecolor": "white",
                      "zerolinewidth": 2
                    },
                    "yaxis": {
                      "automargin": true,
                      "gridcolor": "white",
                      "linecolor": "white",
                      "ticks": "",
                      "title": {
                        "standoff": 15
                      },
                      "zerolinecolor": "white",
                      "zerolinewidth": 2
                    }
                  }
                },
                "title": {
                  "text": "Accidents by hour"
                },
                "xaxis": {
                  "anchor": "y",
                  "domain": [
                    0,
                    1
                  ],
                  "title": {
                    "text": "hour"
                  }
                },
                "yaxis": {
                  "anchor": "x",
                  "domain": [
                    0,
                    1
                  ],
                  "title": {
                    "text": "Count"
                  }
                }
              }
            }
          },
          "metadata": {},
          "output_type": "display_data"
        }
      ],
      "source": [
        "fig= px.bar(df_hour, x=df_hour.hour, y=df_hour.Count, color=\"hour\", title=\"Accidents by hour\")\n",
        "fig.update_coloraxes(showscale = False)\n",
        "fig.show()"
      ]
    },
    {
      "cell_type": "markdown",
      "metadata": {
        "id": "h5Is8SpbUUHI"
      },
      "source": [
        "From the aggregated chart, we can conclude that the accidents have a low level of ocurrence in the early morning until 5 a.m. From this hour, the accidents start to increase the level. This situation can be explained by people who have to work really early and also for people following the rule of \"pico y placa\" starting a 6.am. For 6a.m there is a big increse in accidentality explained by people who have to come to work at 7 or maybe  for parents leaving their childrens at school. For 7a.m and 8 a.m there is a similar level of accidents in total, with higher levels than previous hours. For 9 a.m there is a small drop, and from there, accidents increase slighlty until 14p.m. This hour respresents the maximum level of accidents and from there, we can observe a kind of decreasing trend, more remarkable from 21:00 hours."
      ]
    },
    {
      "cell_type": "markdown",
      "metadata": {
        "id": "DbuLmDNbOVAF"
      },
      "source": [
        "Now, we are going to check the trend of accidentality by weekday:"
      ]
    },
    {
      "cell_type": "code",
      "execution_count": 37,
      "metadata": {
        "colab": {
          "base_uri": "https://localhost:8080/"
        },
        "id": "xY4me-DUOoO2",
        "outputId": "7733e137-1c99-4ce6-e3e8-258ed4ebe061"
      },
      "outputs": [
        {
          "data": {
            "text/plain": [
              "0            Monday\n",
              "1          Thursday\n",
              "2           Tuesday\n",
              "3            Monday\n",
              "4         Wednesday\n",
              "            ...    \n",
              "199141       Monday\n",
              "199142      Tuesday\n",
              "199143       Friday\n",
              "199144       Sunday\n",
              "199145       Monday\n",
              "Name: Weekday, Length: 199146, dtype: object"
            ]
          },
          "execution_count": 37,
          "metadata": {},
          "output_type": "execute_result"
        }
      ],
      "source": [
        "df['Weekday'] = pd.to_datetime(df['date_ocurrence']).dt.day_name()\n",
        "df['Weekday']"
      ]
    },
    {
      "cell_type": "code",
      "execution_count": 38,
      "metadata": {
        "colab": {
          "base_uri": "https://localhost:8080/",
          "height": 269
        },
        "id": "yrWNDwuBOfwU",
        "outputId": "e1b2ef22-b47f-45a4-bc98-f961a02eab01"
      },
      "outputs": [
        {
          "data": {
            "text/html": [
              "<div>\n",
              "<style scoped>\n",
              "    .dataframe tbody tr th:only-of-type {\n",
              "        vertical-align: middle;\n",
              "    }\n",
              "\n",
              "    .dataframe tbody tr th {\n",
              "        vertical-align: top;\n",
              "    }\n",
              "\n",
              "    .dataframe thead th {\n",
              "        text-align: right;\n",
              "    }\n",
              "</style>\n",
              "<table border=\"1\" class=\"dataframe\">\n",
              "  <thead>\n",
              "    <tr style=\"text-align: right;\">\n",
              "      <th></th>\n",
              "      <th>Weekday</th>\n",
              "      <th>Count</th>\n",
              "      <th>Num_Weekday</th>\n",
              "    </tr>\n",
              "  </thead>\n",
              "  <tbody>\n",
              "    <tr>\n",
              "      <th>1</th>\n",
              "      <td>Monday</td>\n",
              "      <td>27303</td>\n",
              "      <td>1</td>\n",
              "    </tr>\n",
              "    <tr>\n",
              "      <th>5</th>\n",
              "      <td>Tuesday</td>\n",
              "      <td>30806</td>\n",
              "      <td>2</td>\n",
              "    </tr>\n",
              "    <tr>\n",
              "      <th>6</th>\n",
              "      <td>Wednesday</td>\n",
              "      <td>29754</td>\n",
              "      <td>3</td>\n",
              "    </tr>\n",
              "    <tr>\n",
              "      <th>4</th>\n",
              "      <td>Thursday</td>\n",
              "      <td>29657</td>\n",
              "      <td>4</td>\n",
              "    </tr>\n",
              "    <tr>\n",
              "      <th>0</th>\n",
              "      <td>Friday</td>\n",
              "      <td>32074</td>\n",
              "      <td>5</td>\n",
              "    </tr>\n",
              "    <tr>\n",
              "      <th>2</th>\n",
              "      <td>Saturday</td>\n",
              "      <td>30023</td>\n",
              "      <td>6</td>\n",
              "    </tr>\n",
              "    <tr>\n",
              "      <th>3</th>\n",
              "      <td>Sunday</td>\n",
              "      <td>19529</td>\n",
              "      <td>7</td>\n",
              "    </tr>\n",
              "  </tbody>\n",
              "</table>\n",
              "</div>"
            ],
            "text/plain": [
              "     Weekday  Count  Num_Weekday\n",
              "1     Monday  27303            1\n",
              "5    Tuesday  30806            2\n",
              "6  Wednesday  29754            3\n",
              "4   Thursday  29657            4\n",
              "0     Friday  32074            5\n",
              "2   Saturday  30023            6\n",
              "3     Sunday  19529            7"
            ]
          },
          "execution_count": 38,
          "metadata": {},
          "output_type": "execute_result"
        }
      ],
      "source": [
        "df_wkday = df.groupby(['Weekday'])[\"Count\"].sum()\n",
        "df_wkday= DataFrame(df_wkday).reset_index()\n",
        "num_wkday = {\"Monday\":1, \"Tuesday\":2, \"Wednesday\":3, \"Thursday\":4, \"Friday\":5,\"Saturday\":6,\"Sunday\":7}\n",
        "df_wkday['Num_Weekday'] = df_wkday['Weekday']\n",
        "df_wkday = df_wkday.replace({\"Num_Weekday\": num_wkday})\n",
        "df_wkday = df_wkday.sort_values([\"Num_Weekday\"])\n",
        "df_wkday"
      ]
    },
    {
      "cell_type": "code",
      "execution_count": 39,
      "metadata": {
        "colab": {
          "base_uri": "https://localhost:8080/",
          "height": 542
        },
        "id": "Elp8AgJ5Qt9I",
        "outputId": "0d3e6a38-2af2-453e-9a6a-6e1342eefa34"
      },
      "outputs": [
        {
          "data": {
            "application/vnd.plotly.v1+json": {
              "config": {
                "plotlyServerURL": "https://plot.ly"
              },
              "data": [
                {
                  "alignmentgroup": "True",
                  "hovertemplate": "Weekday=%{x}<br>Count=%{y}<extra></extra>",
                  "legendgroup": "Monday",
                  "marker": {
                    "color": "#636efa",
                    "pattern": {
                      "shape": ""
                    }
                  },
                  "name": "Monday",
                  "offsetgroup": "Monday",
                  "orientation": "v",
                  "showlegend": true,
                  "textposition": "auto",
                  "type": "bar",
                  "x": [
                    "Monday"
                  ],
                  "xaxis": "x",
                  "y": [
                    27303
                  ],
                  "yaxis": "y"
                },
                {
                  "alignmentgroup": "True",
                  "hovertemplate": "Weekday=%{x}<br>Count=%{y}<extra></extra>",
                  "legendgroup": "Tuesday",
                  "marker": {
                    "color": "#EF553B",
                    "pattern": {
                      "shape": ""
                    }
                  },
                  "name": "Tuesday",
                  "offsetgroup": "Tuesday",
                  "orientation": "v",
                  "showlegend": true,
                  "textposition": "auto",
                  "type": "bar",
                  "x": [
                    "Tuesday"
                  ],
                  "xaxis": "x",
                  "y": [
                    30806
                  ],
                  "yaxis": "y"
                },
                {
                  "alignmentgroup": "True",
                  "hovertemplate": "Weekday=%{x}<br>Count=%{y}<extra></extra>",
                  "legendgroup": "Wednesday",
                  "marker": {
                    "color": "#00cc96",
                    "pattern": {
                      "shape": ""
                    }
                  },
                  "name": "Wednesday",
                  "offsetgroup": "Wednesday",
                  "orientation": "v",
                  "showlegend": true,
                  "textposition": "auto",
                  "type": "bar",
                  "x": [
                    "Wednesday"
                  ],
                  "xaxis": "x",
                  "y": [
                    29754
                  ],
                  "yaxis": "y"
                },
                {
                  "alignmentgroup": "True",
                  "hovertemplate": "Weekday=%{x}<br>Count=%{y}<extra></extra>",
                  "legendgroup": "Thursday",
                  "marker": {
                    "color": "#ab63fa",
                    "pattern": {
                      "shape": ""
                    }
                  },
                  "name": "Thursday",
                  "offsetgroup": "Thursday",
                  "orientation": "v",
                  "showlegend": true,
                  "textposition": "auto",
                  "type": "bar",
                  "x": [
                    "Thursday"
                  ],
                  "xaxis": "x",
                  "y": [
                    29657
                  ],
                  "yaxis": "y"
                },
                {
                  "alignmentgroup": "True",
                  "hovertemplate": "Weekday=%{x}<br>Count=%{y}<extra></extra>",
                  "legendgroup": "Friday",
                  "marker": {
                    "color": "#FFA15A",
                    "pattern": {
                      "shape": ""
                    }
                  },
                  "name": "Friday",
                  "offsetgroup": "Friday",
                  "orientation": "v",
                  "showlegend": true,
                  "textposition": "auto",
                  "type": "bar",
                  "x": [
                    "Friday"
                  ],
                  "xaxis": "x",
                  "y": [
                    32074
                  ],
                  "yaxis": "y"
                },
                {
                  "alignmentgroup": "True",
                  "hovertemplate": "Weekday=%{x}<br>Count=%{y}<extra></extra>",
                  "legendgroup": "Saturday",
                  "marker": {
                    "color": "#19d3f3",
                    "pattern": {
                      "shape": ""
                    }
                  },
                  "name": "Saturday",
                  "offsetgroup": "Saturday",
                  "orientation": "v",
                  "showlegend": true,
                  "textposition": "auto",
                  "type": "bar",
                  "x": [
                    "Saturday"
                  ],
                  "xaxis": "x",
                  "y": [
                    30023
                  ],
                  "yaxis": "y"
                },
                {
                  "alignmentgroup": "True",
                  "hovertemplate": "Weekday=%{x}<br>Count=%{y}<extra></extra>",
                  "legendgroup": "Sunday",
                  "marker": {
                    "color": "#FF6692",
                    "pattern": {
                      "shape": ""
                    }
                  },
                  "name": "Sunday",
                  "offsetgroup": "Sunday",
                  "orientation": "v",
                  "showlegend": true,
                  "textposition": "auto",
                  "type": "bar",
                  "x": [
                    "Sunday"
                  ],
                  "xaxis": "x",
                  "y": [
                    19529
                  ],
                  "yaxis": "y"
                }
              ],
              "layout": {
                "barmode": "relative",
                "coloraxis": {
                  "showscale": false
                },
                "legend": {
                  "title": {
                    "text": "Weekday"
                  },
                  "tracegroupgap": 0
                },
                "template": {
                  "data": {
                    "bar": [
                      {
                        "error_x": {
                          "color": "#2a3f5f"
                        },
                        "error_y": {
                          "color": "#2a3f5f"
                        },
                        "marker": {
                          "line": {
                            "color": "#E5ECF6",
                            "width": 0.5
                          },
                          "pattern": {
                            "fillmode": "overlay",
                            "size": 10,
                            "solidity": 0.2
                          }
                        },
                        "type": "bar"
                      }
                    ],
                    "barpolar": [
                      {
                        "marker": {
                          "line": {
                            "color": "#E5ECF6",
                            "width": 0.5
                          },
                          "pattern": {
                            "fillmode": "overlay",
                            "size": 10,
                            "solidity": 0.2
                          }
                        },
                        "type": "barpolar"
                      }
                    ],
                    "carpet": [
                      {
                        "aaxis": {
                          "endlinecolor": "#2a3f5f",
                          "gridcolor": "white",
                          "linecolor": "white",
                          "minorgridcolor": "white",
                          "startlinecolor": "#2a3f5f"
                        },
                        "baxis": {
                          "endlinecolor": "#2a3f5f",
                          "gridcolor": "white",
                          "linecolor": "white",
                          "minorgridcolor": "white",
                          "startlinecolor": "#2a3f5f"
                        },
                        "type": "carpet"
                      }
                    ],
                    "choropleth": [
                      {
                        "colorbar": {
                          "outlinewidth": 0,
                          "ticks": ""
                        },
                        "type": "choropleth"
                      }
                    ],
                    "contour": [
                      {
                        "colorbar": {
                          "outlinewidth": 0,
                          "ticks": ""
                        },
                        "colorscale": [
                          [
                            0,
                            "#0d0887"
                          ],
                          [
                            0.1111111111111111,
                            "#46039f"
                          ],
                          [
                            0.2222222222222222,
                            "#7201a8"
                          ],
                          [
                            0.3333333333333333,
                            "#9c179e"
                          ],
                          [
                            0.4444444444444444,
                            "#bd3786"
                          ],
                          [
                            0.5555555555555556,
                            "#d8576b"
                          ],
                          [
                            0.6666666666666666,
                            "#ed7953"
                          ],
                          [
                            0.7777777777777778,
                            "#fb9f3a"
                          ],
                          [
                            0.8888888888888888,
                            "#fdca26"
                          ],
                          [
                            1,
                            "#f0f921"
                          ]
                        ],
                        "type": "contour"
                      }
                    ],
                    "contourcarpet": [
                      {
                        "colorbar": {
                          "outlinewidth": 0,
                          "ticks": ""
                        },
                        "type": "contourcarpet"
                      }
                    ],
                    "heatmap": [
                      {
                        "colorbar": {
                          "outlinewidth": 0,
                          "ticks": ""
                        },
                        "colorscale": [
                          [
                            0,
                            "#0d0887"
                          ],
                          [
                            0.1111111111111111,
                            "#46039f"
                          ],
                          [
                            0.2222222222222222,
                            "#7201a8"
                          ],
                          [
                            0.3333333333333333,
                            "#9c179e"
                          ],
                          [
                            0.4444444444444444,
                            "#bd3786"
                          ],
                          [
                            0.5555555555555556,
                            "#d8576b"
                          ],
                          [
                            0.6666666666666666,
                            "#ed7953"
                          ],
                          [
                            0.7777777777777778,
                            "#fb9f3a"
                          ],
                          [
                            0.8888888888888888,
                            "#fdca26"
                          ],
                          [
                            1,
                            "#f0f921"
                          ]
                        ],
                        "type": "heatmap"
                      }
                    ],
                    "heatmapgl": [
                      {
                        "colorbar": {
                          "outlinewidth": 0,
                          "ticks": ""
                        },
                        "colorscale": [
                          [
                            0,
                            "#0d0887"
                          ],
                          [
                            0.1111111111111111,
                            "#46039f"
                          ],
                          [
                            0.2222222222222222,
                            "#7201a8"
                          ],
                          [
                            0.3333333333333333,
                            "#9c179e"
                          ],
                          [
                            0.4444444444444444,
                            "#bd3786"
                          ],
                          [
                            0.5555555555555556,
                            "#d8576b"
                          ],
                          [
                            0.6666666666666666,
                            "#ed7953"
                          ],
                          [
                            0.7777777777777778,
                            "#fb9f3a"
                          ],
                          [
                            0.8888888888888888,
                            "#fdca26"
                          ],
                          [
                            1,
                            "#f0f921"
                          ]
                        ],
                        "type": "heatmapgl"
                      }
                    ],
                    "histogram": [
                      {
                        "marker": {
                          "pattern": {
                            "fillmode": "overlay",
                            "size": 10,
                            "solidity": 0.2
                          }
                        },
                        "type": "histogram"
                      }
                    ],
                    "histogram2d": [
                      {
                        "colorbar": {
                          "outlinewidth": 0,
                          "ticks": ""
                        },
                        "colorscale": [
                          [
                            0,
                            "#0d0887"
                          ],
                          [
                            0.1111111111111111,
                            "#46039f"
                          ],
                          [
                            0.2222222222222222,
                            "#7201a8"
                          ],
                          [
                            0.3333333333333333,
                            "#9c179e"
                          ],
                          [
                            0.4444444444444444,
                            "#bd3786"
                          ],
                          [
                            0.5555555555555556,
                            "#d8576b"
                          ],
                          [
                            0.6666666666666666,
                            "#ed7953"
                          ],
                          [
                            0.7777777777777778,
                            "#fb9f3a"
                          ],
                          [
                            0.8888888888888888,
                            "#fdca26"
                          ],
                          [
                            1,
                            "#f0f921"
                          ]
                        ],
                        "type": "histogram2d"
                      }
                    ],
                    "histogram2dcontour": [
                      {
                        "colorbar": {
                          "outlinewidth": 0,
                          "ticks": ""
                        },
                        "colorscale": [
                          [
                            0,
                            "#0d0887"
                          ],
                          [
                            0.1111111111111111,
                            "#46039f"
                          ],
                          [
                            0.2222222222222222,
                            "#7201a8"
                          ],
                          [
                            0.3333333333333333,
                            "#9c179e"
                          ],
                          [
                            0.4444444444444444,
                            "#bd3786"
                          ],
                          [
                            0.5555555555555556,
                            "#d8576b"
                          ],
                          [
                            0.6666666666666666,
                            "#ed7953"
                          ],
                          [
                            0.7777777777777778,
                            "#fb9f3a"
                          ],
                          [
                            0.8888888888888888,
                            "#fdca26"
                          ],
                          [
                            1,
                            "#f0f921"
                          ]
                        ],
                        "type": "histogram2dcontour"
                      }
                    ],
                    "mesh3d": [
                      {
                        "colorbar": {
                          "outlinewidth": 0,
                          "ticks": ""
                        },
                        "type": "mesh3d"
                      }
                    ],
                    "parcoords": [
                      {
                        "line": {
                          "colorbar": {
                            "outlinewidth": 0,
                            "ticks": ""
                          }
                        },
                        "type": "parcoords"
                      }
                    ],
                    "pie": [
                      {
                        "automargin": true,
                        "type": "pie"
                      }
                    ],
                    "scatter": [
                      {
                        "fillpattern": {
                          "fillmode": "overlay",
                          "size": 10,
                          "solidity": 0.2
                        },
                        "type": "scatter"
                      }
                    ],
                    "scatter3d": [
                      {
                        "line": {
                          "colorbar": {
                            "outlinewidth": 0,
                            "ticks": ""
                          }
                        },
                        "marker": {
                          "colorbar": {
                            "outlinewidth": 0,
                            "ticks": ""
                          }
                        },
                        "type": "scatter3d"
                      }
                    ],
                    "scattercarpet": [
                      {
                        "marker": {
                          "colorbar": {
                            "outlinewidth": 0,
                            "ticks": ""
                          }
                        },
                        "type": "scattercarpet"
                      }
                    ],
                    "scattergeo": [
                      {
                        "marker": {
                          "colorbar": {
                            "outlinewidth": 0,
                            "ticks": ""
                          }
                        },
                        "type": "scattergeo"
                      }
                    ],
                    "scattergl": [
                      {
                        "marker": {
                          "colorbar": {
                            "outlinewidth": 0,
                            "ticks": ""
                          }
                        },
                        "type": "scattergl"
                      }
                    ],
                    "scattermapbox": [
                      {
                        "marker": {
                          "colorbar": {
                            "outlinewidth": 0,
                            "ticks": ""
                          }
                        },
                        "type": "scattermapbox"
                      }
                    ],
                    "scatterpolar": [
                      {
                        "marker": {
                          "colorbar": {
                            "outlinewidth": 0,
                            "ticks": ""
                          }
                        },
                        "type": "scatterpolar"
                      }
                    ],
                    "scatterpolargl": [
                      {
                        "marker": {
                          "colorbar": {
                            "outlinewidth": 0,
                            "ticks": ""
                          }
                        },
                        "type": "scatterpolargl"
                      }
                    ],
                    "scatterternary": [
                      {
                        "marker": {
                          "colorbar": {
                            "outlinewidth": 0,
                            "ticks": ""
                          }
                        },
                        "type": "scatterternary"
                      }
                    ],
                    "surface": [
                      {
                        "colorbar": {
                          "outlinewidth": 0,
                          "ticks": ""
                        },
                        "colorscale": [
                          [
                            0,
                            "#0d0887"
                          ],
                          [
                            0.1111111111111111,
                            "#46039f"
                          ],
                          [
                            0.2222222222222222,
                            "#7201a8"
                          ],
                          [
                            0.3333333333333333,
                            "#9c179e"
                          ],
                          [
                            0.4444444444444444,
                            "#bd3786"
                          ],
                          [
                            0.5555555555555556,
                            "#d8576b"
                          ],
                          [
                            0.6666666666666666,
                            "#ed7953"
                          ],
                          [
                            0.7777777777777778,
                            "#fb9f3a"
                          ],
                          [
                            0.8888888888888888,
                            "#fdca26"
                          ],
                          [
                            1,
                            "#f0f921"
                          ]
                        ],
                        "type": "surface"
                      }
                    ],
                    "table": [
                      {
                        "cells": {
                          "fill": {
                            "color": "#EBF0F8"
                          },
                          "line": {
                            "color": "white"
                          }
                        },
                        "header": {
                          "fill": {
                            "color": "#C8D4E3"
                          },
                          "line": {
                            "color": "white"
                          }
                        },
                        "type": "table"
                      }
                    ]
                  },
                  "layout": {
                    "annotationdefaults": {
                      "arrowcolor": "#2a3f5f",
                      "arrowhead": 0,
                      "arrowwidth": 1
                    },
                    "autotypenumbers": "strict",
                    "coloraxis": {
                      "colorbar": {
                        "outlinewidth": 0,
                        "ticks": ""
                      }
                    },
                    "colorscale": {
                      "diverging": [
                        [
                          0,
                          "#8e0152"
                        ],
                        [
                          0.1,
                          "#c51b7d"
                        ],
                        [
                          0.2,
                          "#de77ae"
                        ],
                        [
                          0.3,
                          "#f1b6da"
                        ],
                        [
                          0.4,
                          "#fde0ef"
                        ],
                        [
                          0.5,
                          "#f7f7f7"
                        ],
                        [
                          0.6,
                          "#e6f5d0"
                        ],
                        [
                          0.7,
                          "#b8e186"
                        ],
                        [
                          0.8,
                          "#7fbc41"
                        ],
                        [
                          0.9,
                          "#4d9221"
                        ],
                        [
                          1,
                          "#276419"
                        ]
                      ],
                      "sequential": [
                        [
                          0,
                          "#0d0887"
                        ],
                        [
                          0.1111111111111111,
                          "#46039f"
                        ],
                        [
                          0.2222222222222222,
                          "#7201a8"
                        ],
                        [
                          0.3333333333333333,
                          "#9c179e"
                        ],
                        [
                          0.4444444444444444,
                          "#bd3786"
                        ],
                        [
                          0.5555555555555556,
                          "#d8576b"
                        ],
                        [
                          0.6666666666666666,
                          "#ed7953"
                        ],
                        [
                          0.7777777777777778,
                          "#fb9f3a"
                        ],
                        [
                          0.8888888888888888,
                          "#fdca26"
                        ],
                        [
                          1,
                          "#f0f921"
                        ]
                      ],
                      "sequentialminus": [
                        [
                          0,
                          "#0d0887"
                        ],
                        [
                          0.1111111111111111,
                          "#46039f"
                        ],
                        [
                          0.2222222222222222,
                          "#7201a8"
                        ],
                        [
                          0.3333333333333333,
                          "#9c179e"
                        ],
                        [
                          0.4444444444444444,
                          "#bd3786"
                        ],
                        [
                          0.5555555555555556,
                          "#d8576b"
                        ],
                        [
                          0.6666666666666666,
                          "#ed7953"
                        ],
                        [
                          0.7777777777777778,
                          "#fb9f3a"
                        ],
                        [
                          0.8888888888888888,
                          "#fdca26"
                        ],
                        [
                          1,
                          "#f0f921"
                        ]
                      ]
                    },
                    "colorway": [
                      "#636efa",
                      "#EF553B",
                      "#00cc96",
                      "#ab63fa",
                      "#FFA15A",
                      "#19d3f3",
                      "#FF6692",
                      "#B6E880",
                      "#FF97FF",
                      "#FECB52"
                    ],
                    "font": {
                      "color": "#2a3f5f"
                    },
                    "geo": {
                      "bgcolor": "white",
                      "lakecolor": "white",
                      "landcolor": "#E5ECF6",
                      "showlakes": true,
                      "showland": true,
                      "subunitcolor": "white"
                    },
                    "hoverlabel": {
                      "align": "left"
                    },
                    "hovermode": "closest",
                    "mapbox": {
                      "style": "light"
                    },
                    "paper_bgcolor": "white",
                    "plot_bgcolor": "#E5ECF6",
                    "polar": {
                      "angularaxis": {
                        "gridcolor": "white",
                        "linecolor": "white",
                        "ticks": ""
                      },
                      "bgcolor": "#E5ECF6",
                      "radialaxis": {
                        "gridcolor": "white",
                        "linecolor": "white",
                        "ticks": ""
                      }
                    },
                    "scene": {
                      "xaxis": {
                        "backgroundcolor": "#E5ECF6",
                        "gridcolor": "white",
                        "gridwidth": 2,
                        "linecolor": "white",
                        "showbackground": true,
                        "ticks": "",
                        "zerolinecolor": "white"
                      },
                      "yaxis": {
                        "backgroundcolor": "#E5ECF6",
                        "gridcolor": "white",
                        "gridwidth": 2,
                        "linecolor": "white",
                        "showbackground": true,
                        "ticks": "",
                        "zerolinecolor": "white"
                      },
                      "zaxis": {
                        "backgroundcolor": "#E5ECF6",
                        "gridcolor": "white",
                        "gridwidth": 2,
                        "linecolor": "white",
                        "showbackground": true,
                        "ticks": "",
                        "zerolinecolor": "white"
                      }
                    },
                    "shapedefaults": {
                      "line": {
                        "color": "#2a3f5f"
                      }
                    },
                    "ternary": {
                      "aaxis": {
                        "gridcolor": "white",
                        "linecolor": "white",
                        "ticks": ""
                      },
                      "baxis": {
                        "gridcolor": "white",
                        "linecolor": "white",
                        "ticks": ""
                      },
                      "bgcolor": "#E5ECF6",
                      "caxis": {
                        "gridcolor": "white",
                        "linecolor": "white",
                        "ticks": ""
                      }
                    },
                    "title": {
                      "x": 0.05
                    },
                    "xaxis": {
                      "automargin": true,
                      "gridcolor": "white",
                      "linecolor": "white",
                      "ticks": "",
                      "title": {
                        "standoff": 15
                      },
                      "zerolinecolor": "white",
                      "zerolinewidth": 2
                    },
                    "yaxis": {
                      "automargin": true,
                      "gridcolor": "white",
                      "linecolor": "white",
                      "ticks": "",
                      "title": {
                        "standoff": 15
                      },
                      "zerolinecolor": "white",
                      "zerolinewidth": 2
                    }
                  }
                },
                "title": {
                  "text": "Accidents by weekday"
                },
                "xaxis": {
                  "anchor": "y",
                  "categoryarray": [
                    "Monday",
                    "Tuesday",
                    "Wednesday",
                    "Thursday",
                    "Friday",
                    "Saturday",
                    "Sunday"
                  ],
                  "categoryorder": "array",
                  "domain": [
                    0,
                    1
                  ],
                  "title": {
                    "text": "Weekday"
                  }
                },
                "yaxis": {
                  "anchor": "x",
                  "domain": [
                    0,
                    1
                  ],
                  "title": {
                    "text": "Count"
                  }
                }
              }
            }
          },
          "metadata": {},
          "output_type": "display_data"
        }
      ],
      "source": [
        "fig= px.bar(df_wkday, x=df_wkday.Weekday, y=df_wkday.Count, color=\"Weekday\", title=\"Accidents by weekday\")\n",
        "fig.update_coloraxes(showscale = False)\n",
        "fig.show()"
      ]
    },
    {
      "cell_type": "markdown",
      "metadata": {
        "id": "6PjjPB-nT_rH"
      },
      "source": [
        "Most weekdays have a total number of accidents around 30k. In this case, Sunday has the lowest number of accidents with 19k aproximately. This situation could be related with people staying at home to rest. The second day with less accidents is Monday, with 27k accidents in total and a level more similar to other weekdays. Maybe, this situation could be related with people having enough rest during weekend and then an improvement on driving performance in Mondays. The increase in Friday, could be related with people driving under the influence of alcohol. "
      ]
    },
    {
      "cell_type": "markdown",
      "metadata": {
        "id": "1AygiK6zERtI"
      },
      "source": [
        "## Investigating pairwise relationships\n",
        "Pearson correlation coefficients between borough, year, month, weekday and number of daily accidents."
      ]
    },
    {
      "cell_type": "code",
      "execution_count": 40,
      "metadata": {
        "colab": {
          "base_uri": "https://localhost:8080/",
          "height": 797
        },
        "id": "JOMM-elmv39L",
        "outputId": "881cb1fe-b43b-4370-920c-e94975a4fd8b"
      },
      "outputs": [
        {
          "data": {
            "text/html": [
              "<div>\n",
              "<style scoped>\n",
              "    .dataframe tbody tr th:only-of-type {\n",
              "        vertical-align: middle;\n",
              "    }\n",
              "\n",
              "    .dataframe tbody tr th {\n",
              "        vertical-align: top;\n",
              "    }\n",
              "\n",
              "    .dataframe thead th {\n",
              "        text-align: right;\n",
              "    }\n",
              "</style>\n",
              "<table border=\"1\" class=\"dataframe\">\n",
              "  <thead>\n",
              "    <tr style=\"text-align: right;\">\n",
              "      <th></th>\n",
              "      <th>date_ocurrence</th>\n",
              "      <th>borough</th>\n",
              "      <th>year_ocurrence</th>\n",
              "      <th>Number of daily accidents</th>\n",
              "      <th>month</th>\n",
              "      <th>weekday</th>\n",
              "    </tr>\n",
              "  </thead>\n",
              "  <tbody>\n",
              "    <tr>\n",
              "      <th>0</th>\n",
              "      <td>2017/03/17 00:00:00+00</td>\n",
              "      <td>USAQUEN</td>\n",
              "      <td>2017</td>\n",
              "      <td>26</td>\n",
              "      <td>3</td>\n",
              "      <td>4</td>\n",
              "    </tr>\n",
              "    <tr>\n",
              "      <th>1</th>\n",
              "      <td>2021/08/27 00:00:00+00</td>\n",
              "      <td>KENNEDY</td>\n",
              "      <td>2021</td>\n",
              "      <td>25</td>\n",
              "      <td>8</td>\n",
              "      <td>4</td>\n",
              "    </tr>\n",
              "    <tr>\n",
              "      <th>2</th>\n",
              "      <td>2019/09/28 00:00:00+00</td>\n",
              "      <td>KENNEDY</td>\n",
              "      <td>2019</td>\n",
              "      <td>25</td>\n",
              "      <td>9</td>\n",
              "      <td>5</td>\n",
              "    </tr>\n",
              "    <tr>\n",
              "      <th>3</th>\n",
              "      <td>2017/10/27 00:00:00+00</td>\n",
              "      <td>USAQUEN</td>\n",
              "      <td>2017</td>\n",
              "      <td>25</td>\n",
              "      <td>10</td>\n",
              "      <td>4</td>\n",
              "    </tr>\n",
              "    <tr>\n",
              "      <th>4</th>\n",
              "      <td>2018/05/15 00:00:00+00</td>\n",
              "      <td>ENGATIVA</td>\n",
              "      <td>2018</td>\n",
              "      <td>24</td>\n",
              "      <td>5</td>\n",
              "      <td>1</td>\n",
              "    </tr>\n",
              "    <tr>\n",
              "      <th>...</th>\n",
              "      <td>...</td>\n",
              "      <td>...</td>\n",
              "      <td>...</td>\n",
              "      <td>...</td>\n",
              "      <td>...</td>\n",
              "      <td>...</td>\n",
              "    </tr>\n",
              "    <tr>\n",
              "      <th>41231</th>\n",
              "      <td>2019/01/01 00:00:00+00</td>\n",
              "      <td>BOSA</td>\n",
              "      <td>2019</td>\n",
              "      <td>1</td>\n",
              "      <td>1</td>\n",
              "      <td>1</td>\n",
              "    </tr>\n",
              "    <tr>\n",
              "      <th>41232</th>\n",
              "      <td>2019/01/01 00:00:00+00</td>\n",
              "      <td>CHAPINERO</td>\n",
              "      <td>2019</td>\n",
              "      <td>1</td>\n",
              "      <td>1</td>\n",
              "      <td>1</td>\n",
              "    </tr>\n",
              "    <tr>\n",
              "      <th>41233</th>\n",
              "      <td>2019/01/01 00:00:00+00</td>\n",
              "      <td>FONTIBON</td>\n",
              "      <td>2019</td>\n",
              "      <td>1</td>\n",
              "      <td>1</td>\n",
              "      <td>1</td>\n",
              "    </tr>\n",
              "    <tr>\n",
              "      <th>41234</th>\n",
              "      <td>2019/01/02 00:00:00+00</td>\n",
              "      <td>ENGATIVA</td>\n",
              "      <td>2019</td>\n",
              "      <td>1</td>\n",
              "      <td>1</td>\n",
              "      <td>2</td>\n",
              "    </tr>\n",
              "    <tr>\n",
              "      <th>41235</th>\n",
              "      <td>2021/09/10 00:00:00+00</td>\n",
              "      <td>USME</td>\n",
              "      <td>2021</td>\n",
              "      <td>1</td>\n",
              "      <td>9</td>\n",
              "      <td>4</td>\n",
              "    </tr>\n",
              "  </tbody>\n",
              "</table>\n",
              "<p>41236 rows × 6 columns</p>\n",
              "</div>"
            ],
            "text/plain": [
              "               date_ocurrence    borough  year_ocurrence  \\\n",
              "0      2017/03/17 00:00:00+00    USAQUEN            2017   \n",
              "1      2021/08/27 00:00:00+00    KENNEDY            2021   \n",
              "2      2019/09/28 00:00:00+00    KENNEDY            2019   \n",
              "3      2017/10/27 00:00:00+00    USAQUEN            2017   \n",
              "4      2018/05/15 00:00:00+00   ENGATIVA            2018   \n",
              "...                       ...        ...             ...   \n",
              "41231  2019/01/01 00:00:00+00       BOSA            2019   \n",
              "41232  2019/01/01 00:00:00+00  CHAPINERO            2019   \n",
              "41233  2019/01/01 00:00:00+00   FONTIBON            2019   \n",
              "41234  2019/01/02 00:00:00+00   ENGATIVA            2019   \n",
              "41235  2021/09/10 00:00:00+00       USME            2021   \n",
              "\n",
              "       Number of daily accidents  month  weekday  \n",
              "0                             26      3        4  \n",
              "1                             25      8        4  \n",
              "2                             25      9        5  \n",
              "3                             25     10        4  \n",
              "4                             24      5        1  \n",
              "...                          ...    ...      ...  \n",
              "41231                          1      1        1  \n",
              "41232                          1      1        1  \n",
              "41233                          1      1        1  \n",
              "41234                          1      1        2  \n",
              "41235                          1      9        4  \n",
              "\n",
              "[41236 rows x 6 columns]"
            ]
          },
          "execution_count": 40,
          "metadata": {},
          "output_type": "execute_result"
        },
        {
          "data": {
            "image/png": "[encoded data removed]",
            "text/plain": [
              "<Figure size 432x288 with 2 Axes>"
            ]
          },
          "metadata": {
            "needs_background": "light"
          },
          "output_type": "display_data"
        }
      ],
      "source": [
        "df3 = df.copy()\n",
        "df3 = df.groupby(['date_ocurrence','borough','year_ocurrence']).size().sort_values(ascending=False).to_frame('Number of daily accidents').reset_index()\n",
        "df3['month'] = pd.DatetimeIndex(df3['date_ocurrence']).month\n",
        "df3['weekday'] = pd.DatetimeIndex(df3['date_ocurrence']).dayofweek\n",
        "corr = df3.corr()\n",
        "sns.heatmap(corr, xticklabels=corr.columns, yticklabels=corr.columns, annot=True, cmap=sns.diverging_palette(220, 20, as_cmap=True))\n",
        "df3"
      ]
    },
    {
      "cell_type": "markdown",
      "metadata": {
        "id": "2HEMT3crFQn1"
      },
      "source": [
        "## Contingency tables and heatmaps\n",
        "Heatmap of the contingency table of the type of accident and their severity."
      ]
    },
    {
      "cell_type": "code",
      "execution_count": 41,
      "metadata": {
        "colab": {
          "base_uri": "https://localhost:8080/",
          "height": 283
        },
        "id": "oB4VAUv2ZojX",
        "outputId": "a8f5e133-1cd7-4512-cc30-235db5ff6bdc"
      },
      "outputs": [
        {
          "data": {
            "image/png": "[encoded data removed]",
            "text/plain": [
              "<Figure size 432x288 with 2 Axes>"
            ]
          },
          "metadata": {
            "needs_background": "light"
          },
          "output_type": "display_data"
        }
      ],
      "source": [
        "contingency_table1 = pd.crosstab(index = df['accident_type'], columns = df['severity'], normalize=\"index\")*100\n",
        "contingency_table1\n",
        "sns.heatmap(contingency_table1);"
      ]
    },
    {
      "cell_type": "markdown",
      "metadata": {
        "id": "cdVZteXtHOKp"
      },
      "source": [
        "Heatmap of the contingency table of the year and the borough."
      ]
    },
    {
      "cell_type": "code",
      "execution_count": 42,
      "metadata": {
        "colab": {
          "base_uri": "https://localhost:8080/",
          "height": 373
        },
        "id": "2t87VvZOe5hs",
        "outputId": "a3a3a7bd-158f-46ae-ef50-ff37455f4bec"
      },
      "outputs": [
        {
          "data": {
            "image/png": "[encoded data removed]",
            "text/plain": [
              "<Figure size 432x288 with 2 Axes>"
            ]
          },
          "metadata": {
            "needs_background": "light"
          },
          "output_type": "display_data"
        }
      ],
      "source": [
        "contingency_table2 = pd.crosstab(index = df['year_ocurrence'], columns = df['borough'], normalize=\"index\")*100\n",
        "contingency_table2\n",
        "sns.heatmap(contingency_table2);"
      ]
    },
    {
      "cell_type": "markdown",
      "metadata": {
        "id": "KRnB8JC9HVeX"
      },
      "source": [
        "Heatmap of the contingency table of the month and the weekday."
      ]
    },
    {
      "cell_type": "code",
      "execution_count": 43,
      "metadata": {
        "colab": {
          "base_uri": "https://localhost:8080/",
          "height": 279
        },
        "id": "q78EceY7ghke",
        "outputId": "ddbeb718-a49e-44d5-b6bf-9d54f223029d"
      },
      "outputs": [
        {
          "data": {
            "image/png": "[encoded data removed]",
            "text/plain": [
              "<Figure size 432x288 with 2 Axes>"
            ]
          },
          "metadata": {
            "needs_background": "light"
          },
          "output_type": "display_data"
        }
      ],
      "source": [
        "df6 = df\n",
        "df6['month'] = pd.DatetimeIndex(df6['date_ocurrence']).month\n",
        "df6['weekday'] = pd.DatetimeIndex(df6['date_ocurrence']).dayofweek\n",
        "contingency_table3 = pd.crosstab(index = df['month'], columns = df['weekday'])\n",
        "contingency_table3\n",
        "sns.heatmap(contingency_table3);"
      ]
    }
  ],
  "metadata": {
    "colab": {
      "collapsed_sections": [],
      "name": "EDA.ipynb",
      "provenance": []
    },
    "kernelspec": {
      "display_name": "Python 3.10.1 ('.venv': venv)",
      "language": "python",
      "name": "python3"
    },
    "language_info": {
      "codemirror_mode": {
        "name": "ipython",
        "version": 3
      },
      "file_extension": ".py",
      "mimetype": "text/x-python",
      "name": "python",
      "nbconvert_exporter": "python",
      "pygments_lexer": "ipython3",
      "version": "3.10.1"
    },
    "vscode": {
      "interpreter": {
        "hash": "cd5c01ceffbde4b1da987b7fe6ec266679e756bbc6cca2872d0634ea33e7629b"
      }
    }
  },
  "nbformat": 4,
  "nbformat_minor": 0
}
