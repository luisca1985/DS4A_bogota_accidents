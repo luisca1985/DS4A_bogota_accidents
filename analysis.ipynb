{
  "cells": [
    {
      "cell_type": "markdown",
      "metadata": {
        "id": "gf3j-feec8lZ"
      },
      "source": [
        "# Analyzing Traffic Accidents in Bogotá from 2015 to 2021 - Team 82\n",
        "*José Armando Delgado Álvarez, Andrés Felipe Guzmán Romero, Luis Camilo Jiménez Álvarez, Juan Pablo Lancheros Rodríguez, Paola Andrea Matheus Arbeláez, Alejandro Moreno Fresneda, Leidy Milena Nieves Mendoza, Andrés Felipe Pérez Osorio*"
      ]
    },
    {
      "cell_type": "markdown",
      "metadata": {
        "id": "UeMig1YWc8lj"
      },
      "source": [
        "# Data Analysis and Computation"
      ]
    },
    {
      "cell_type": "code",
      "execution_count": null,
      "metadata": {
        "id": "kRpyDKXLc8lm",
        "outputId": "2ea04b9f-7571-47f6-d330-0b10c16a283a"
      },
      "outputs": [
        {
          "name": "stderr",
          "output_type": "stream",
          "text": [
            "Unable to determine R home: [WinError 2] El sistema no puede encontrar el archivo especificado\n"
          ]
        }
      ],
      "source": [
        "import rpy2                  as rpy2\n",
        "import rpy2.robjects         as robjects\n",
        "from rpy2.robjects           import r, pandas2ri\n",
        "import numpy                 as np\n",
        "import pandas                as pd\n",
        "from pandas.api.types        import CategoricalDtype\n",
        "import geopandas             as gpd"
      ]
    },
    {
      "cell_type": "code",
      "execution_count": null,
      "metadata": {
        "id": "bCoMb2Ndc8lq",
        "outputId": "c0fb7785-cd2e-4878-ba9d-011791048155"
      },
      "outputs": [
        {
          "data": {
            "text/html": [
              "<div>\n",
              "<style scoped>\n",
              "    .dataframe tbody tr th:only-of-type {\n",
              "        vertical-align: middle;\n",
              "    }\n",
              "\n",
              "    .dataframe tbody tr th {\n",
              "        vertical-align: top;\n",
              "    }\n",
              "\n",
              "    .dataframe thead th {\n",
              "        text-align: right;\n",
              "    }\n",
              "</style>\n",
              "<table border=\"1\" class=\"dataframe\">\n",
              "  <thead>\n",
              "    <tr style=\"text-align: right;\">\n",
              "      <th></th>\n",
              "      <th>id</th>\n",
              "      <th>form_id</th>\n",
              "      <th>accident_code</th>\n",
              "      <th>address</th>\n",
              "      <th>severity</th>\n",
              "      <th>accident_type</th>\n",
              "      <th>borough</th>\n",
              "      <th>full_date</th>\n",
              "      <th>latitude</th>\n",
              "      <th>longitude</th>\n",
              "      <th>civ</th>\n",
              "      <th>road_id</th>\n",
              "      <th>year</th>\n",
              "      <th>month</th>\n",
              "      <th>day_of_week</th>\n",
              "      <th>hour</th>\n",
              "      <th>month_year</th>\n",
              "    </tr>\n",
              "  </thead>\n",
              "  <tbody>\n",
              "    <tr>\n",
              "      <th>0</th>\n",
              "      <td>1</td>\n",
              "      <td>A000640275</td>\n",
              "      <td>4484660</td>\n",
              "      <td>AV AVENIDA BOYACA-CL 79 02</td>\n",
              "      <td>Only damages</td>\n",
              "      <td>Crash</td>\n",
              "      <td>ENGATIVA</td>\n",
              "      <td>2017-06-12 05:30:00+00:00</td>\n",
              "      <td>4.693807</td>\n",
              "      <td>-74.090924</td>\n",
              "      <td>10006772.0</td>\n",
              "      <td>221236.0</td>\n",
              "      <td>2017</td>\n",
              "      <td>June</td>\n",
              "      <td>Monday</td>\n",
              "      <td>5</td>\n",
              "      <td>Jun, 2017</td>\n",
              "    </tr>\n",
              "    <tr>\n",
              "      <th>1</th>\n",
              "      <td>2</td>\n",
              "      <td>A001233353</td>\n",
              "      <td>10533499</td>\n",
              "      <td>CL 26 S- KR 50 02</td>\n",
              "      <td>With Injured</td>\n",
              "      <td>Other</td>\n",
              "      <td>PUENTE ARANDA</td>\n",
              "      <td>2020-11-19 02:05:00+00:00</td>\n",
              "      <td>4.603000</td>\n",
              "      <td>-74.121000</td>\n",
              "      <td>16004560.0</td>\n",
              "      <td>NaN</td>\n",
              "      <td>2020</td>\n",
              "      <td>November</td>\n",
              "      <td>Thursday</td>\n",
              "      <td>2</td>\n",
              "      <td>Nov, 2020</td>\n",
              "    </tr>\n",
              "    <tr>\n",
              "      <th>2</th>\n",
              "      <td>4</td>\n",
              "      <td>A001232786</td>\n",
              "      <td>10533629</td>\n",
              "      <td>KR 9 - CL 100 02</td>\n",
              "      <td>Only damages</td>\n",
              "      <td>Crash</td>\n",
              "      <td>USAQUEN</td>\n",
              "      <td>2020-11-10 13:30:00+00:00</td>\n",
              "      <td>4.682000</td>\n",
              "      <td>-74.042000</td>\n",
              "      <td>30001107.0</td>\n",
              "      <td>NaN</td>\n",
              "      <td>2020</td>\n",
              "      <td>November</td>\n",
              "      <td>Tuesday</td>\n",
              "      <td>13</td>\n",
              "      <td>Nov, 2020</td>\n",
              "    </tr>\n",
              "    <tr>\n",
              "      <th>3</th>\n",
              "      <td>7</td>\n",
              "      <td>A000200705</td>\n",
              "      <td>4412699</td>\n",
              "      <td>CL 63A-KR 72 S 02</td>\n",
              "      <td>Only damages</td>\n",
              "      <td>Crash</td>\n",
              "      <td>CIUDAD BOLIVAR</td>\n",
              "      <td>2015-05-11 10:50:00+00:00</td>\n",
              "      <td>4.587187</td>\n",
              "      <td>-74.166937</td>\n",
              "      <td>19001483.0</td>\n",
              "      <td>136166.0</td>\n",
              "      <td>2015</td>\n",
              "      <td>May</td>\n",
              "      <td>Monday</td>\n",
              "      <td>10</td>\n",
              "      <td>May, 2015</td>\n",
              "    </tr>\n",
              "    <tr>\n",
              "      <th>4</th>\n",
              "      <td>8</td>\n",
              "      <td>A000402862</td>\n",
              "      <td>4447845</td>\n",
              "      <td>KR 27-CL 9 14</td>\n",
              "      <td>Only damages</td>\n",
              "      <td>Crash</td>\n",
              "      <td>LOS MARTIRES</td>\n",
              "      <td>2016-06-08 21:30:00+00:00</td>\n",
              "      <td>4.607648</td>\n",
              "      <td>-74.092901</td>\n",
              "      <td>14000548.0</td>\n",
              "      <td>239719.0</td>\n",
              "      <td>2016</td>\n",
              "      <td>June</td>\n",
              "      <td>Wednesday</td>\n",
              "      <td>21</td>\n",
              "      <td>Jun, 2016</td>\n",
              "    </tr>\n",
              "    <tr>\n",
              "      <th>...</th>\n",
              "      <td>...</td>\n",
              "      <td>...</td>\n",
              "      <td>...</td>\n",
              "      <td>...</td>\n",
              "      <td>...</td>\n",
              "      <td>...</td>\n",
              "      <td>...</td>\n",
              "      <td>...</td>\n",
              "      <td>...</td>\n",
              "      <td>...</td>\n",
              "      <td>...</td>\n",
              "      <td>...</td>\n",
              "      <td>...</td>\n",
              "      <td>...</td>\n",
              "      <td>...</td>\n",
              "      <td>...</td>\n",
              "      <td>...</td>\n",
              "    </tr>\n",
              "    <tr>\n",
              "      <th>199095</th>\n",
              "      <td>421907</td>\n",
              "      <td>A001341297</td>\n",
              "      <td>10548522</td>\n",
              "      <td>KR 86 F  - CL 33  S 02</td>\n",
              "      <td>Only damages</td>\n",
              "      <td>Crash</td>\n",
              "      <td>KENNEDY</td>\n",
              "      <td>2021-08-30 16:31:00+00:00</td>\n",
              "      <td>4.637000</td>\n",
              "      <td>-74.160000</td>\n",
              "      <td>8003090.0</td>\n",
              "      <td>NaN</td>\n",
              "      <td>2021</td>\n",
              "      <td>August</td>\n",
              "      <td>Monday</td>\n",
              "      <td>16</td>\n",
              "      <td>Aug, 2021</td>\n",
              "    </tr>\n",
              "    <tr>\n",
              "      <th>199096</th>\n",
              "      <td>421908</td>\n",
              "      <td>A001305748</td>\n",
              "      <td>10546116</td>\n",
              "      <td>CL 42 B  S- KR 81 L  02</td>\n",
              "      <td>With Injured</td>\n",
              "      <td>Run-over</td>\n",
              "      <td>KENNEDY</td>\n",
              "      <td>2021-08-03 14:00:00+00:00</td>\n",
              "      <td>4.628000</td>\n",
              "      <td>-74.167000</td>\n",
              "      <td>8005066.0</td>\n",
              "      <td>NaN</td>\n",
              "      <td>2021</td>\n",
              "      <td>August</td>\n",
              "      <td>Tuesday</td>\n",
              "      <td>14</td>\n",
              "      <td>Aug, 2021</td>\n",
              "    </tr>\n",
              "    <tr>\n",
              "      <th>199097</th>\n",
              "      <td>421909</td>\n",
              "      <td>A001238302</td>\n",
              "      <td>10536074</td>\n",
              "      <td>DG 2 S- KR 79 12</td>\n",
              "      <td>With Injured</td>\n",
              "      <td>Crash</td>\n",
              "      <td>KENNEDY</td>\n",
              "      <td>2021-03-19 12:50:00+00:00</td>\n",
              "      <td>4.624830</td>\n",
              "      <td>-74.158247</td>\n",
              "      <td>8005839.0</td>\n",
              "      <td>NaN</td>\n",
              "      <td>2021</td>\n",
              "      <td>March</td>\n",
              "      <td>Friday</td>\n",
              "      <td>12</td>\n",
              "      <td>Mar, 2021</td>\n",
              "    </tr>\n",
              "    <tr>\n",
              "      <th>199098</th>\n",
              "      <td>421910</td>\n",
              "      <td>A001297106</td>\n",
              "      <td>10538181</td>\n",
              "      <td>CL 43 S- KR 80 02</td>\n",
              "      <td>With Injured</td>\n",
              "      <td>Crash</td>\n",
              "      <td>KENNEDY</td>\n",
              "      <td>2021-04-18 21:21:00+00:00</td>\n",
              "      <td>4.622000</td>\n",
              "      <td>-74.167000</td>\n",
              "      <td>8011660.0</td>\n",
              "      <td>NaN</td>\n",
              "      <td>2021</td>\n",
              "      <td>April</td>\n",
              "      <td>Sunday</td>\n",
              "      <td>21</td>\n",
              "      <td>Apr, 2021</td>\n",
              "    </tr>\n",
              "    <tr>\n",
              "      <th>199099</th>\n",
              "      <td>421911</td>\n",
              "      <td>A001304271</td>\n",
              "      <td>10544226</td>\n",
              "      <td>AV AVENIDA CIUDAD DE CALI - CL 42  S 02</td>\n",
              "      <td>With Injured</td>\n",
              "      <td>Passenger falling</td>\n",
              "      <td>KENNEDY</td>\n",
              "      <td>2021-07-12 19:53:00+00:00</td>\n",
              "      <td>4.630000</td>\n",
              "      <td>-74.168000</td>\n",
              "      <td>8004623.0</td>\n",
              "      <td>NaN</td>\n",
              "      <td>2021</td>\n",
              "      <td>July</td>\n",
              "      <td>Monday</td>\n",
              "      <td>19</td>\n",
              "      <td>Jul, 2021</td>\n",
              "    </tr>\n",
              "  </tbody>\n",
              "</table>\n",
              "<p>199100 rows × 17 columns</p>\n",
              "</div>"
            ],
            "text/plain": [
              "            id     form_id  accident_code  \\\n",
              "0            1  A000640275        4484660   \n",
              "1            2  A001233353       10533499   \n",
              "2            4  A001232786       10533629   \n",
              "3            7  A000200705        4412699   \n",
              "4            8  A000402862        4447845   \n",
              "...        ...         ...            ...   \n",
              "199095  421907  A001341297       10548522   \n",
              "199096  421908  A001305748       10546116   \n",
              "199097  421909  A001238302       10536074   \n",
              "199098  421910  A001297106       10538181   \n",
              "199099  421911  A001304271       10544226   \n",
              "\n",
              "                                        address      severity  \\\n",
              "0                    AV AVENIDA BOYACA-CL 79 02  Only damages   \n",
              "1                             CL 26 S- KR 50 02  With Injured   \n",
              "2                              KR 9 - CL 100 02  Only damages   \n",
              "3                             CL 63A-KR 72 S 02  Only damages   \n",
              "4                                 KR 27-CL 9 14  Only damages   \n",
              "...                                         ...           ...   \n",
              "199095                   KR 86 F  - CL 33  S 02  Only damages   \n",
              "199096                  CL 42 B  S- KR 81 L  02  With Injured   \n",
              "199097                         DG 2 S- KR 79 12  With Injured   \n",
              "199098                        CL 43 S- KR 80 02  With Injured   \n",
              "199099  AV AVENIDA CIUDAD DE CALI - CL 42  S 02  With Injured   \n",
              "\n",
              "            accident_type         borough                  full_date  \\\n",
              "0                   Crash        ENGATIVA  2017-06-12 05:30:00+00:00   \n",
              "1                   Other   PUENTE ARANDA  2020-11-19 02:05:00+00:00   \n",
              "2                   Crash         USAQUEN  2020-11-10 13:30:00+00:00   \n",
              "3                   Crash  CIUDAD BOLIVAR  2015-05-11 10:50:00+00:00   \n",
              "4                   Crash    LOS MARTIRES  2016-06-08 21:30:00+00:00   \n",
              "...                   ...             ...                        ...   \n",
              "199095              Crash         KENNEDY  2021-08-30 16:31:00+00:00   \n",
              "199096           Run-over         KENNEDY  2021-08-03 14:00:00+00:00   \n",
              "199097              Crash         KENNEDY  2021-03-19 12:50:00+00:00   \n",
              "199098              Crash         KENNEDY  2021-04-18 21:21:00+00:00   \n",
              "199099  Passenger falling         KENNEDY  2021-07-12 19:53:00+00:00   \n",
              "\n",
              "        latitude  longitude         civ   road_id  year     month day_of_week  \\\n",
              "0       4.693807 -74.090924  10006772.0  221236.0  2017      June      Monday   \n",
              "1       4.603000 -74.121000  16004560.0       NaN  2020  November    Thursday   \n",
              "2       4.682000 -74.042000  30001107.0       NaN  2020  November     Tuesday   \n",
              "3       4.587187 -74.166937  19001483.0  136166.0  2015       May      Monday   \n",
              "4       4.607648 -74.092901  14000548.0  239719.0  2016      June   Wednesday   \n",
              "...          ...        ...         ...       ...   ...       ...         ...   \n",
              "199095  4.637000 -74.160000   8003090.0       NaN  2021    August      Monday   \n",
              "199096  4.628000 -74.167000   8005066.0       NaN  2021    August     Tuesday   \n",
              "199097  4.624830 -74.158247   8005839.0       NaN  2021     March      Friday   \n",
              "199098  4.622000 -74.167000   8011660.0       NaN  2021     April      Sunday   \n",
              "199099  4.630000 -74.168000   8004623.0       NaN  2021      July      Monday   \n",
              "\n",
              "        hour month_year  \n",
              "0          5  Jun, 2017  \n",
              "1          2  Nov, 2020  \n",
              "2         13  Nov, 2020  \n",
              "3         10  May, 2015  \n",
              "4         21  Jun, 2016  \n",
              "...      ...        ...  \n",
              "199095    16  Aug, 2021  \n",
              "199096    14  Aug, 2021  \n",
              "199097    12  Mar, 2021  \n",
              "199098    21  Apr, 2021  \n",
              "199099    19  Jul, 2021  \n",
              "\n",
              "[199100 rows x 17 columns]"
            ]
          },
          "execution_count": 7,
          "metadata": {},
          "output_type": "execute_result"
        }
      ],
      "source": [
        "df = pd.re\n",
        "ad_csv ('data/df_clean.csv', delimiter=',')\n",
        "df"
      ]
    },
    {
      "cell_type": "code",
      "execution_count": null,
      "metadata": {
        "id": "WLLMlYilc8lr",
        "outputId": "a9e291b1-c919-4406-d69c-d6ca0f156535"
      },
      "outputs": [
        {
          "name": "stdout",
          "output_type": "stream",
          "text": [
            "The rpy2.ipython extension is already loaded. To reload it, use:\n",
            "  %reload_ext rpy2.ipython\n"
          ]
        }
      ],
      "source": [
        "#Extension that allows the use of R code inside a Python Notebook\n",
        "%load_ext rpy2.ipython"
      ]
    },
    {
      "cell_type": "code",
      "execution_count": null,
      "metadata": {
        "id": "zjz3150rc8ls",
        "outputId": "48252531-cad4-4bde-f895-afc79b4b93e4"
      },
      "outputs": [
        {
          "name": "stdout",
          "output_type": "stream",
          "text": [
            "Rows: 199,100\n",
            "Columns: 17\n",
            "$ id            <int> 1, 2, 4, 7, 8, 9, 10, 12, 13, 15, 17, 18, 20, 23, 25, 28~\n",
            "$ form_id       <fct> A000640275, A001233353, A001232786, A000200705, A0004028~\n",
            "$ accident_code <int> 4484660, 10533499, 10533629, 4412699, 4447845, 10533587,~\n",
            "$ address       <fct> AV AVENIDA BOYACA-CL 79 02, CL 26 S- KR 50 02, KR 9 - CL~\n",
            "$ severity      <fct> Only damages, With Injured, Only damages, Only damages, ~\n",
            "$ accident_type <fct> Crash, Other, Crash, Crash, Crash, Run-over, Crash, Othe~\n",
            "$ borough       <fct> ENGATIVA, PUENTE ARANDA, USAQUEN, CIUDAD BOLIVAR, LOS MA~\n",
            "$ full_date     <fct> 2017-06-12 05:30:00+00:00, 2020-11-19 02:05:00+00:00, 20~\n",
            "$ latitude      <dbl> 4.693807, 4.603000, 4.682000, 4.587187, 4.607648, 4.7780~\n",
            "$ longitude     <dbl> -74.09092, -74.12100, -74.04200, -74.16694, -74.09290, -~\n",
            "$ civ           <dbl> 10006772, 16004560, 30001107, 19001483, 14000548, 100645~\n",
            "$ road_id       <dbl> 221236, NaN, NaN, 136166, 239719, NaN, 31431, NaN, 21962~\n",
            "$ year          <int> 2017, 2020, 2020, 2015, 2016, 2020, 2015, 2020, 2016, 20~\n",
            "$ month         <fct> June, November, November, May, June, August, September, ~\n",
            "$ day_of_week   <fct> Monday, Thursday, Tuesday, Monday, Wednesday, Monday, Sa~\n",
            "$ hour          <int> 5, 2, 13, 10, 21, 14, 18, 11, 19, 9, 15, 21, 7, 19, 20, ~\n",
            "$ month_year    <fct> \"Jun, 2017\", \"Nov, 2020\", \"Nov, 2020\", \"May, 2015\", \"Jun~\n"
          ]
        }
      ],
      "source": [
        "%%R\n",
        "library(ggplot2)\n",
        "library(dplyr)\n",
        "library(tidyr)\n",
        "df <- read.csv(\"C:/Users/mathe/OneDrive/Desktop/Data Science/DataCamp/DSA4_project/data/df_clean.csv\", stringsAsFactors=TRUE)\n",
        "glimpse(df)"
      ]
    },
    {
      "cell_type": "code",
      "execution_count": null,
      "metadata": {
        "id": "jvU5d7YGc8lt"
      },
      "outputs": [],
      "source": [
        "%%R\n",
        "#Re-arrange levels in month, day_of_week and borough\n",
        "df$month = factor(df$month, levels=c(\"January\", \"February\", \"March\", \"April\", \"May\", \"June\", \"July\", \"August\", \"September\", \"October\", \"November\", \"December\"))\n",
        "df$day_of_week = factor(df$day_of_week, levels=c(\"Monday\", \"Tuesday\", \"Wednesday\", \"Thursday\", \"Friday\", \"Saturday\", \"Sunday\"))\n",
        "df$borough = factor(df$borough, levels=c(\"SUMAPAZ\", \"CANDELARIA\", \"ANTONIO NARIÑO\", \"USME\",\"RAFAEL URIBE URIBE\", \"SAN CRISTOBAL\", \"TUNJUELITO\", \"SANTA FE\", \"LOS MARTIRES\", \"CIUDAD BOLIVAR\",\n",
        "                                         \"BOSA\", \"BARRIOS UNIDOS\", \"TEUSAQUILLO\", \"CHAPINERO\", \"PUENTE ARANDA\", \"FONTIBON\", \"SUBA\", \"USAQUEN\", \"ENGATIVA\", \"KENNEDY\"))"
      ]
    },
    {
      "cell_type": "markdown",
      "metadata": {
        "id": "9oebKLXkc8lu"
      },
      "source": [
        "## Negative Binomial Regression Analysis"
      ]
    },
    {
      "cell_type": "code",
      "execution_count": null,
      "metadata": {
        "id": "N0fVpsG0c8lw",
        "outputId": "6a9defc2-5fb7-4573-d9be-b16d2a76a2d5"
      },
      "outputs": [
        {
          "name": "stdout",
          "output_type": "stream",
          "text": [
            "`summarise()` has grouped output by 'borough', 'month'. You can override using\n",
            "the `.groups` argument.\n"
          ]
        }
      ],
      "source": [
        "%%R\n",
        "library(MASS) #for Negative Binomial Regression Analysis\n",
        "library(rcompanion) # For Nagelkerke pseudo-R-squared\n",
        "library(car) # For ANOVA Chi-squared\n",
        "# For Tukey comparison and Visualization\n",
        "library(multcomp)\n",
        "library(emmeans)\n",
        "library(multcompView)\n",
        "\n",
        "df_year = df %>% \n",
        "  group_by(borough, month, day_of_week) %>%\n",
        "  summarise(n = n())\n",
        "df_year = as.data.frame(df_year)"
      ]
    },
    {
      "cell_type": "markdown",
      "metadata": {
        "id": "zeVchRgBc8ly"
      },
      "source": [
        "### Day of Week vs. Number of Accidents"
      ]
    },
    {
      "cell_type": "code",
      "execution_count": null,
      "metadata": {
        "id": "h6XKkfosc8lz",
        "outputId": "b2070496-f09a-4b71-d66c-c4bf55a49642"
      },
      "outputs": [
        {
          "name": "stdout",
          "output_type": "stream",
          "text": [
            "\n",
            "Call:\n",
            "glm.nb(formula = n ~ day_of_week, data = df_year, init.theta = 2.092651951, \n",
            "    link = log)\n",
            "\n",
            "Deviance Residuals: \n",
            "    Min       1Q   Median       3Q      Max  \n",
            "-3.7137  -0.9121  -0.2916   0.6117   1.9112  \n",
            "\n",
            "Coefficients:\n",
            "                     Estimate Std. Error z value Pr(>|z|)    \n",
            "(Intercept)           4.78530    0.04618 103.624  < 2e-16 ***\n",
            "day_of_weekTuesday    0.12043    0.06528   1.845   0.0650 .  \n",
            "day_of_weekWednesday  0.08150    0.06521   1.250   0.2114    \n",
            "day_of_weekThursday   0.07830    0.06521   1.201   0.2299    \n",
            "day_of_weekFriday     0.15656    0.06520   2.401   0.0163 *  \n",
            "day_of_weekSaturday   0.08614    0.06514   1.322   0.1860    \n",
            "day_of_weekSunday    -0.34413    0.06528  -5.272 1.35e-07 ***\n",
            "---\n",
            "Signif. codes:  0 '***' 0.001 '**' 0.01 '*' 0.05 '.' 0.1 ' ' 1\n",
            "\n",
            "(Dispersion parameter for Negative Binomial(2.0927) family taken to be 1)\n",
            "\n",
            "    Null deviance: 1811.1  on 1602  degrees of freedom\n",
            "Residual deviance: 1736.5  on 1596  degrees of freedom\n",
            "AIC: 18261\n",
            "\n",
            "Number of Fisher Scoring iterations: 1\n",
            "\n",
            "\n",
            "              Theta:  2.0927 \n",
            "          Std. Err.:  0.0712 \n",
            "\n",
            " 2 x log-likelihood:  -18245.0150 \n"
          ]
        }
      ],
      "source": [
        "%%R\n",
        "NB21 <- glm.nb(n~day_of_week, data=df_year)\n",
        "summary(NB21)"
      ]
    },
    {
      "cell_type": "code",
      "execution_count": null,
      "metadata": {
        "id": "NCyMV8iVc8l4",
        "outputId": "0ae2f10c-2ed4-41ef-beff-87054e6c2852"
      },
      "outputs": [
        {
          "name": "stdout",
          "output_type": "stream",
          "text": [
            "$Models\n",
            "                                                           \n",
            "Model: \"glm.nb, n ~ day_of_week, df_year, 2.092651951, log\"\n",
            "Null:  \"glm.nb, n ~ 1, df_year, 2.0078193, log\"            \n",
            "\n",
            "$Pseudo.R.squared.for.model.vs.null\n",
            "                             Pseudo.R.squared\n",
            "McFadden                           0.00398951\n",
            "Cox and Snell (ML)                 0.04456610\n",
            "Nagelkerke (Cragg and Uhler)       0.04456660\n",
            "\n",
            "$Likelihood.ratio.test\n",
            " Df.diff LogLik.diff Chisq    p.value\n",
            "      -6      -36.54 73.08 9.5299e-14\n",
            "\n",
            "$Number.of.observations\n",
            "           \n",
            "Model: 1603\n",
            "Null:  1603\n",
            "\n",
            "$Messages\n",
            "[1] \"Note: For models fit with REML, these statistics are based on refitting with ML\"\n",
            "\n",
            "$Warnings\n",
            "[1] \"None\"\n",
            "\n"
          ]
        }
      ],
      "source": [
        "%%R\n",
        "nagelkerke(NB21)"
      ]
    },
    {
      "cell_type": "code",
      "execution_count": null,
      "metadata": {
        "id": "MgmolBptc8l5",
        "outputId": "9caba6d0-47d0-478b-b703-b7400c44b6d0"
      },
      "outputs": [
        {
          "name": "stdout",
          "output_type": "stream",
          "text": [
            "Analysis of Deviance Table (Type II tests)\n",
            "\n",
            "Response: n\n",
            "            LR Chisq Df Pr(>Chisq)    \n",
            "day_of_week   74.587  6  4.667e-14 ***\n",
            "---\n",
            "Signif. codes:  0 '***' 0.001 '**' 0.01 '*' 0.05 '.' 0.1 ' ' 1\n"
          ]
        }
      ],
      "source": [
        "%%R\n",
        "Anova(NB21, type=\"II\", test=\"LR\")"
      ]
    },
    {
      "cell_type": "code",
      "execution_count": null,
      "metadata": {
        "id": "XN5NepKVc8l6",
        "outputId": "d7805530-d34e-4be5-c375-396d7aeca5e8"
      },
      "outputs": [
        {
          "data": {
            "image/png": "[encoded data removed]"
          },
          "metadata": {},
          "output_type": "display_data"
        }
      ],
      "source": [
        "%%R\n",
        "marginal = emmeans(NB21, ~ day_of_week)\n",
        "pairs(marginal, adjust=\"tukey\")\n",
        "cld = cld(marginal, alpha   = 0.05, Letters = letters, adjust =  \"sidak\")\n",
        "\n",
        "cld$.group=gsub(\" \", \"\", cld$.group)\n",
        "\n",
        "ggplot(cld, aes(x = day_of_week, y = emmean, label = .group, color=day_of_week)) +\n",
        "  geom_point(shape  = 15, size   = 4) +\n",
        "  geom_errorbar(aes(ymin  =  asymp.LCL, ymax  =  asymp.UCL), width =  0.2, size  =  0.7) +\n",
        "  theme_light() +\n",
        "  theme(axis.title   = element_text(face = \"bold\"),\n",
        "        axis.text    = element_text(face = \"bold\"),\n",
        "        plot.caption = element_text(hjust = 0.5),\n",
        "        legend.position = \"none\",\n",
        "        axis.text.x = element_text(angle = 45, vjust = 1, hjust = 1)) +\n",
        "  ylab(\"Estimated marginal mean\\naccident count\") +\n",
        "  xlab(\" \") +\n",
        "  ggtitle(\"Accident counts in Bogotá per day of the week\") +\n",
        "  labs(caption  = paste0(\"\\nError bars indicate the 95% confidence \",\n",
        "                         \"interval of the estimated marginal mean. \\n\",\n",
        "                         \"Results are given on the log (not the response) scale. \",\n",
        "                         \"Means sharing a letter are \",\n",
        "                         \"not significantly different.\"), hjust=0.5)+\n",
        "  geom_text(nudge_x = c(0,0,0,0,0,0,0), nudge_y = c(0.2,0.2,0.2,0.2,0.2,0.2,0.2),  color   = \"black\")+\n",
        "  scale_fill_discrete(breaks = cld$day_of_week)"
      ]
    },
    {
      "cell_type": "markdown",
      "metadata": {
        "id": "815DyK5Lc8l8"
      },
      "source": [
        "### Month vs. Number of Accidents"
      ]
    },
    {
      "cell_type": "code",
      "execution_count": null,
      "metadata": {
        "id": "yWGNRQZdc8l9",
        "outputId": "02b80400-e85e-4c13-ed65-c8a0fc49ac0e"
      },
      "outputs": [
        {
          "name": "stdout",
          "output_type": "stream",
          "text": [
            "\n",
            "Call:\n",
            "glm.nb(formula = n ~ month, data = df_year, init.theta = 2.023506758, \n",
            "    link = log)\n",
            "\n",
            "Deviance Residuals: \n",
            "    Min       1Q   Median       3Q      Max  \n",
            "-3.6173  -0.9168  -0.2969   0.5913   1.7786  \n",
            "\n",
            "Coefficients:\n",
            "               Estimate Std. Error z value Pr(>|z|)    \n",
            "(Intercept)     4.66779    0.06130  76.143  < 2e-16 ***\n",
            "monthFebruary   0.19537    0.08662   2.255  0.02411 *  \n",
            "monthMarch      0.24641    0.08677   2.840  0.00451 ** \n",
            "monthApril      0.08373    0.08666   0.966  0.33394    \n",
            "monthMay        0.20424    0.08678   2.353  0.01860 *  \n",
            "monthJune       0.16436    0.08680   1.894  0.05827 .  \n",
            "monthJuly       0.19121    0.08663   2.207  0.02729 *  \n",
            "monthAugust     0.23055    0.08678   2.657  0.00789 ** \n",
            "monthSeptember  0.14257    0.08664   1.645  0.09987 .  \n",
            "monthOctober    0.14029    0.08681   1.616  0.10607    \n",
            "monthNovember   0.12719    0.08681   1.465  0.14289    \n",
            "monthDecember   0.09962    0.08650   1.152  0.24944    \n",
            "---\n",
            "Signif. codes:  0 '***' 0.001 '**' 0.01 '*' 0.05 '.' 0.1 ' ' 1\n",
            "\n",
            "(Dispersion parameter for Negative Binomial(2.0235) family taken to be 1)\n",
            "\n",
            "    Null deviance: 1753.3  on 1602  degrees of freedom\n",
            "Residual deviance: 1739.5  on 1591  degrees of freedom\n",
            "AIC: 18330\n",
            "\n",
            "Number of Fisher Scoring iterations: 1\n",
            "\n",
            "\n",
            "              Theta:  2.0235 \n",
            "          Std. Err.:  0.0686 \n",
            "\n",
            " 2 x log-likelihood:  -18304.3270 \n"
          ]
        }
      ],
      "source": [
        "%%R\n",
        "NB22 <- glm.nb(n ~ month, data=df_year)\n",
        "summary(NB22)"
      ]
    },
    {
      "cell_type": "code",
      "execution_count": null,
      "metadata": {
        "id": "TxtX9FnBc8l-",
        "outputId": "b5f19fc2-77da-4268-8fe9-af2ee07d36ac"
      },
      "outputs": [
        {
          "name": "stdout",
          "output_type": "stream",
          "text": [
            "$Models\n",
            "                                                     \n",
            "Model: \"glm.nb, n ~ month, df_year, 2.023506758, log\"\n",
            "Null:  \"glm.nb, n ~ 1, df_year, 2.0078193, log\"      \n",
            "\n",
            "$Pseudo.R.squared.for.model.vs.null\n",
            "                             Pseudo.R.squared\n",
            "McFadden                          0.000751634\n",
            "Cox and Snell (ML)                0.008552430\n",
            "Nagelkerke (Cragg and Uhler)      0.008552520\n",
            "\n",
            "$Likelihood.ratio.test\n",
            " Df.diff LogLik.diff  Chisq p.value\n",
            "     -11     -6.8843 13.769 0.24607\n",
            "\n",
            "$Number.of.observations\n",
            "           \n",
            "Model: 1603\n",
            "Null:  1603\n",
            "\n",
            "$Messages\n",
            "[1] \"Note: For models fit with REML, these statistics are based on refitting with ML\"\n",
            "\n",
            "$Warnings\n",
            "[1] \"None\"\n",
            "\n"
          ]
        }
      ],
      "source": [
        "%%R\n",
        "nagelkerke(NB22)"
      ]
    },
    {
      "cell_type": "code",
      "execution_count": null,
      "metadata": {
        "id": "urbZSLO7c8l_",
        "outputId": "03a8146d-858b-4c53-c208-171d7c6aee14"
      },
      "outputs": [
        {
          "name": "stdout",
          "output_type": "stream",
          "text": [
            "Analysis of Deviance Table (Type II tests)\n",
            "\n",
            "Response: n\n",
            "      LR Chisq Df Pr(>Chisq)\n",
            "month   13.821 11      0.243\n"
          ]
        }
      ],
      "source": [
        "%%R\n",
        "Anova(NB22, type=\"II\", test=\"LR\")"
      ]
    },
    {
      "cell_type": "code",
      "execution_count": null,
      "metadata": {
        "id": "WVsTfbSFc8l_",
        "outputId": "a081cb01-d2de-4051-fdae-a1e40cf06d74"
      },
      "outputs": [
        {
          "data": {
            "image/png": "[encoded data removed]"
          },
          "metadata": {},
          "output_type": "display_data"
        }
      ],
      "source": [
        "%%R\n",
        "marginal2 = emmeans(NB22, ~month)\n",
        "pairs(marginal2, adjust=\"tukey\")\n",
        "cld2 = cld(marginal2, alpha   = 0.05, Letters = letters, adjust =  \"sidak\")\n",
        "\n",
        "cld2$.group=gsub(\" \", \"\", cld2$.group)\n",
        "\n",
        "ggplot(cld2, aes(x = month, y = emmean, label = .group, color=month)) +\n",
        "  geom_point(shape  = 15, size   = 4) +\n",
        "  geom_errorbar(aes(ymin  =  asymp.LCL, ymax  =  asymp.UCL), width =  0.2, size  =  0.7) +\n",
        "  theme_light() +\n",
        "  theme(axis.title   = element_text(face = \"bold\"),\n",
        "        axis.text    = element_text(face = \"bold\"),\n",
        "        plot.caption = element_text(hjust = 0.5),\n",
        "        legend.position = \"none\",\n",
        "        axis.text.x = element_text(angle = 45, vjust = 1, hjust = 1)) +\n",
        "  ylab(\"Estimated marginal mean\\naccident count\") +\n",
        "  xlab(\" \") +\n",
        "  ggtitle(\"Accident counts in Bogotá per month\") +\n",
        "  labs(caption  = paste0(\"\\nError bars indicate the 95% confidence \",\n",
        "                         \"interval of the estimated marginal mean. \\n\",\n",
        "                         \"Results are given on the log (not the response) scale. \",\n",
        "                         \"Means sharing a letter are \",\n",
        "                         \"not significantly different.\"), hjust=0.5)+\n",
        " geom_text(nudge_x = c(0,0,0,0,0,0,0,0,0,0,0,0),\n",
        "            nudge_y = c(0.25,0.25,0.25,0.25,0.25,0.25,0.25,0.25,0.25,0.25,0.25,0.25),  color   = \"black\") +\n",
        "  scale_fill_discrete(breaks = cld$month)"
      ]
    },
    {
      "cell_type": "markdown",
      "metadata": {
        "id": "F4l2aVm7c8mA"
      },
      "source": [
        "## Analysis of variance per boroughs"
      ]
    },
    {
      "cell_type": "code",
      "execution_count": null,
      "metadata": {
        "id": "A0h1D5_kc8mA",
        "outputId": "5b986af5-3cbb-4826-b733-2683e0a84d73"
      },
      "outputs": [
        {
          "name": "stdout",
          "output_type": "stream",
          "text": [
            "`summarise()` has grouped output by 'borough'. You can override using the\n",
            "`.groups` argument.\n",
            "\n",
            "Call:\n",
            "lm(formula = n ~ borough, data = df_year_bor)\n",
            "\n",
            "Residuals:\n",
            "     Min       1Q   Median       3Q      Max \n",
            "-1344.00  -117.25    43.57   226.93   774.29 \n",
            "\n",
            "Coefficients:\n",
            "                          Estimate Std. Error t value Pr(>|t|)    \n",
            "(Intercept)                   1.75     209.94   0.008 0.993364    \n",
            "boroughCANDELARIA           124.25     263.18   0.472 0.637775    \n",
            "boroughUSME                 572.11     263.18   2.174 0.031842 *  \n",
            "boroughRAFAEL URIBE URIBE   760.11     263.18   2.888 0.004660 ** \n",
            "boroughSAN CRISTOBAL        760.39     263.18   2.889 0.004645 ** \n",
            "boroughTUNJUELITO           762.68     263.18   2.898 0.004527 ** \n",
            "boroughSANTA FE             776.96     263.18   2.952 0.003851 ** \n",
            "boroughLOS MARTIRES         891.11     263.18   3.386 0.000982 ***\n",
            "boroughCIUDAD BOLIVAR      1141.82     263.18   4.339 3.17e-05 ***\n",
            "boroughBOSA                1343.54     263.18   5.105 1.38e-06 ***\n",
            "boroughBARRIOS UNIDOS      1440.25     263.18   5.472 2.78e-07 ***\n",
            "boroughTEUSAQUILLO         1450.68     263.18   5.512 2.33e-07 ***\n",
            "boroughCHAPINERO           1669.11     263.18   6.342 5.04e-09 ***\n",
            "boroughPUENTE ARANDA       2018.68     263.18   7.670 7.09e-12 ***\n",
            "boroughFONTIBON            2337.82     263.18   8.883 1.32e-14 ***\n",
            "boroughSUBA                2708.68     263.18  10.292  < 2e-16 ***\n",
            "boroughUSAQUEN             2754.25     263.18  10.465  < 2e-16 ***\n",
            "boroughENGATIVA            2987.96     263.18  11.353  < 2e-16 ***\n",
            "boroughKENNEDY             3378.39     263.18  12.837  < 2e-16 ***\n",
            "---\n",
            "Signif. codes:  0 '***' 0.001 '**' 0.01 '*' 0.05 '.' 0.1 ' ' 1\n",
            "\n",
            "Residual standard error: 419.9 on 111 degrees of freedom\n",
            "  (7 observations deleted due to missingness)\n",
            "Multiple R-squared:  0.8552,\tAdjusted R-squared:  0.8317 \n",
            "F-statistic: 36.41 on 18 and 111 DF,  p-value: < 2.2e-16\n",
            "\n"
          ]
        }
      ],
      "source": [
        "%%R\n",
        "df_year_bor = df %>% \n",
        "  group_by(borough,year) %>%\n",
        "  summarise(n = n())\n",
        "df_year_bor = as.data.frame(df_year_bor)\n",
        "NB24 <- lm(n ~ borough, data=df_year_bor)\n",
        "summary.aov(NB24)\n",
        "summary(NB24)"
      ]
    },
    {
      "cell_type": "code",
      "execution_count": null,
      "metadata": {
        "id": "_MA9lATRc8mB",
        "outputId": "d07aca7b-2eef-4b63-9cba-30fdf157e909"
      },
      "outputs": [
        {
          "name": "stderr",
          "output_type": "stream",
          "text": [
            "R[write to console]: Note: adjust = \"tukey\" was changed to \"sidak\"\n",
            "because \"tukey\" is only appropriate for one set of pairwise comparisons\n",
            "\n"
          ]
        },
        {
          "data": {
            "image/png": "[encoded data removed]"
          },
          "metadata": {},
          "output_type": "display_data"
        }
      ],
      "source": [
        "%%R\n",
        "marginal3 = emmeans(NB24, ~ borough)\n",
        "cld3 = cld(marginal3, alpha=0.05, Letters=letters, adjust=\"tukey\")\n",
        "cld3$.group=gsub(\" \", \"\", cld3$.group)\n",
        "ggplot(cld3, aes(x = borough, y = emmean, color = borough, label = .group)) +\n",
        "geom_point(shape  = 15, size   = 4) +\n",
        "geom_errorbar(aes(ymin  =  lower.CL, ymax  =  upper.CL), width =  0.2, size  =  0.7) +\n",
        "theme_light()+\n",
        "theme(axis.title   = element_text(face = \"bold\"),\n",
        "        axis.text    = element_text(face = \"bold\"),\n",
        "        plot.caption = element_text(hjust = 0.5),\n",
        "        axis.text.x = element_text(angle = 45, vjust = 1, hjust = 1)) +\n",
        "ylab(\"Estimated marginal mean\\naccident count\") +\n",
        "xlab(\" \") +\n",
        "ggtitle(\"Accident counts in Bogotá per borough\") +\n",
        "labs(caption  = paste0(\"\\nError bars indicate the 95% confidence \",\n",
        "                         \"interval of the estimated marginal mean. \\n\",\n",
        "                         \"Results are given on the log (not the response) scale. \",\n",
        "                         \"Means sharing a letter are \",\n",
        "                         \"not significantly different.\"), hjust=0.5)+  \n",
        "geom_text(nudge_x = c(0,0,0,0,0,0,0,0,0,0,0,0,0,0,0,0,0,0,0,0), \n",
        "            nudge_y = c(1000,-1000,1100,-1200,1000,-1200,1100,-1200,1300,-1300,1200,-1600,1200,-1600,1300,-1600,1300,-1600,1300,-1600),\n",
        "            color   = \"black\")"
      ]
    },
    {
      "cell_type": "markdown",
      "metadata": {
        "id": "zBry6mq6c8mB"
      },
      "source": [
        "## Cluster Analysis"
      ]
    },
    {
      "cell_type": "code",
      "execution_count": null,
      "metadata": {
        "id": "_D6WmXPQc8mC"
      },
      "outputs": [],
      "source": [
        "%%R\n",
        "df_density <- read.csv(\"C:/Users/mathe/OneDrive/Desktop/Data Science/DataCamp/DSA4_project/data/df_density.csv\", stringsAsFactors=TRUE)\n",
        "df_density_wide <- df_density %>% \n",
        "  dplyr::select(borough, year, accident_count)%>%\n",
        "  pivot_wider(names_from = year, values_from = accident_count)\n",
        "df_density_wide = as.data.frame(df_density_wide)\n",
        "rownames(df_density_wide) <- as.character(df_density_wide$borough)\n",
        "df_density_wide$borough <- NULL"
      ]
    },
    {
      "cell_type": "code",
      "execution_count": null,
      "metadata": {
        "id": "35T8odYtc8mC",
        "outputId": "a2cb60c3-a4e1-408d-96a9-86568229d337"
      },
      "outputs": [
        {
          "name": "stderr",
          "output_type": "stream",
          "text": [
            "R[write to console]: Welcome! Want to learn more? See two factoextra-related books at https://goo.gl/ve3WBa\n",
            "\n"
          ]
        },
        {
          "data": {
            "image/png": "[encoded data removed]"
          },
          "metadata": {},
          "output_type": "display_data"
        }
      ],
      "source": [
        "%%R\n",
        "library(cluster)\n",
        "km.res <- kmeans(df_density_wide, 3, nstart = 25)\n",
        "palette <- c(\"#255293\", \"#db0a16\", \"#f8c72d\")\n",
        "# Visualize\n",
        "library(factoextra)\n",
        "fviz_cluster(km.res, data = df_density_wide,\n",
        "             ellipse.type = \"convex\",\n",
        "             palette = palette,\n",
        "             ggtheme = theme_light())"
      ]
    },
    {
      "cell_type": "markdown",
      "metadata": {
        "id": "YgaX_OXBc8mD"
      },
      "source": [
        "## Linear Regression Density vs. Accidents"
      ]
    },
    {
      "cell_type": "code",
      "execution_count": null,
      "metadata": {
        "id": "7fCWNmKtc8mE",
        "outputId": "7f2cee2c-10d1-4aa9-efa9-5b2e3c31f173"
      },
      "outputs": [
        {
          "name": "stderr",
          "output_type": "stream",
          "text": [
            "R[write to console]: `geom_smooth()` using formula 'y ~ x'\n",
            "\n"
          ]
        },
        {
          "data": {
            "image/png": "[encoded data removed]"
          },
          "metadata": {},
          "output_type": "display_data"
        }
      ],
      "source": [
        "%%R\n",
        "library(ggrepel)\n",
        "df_density2021 <-df_density %>% filter(year== 2021)\n",
        "rownames(df_density2021) <- as.character(df_density2021$borough)\n",
        "ggplot(df_density2021, aes(x=density, y=accident_count))+\n",
        "  geom_point()+\n",
        "  stat_smooth(method=\"lm\",se=FALSE, color=\"black\")+\n",
        "  geom_text_repel(label=rownames(df_density2021))+\n",
        "  ylab(\"Number of Accidents\") +\n",
        "  xlab(\"Density (persons per squared kilometer)\")+\n",
        "  theme_light()"
      ]
    },
    {
      "cell_type": "code",
      "execution_count": null,
      "metadata": {
        "id": "Ng9gmPiMc8mE",
        "outputId": "5a160b34-e3a3-4339-b854-a96d02ad588b"
      },
      "outputs": [
        {
          "name": "stdout",
          "output_type": "stream",
          "text": [
            "\n",
            "Call:\n",
            "lm(formula = accident_count ~ density, data = df_density)\n",
            "\n",
            "Residuals:\n",
            "    Min      1Q  Median      3Q     Max \n",
            "-1451.0  -764.8  -275.3   640.8  2132.2 \n",
            "\n",
            "Coefficients:\n",
            "             Estimate Std. Error t value Pr(>|t|)    \n",
            "(Intercept) 9.997e+02  1.490e+02   6.710 5.31e-10 ***\n",
            "density     3.903e-02  9.829e-03   3.971 0.000117 ***\n",
            "---\n",
            "Signif. codes:  0 '***' 0.001 '**' 0.01 '*' 0.05 '.' 0.1 ' ' 1\n",
            "\n",
            "Residual standard error: 959.8 on 131 degrees of freedom\n",
            "  (7 observations deleted due to missingness)\n",
            "Multiple R-squared:  0.1074,\tAdjusted R-squared:  0.1006 \n",
            "F-statistic: 15.77 on 1 and 131 DF,  p-value: 0.0001175\n",
            "\n"
          ]
        }
      ],
      "source": [
        "%%R\n",
        "mod_dens <- lm(accident_count ~ density, data=df_density)\n",
        "summary.aov(mod_dens)\n",
        "summary(mod_dens)"
      ]
    }
  ],
  "metadata": {
    "kernelspec": {
      "display_name": "Python 3.10.4 64-bit",
      "language": "python",
      "name": "python3"
    },
    "language_info": {
      "codemirror_mode": {
        "name": "ipython",
        "version": 3
      },
      "file_extension": ".py",
      "mimetype": "text/x-python",
      "name": "python",
      "nbconvert_exporter": "python",
      "pygments_lexer": "ipython3",
      "version": "3.10.4"
    },
    "orig_nbformat": 4,
    "vscode": {
      "interpreter": {
        "hash": "8d3e54fe3ce154e32ac346abb9a52721706f8b6192d2a6d9e7d1f2a1d569502c"
      }
    },
    "colab": {
      "name": "analysis.ipynb",
      "provenance": []
    }
  },
  "nbformat": 4,
  "nbformat_minor": 0
}