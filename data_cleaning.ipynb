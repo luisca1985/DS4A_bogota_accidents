{
  "cells": [
    {
      "cell_type": "markdown",
      "metadata": {
        "id": "HIfDcScm1ogb"
      },
      "source": [
        "# Analyzing Traffic Accidents in Bogotá from 2015 to 2021 - Team 82\n",
        "*José Armando Delgado Álvarez, Andrés Felipe Guzmán Romero, Luis Camilo Jiménez Álvarez, Juan Pablo Lancheros Rodríguez, Paola Andrea Matheus Arbeláez, Alejandro Moreno Fresneda, Leidy Milena Nieves Mendoza, Andrés Felipe Pérez Osorio*"
      ]
    },
    {
      "cell_type": "markdown",
      "metadata": {
        "id": "nM3ZGCBb1oge"
      },
      "source": [
        "# Data Cleaning"
      ]
    },
    {
      "cell_type": "markdown",
      "metadata": {
        "id": "NY0Z24RRmz7f"
      },
      "source": [
        "## Importing neccesary libraries\n",
        "We begin by importing the necessary libraries required to perform our data cleaning and exploratory data analysis"
      ]
    },
    {
      "cell_type": "code",
      "execution_count": null,
      "metadata": {
        "id": "AKskR3gcFsZW"
      },
      "outputs": [],
      "source": [
        "import numpy                 as np\n",
        "import pandas                as pd\n",
        "from pandas.api.types        import CategoricalDtype\n",
        "import geopandas             as gpd"
      ]
    },
    {
      "cell_type": "markdown",
      "metadata": {
        "id": "N2sOYnM_1ogg"
      },
      "source": [
        "\n",
        "During this project we will use data stored in the `historico_siniestros_bogota.csv` file containing information on geospatial referenced road accidents in Bogotá from 2015 to 2021."
      ]
    },
    {
      "cell_type": "markdown",
      "metadata": {
        "id": "MIa5CurAnOUm"
      },
      "source": [
        "### Loading and inspecting the data\n",
        "We read the dataset and display the top rows, in order to have a preliminary view of the data."
      ]
    },
    {
      "cell_type": "code",
      "execution_count": null,
      "metadata": {
        "colab": {
          "base_uri": "https://localhost:8080/",
          "height": 409
        },
        "id": "EwQpHW0AF3nO",
        "outputId": "b00dee06-1196-4b4b-a4bb-b7f56ecde731"
      },
      "outputs": [
        {
          "data": {
            "text/html": [
              "<div>\n",
              "<style scoped>\n",
              "    .dataframe tbody tr th:only-of-type {\n",
              "        vertical-align: middle;\n",
              "    }\n",
              "\n",
              "    .dataframe tbody tr th {\n",
              "        vertical-align: top;\n",
              "    }\n",
              "\n",
              "    .dataframe thead th {\n",
              "        text-align: right;\n",
              "    }\n",
              "</style>\n",
              "<table border=\"1\" class=\"dataframe\">\n",
              "  <thead>\n",
              "    <tr style=\"text-align: right;\">\n",
              "      <th></th>\n",
              "      <th>X</th>\n",
              "      <th>Y</th>\n",
              "      <th>OBJECTID</th>\n",
              "      <th>FORMULARIO</th>\n",
              "      <th>CODIGO_ACCIDENTE</th>\n",
              "      <th>FECHA_OCURRENCIA_ACC</th>\n",
              "      <th>ANO_OCURRENCIA_ACC</th>\n",
              "      <th>DIRECCION</th>\n",
              "      <th>GRAVEDAD</th>\n",
              "      <th>CLASE_ACC</th>\n",
              "      <th>LOCALIDAD</th>\n",
              "      <th>FECHA_HORA_ACC</th>\n",
              "      <th>LATITUD</th>\n",
              "      <th>LONGITUD</th>\n",
              "      <th>CIV</th>\n",
              "      <th>PK_CALZADA</th>\n",
              "    </tr>\n",
              "  </thead>\n",
              "  <tbody>\n",
              "    <tr>\n",
              "      <th>0</th>\n",
              "      <td>-74.090924</td>\n",
              "      <td>4.693807</td>\n",
              "      <td>1</td>\n",
              "      <td>A000640275</td>\n",
              "      <td>4484660</td>\n",
              "      <td>2017/06/12 00:00:00+00</td>\n",
              "      <td>2017</td>\n",
              "      <td>AV AVENIDA BOYACA-CL 79 02</td>\n",
              "      <td>SOLO DANOS</td>\n",
              "      <td>CHOQUE</td>\n",
              "      <td>ENGATIVA</td>\n",
              "      <td>2017/06/12 05:30:00+00</td>\n",
              "      <td>4.693807</td>\n",
              "      <td>-74.090924</td>\n",
              "      <td>10006772.0</td>\n",
              "      <td>221236.0</td>\n",
              "    </tr>\n",
              "    <tr>\n",
              "      <th>1</th>\n",
              "      <td>-74.121000</td>\n",
              "      <td>4.603000</td>\n",
              "      <td>2</td>\n",
              "      <td>A001233353</td>\n",
              "      <td>10533499</td>\n",
              "      <td>2020/11/19 00:00:00+00</td>\n",
              "      <td>2020</td>\n",
              "      <td>CL 26 S- KR 50 02</td>\n",
              "      <td>CON HERIDOS</td>\n",
              "      <td>OTRO</td>\n",
              "      <td>PUENTE ARANDA</td>\n",
              "      <td>2020/11/19 02:05:00+00</td>\n",
              "      <td>4.603000</td>\n",
              "      <td>-74.121000</td>\n",
              "      <td>16004560.0</td>\n",
              "      <td>NaN</td>\n",
              "    </tr>\n",
              "    <tr>\n",
              "      <th>2</th>\n",
              "      <td>-74.042000</td>\n",
              "      <td>4.682000</td>\n",
              "      <td>4</td>\n",
              "      <td>A001232786</td>\n",
              "      <td>10533629</td>\n",
              "      <td>2020/11/10 00:00:00+00</td>\n",
              "      <td>2020</td>\n",
              "      <td>KR 9 - CL 100 02</td>\n",
              "      <td>SOLO DANOS</td>\n",
              "      <td>CHOQUE</td>\n",
              "      <td>USAQUEN</td>\n",
              "      <td>2020/11/10 13:30:00+00</td>\n",
              "      <td>4.682000</td>\n",
              "      <td>-74.042000</td>\n",
              "      <td>30001107.0</td>\n",
              "      <td>NaN</td>\n",
              "    </tr>\n",
              "    <tr>\n",
              "      <th>3</th>\n",
              "      <td>-74.166937</td>\n",
              "      <td>4.587187</td>\n",
              "      <td>7</td>\n",
              "      <td>A000200705</td>\n",
              "      <td>4412699</td>\n",
              "      <td>2015/05/11 00:00:00+00</td>\n",
              "      <td>2015</td>\n",
              "      <td>CL 63A-KR 72 S 02</td>\n",
              "      <td>SOLO DANOS</td>\n",
              "      <td>CHOQUE</td>\n",
              "      <td>CIUDAD BOLIVAR</td>\n",
              "      <td>2015/05/11 10:50:00+00</td>\n",
              "      <td>4.587187</td>\n",
              "      <td>-74.166937</td>\n",
              "      <td>19001483.0</td>\n",
              "      <td>136166.0</td>\n",
              "    </tr>\n",
              "    <tr>\n",
              "      <th>4</th>\n",
              "      <td>-74.092901</td>\n",
              "      <td>4.607648</td>\n",
              "      <td>8</td>\n",
              "      <td>A000402862</td>\n",
              "      <td>4447845</td>\n",
              "      <td>2016/06/08 00:00:00+00</td>\n",
              "      <td>2016</td>\n",
              "      <td>KR 27-CL 9 14</td>\n",
              "      <td>SOLO DANOS</td>\n",
              "      <td>CHOQUE</td>\n",
              "      <td>LOS MARTIRES</td>\n",
              "      <td>2016/06/08 21:30:00+00</td>\n",
              "      <td>4.607648</td>\n",
              "      <td>-74.092901</td>\n",
              "      <td>14000548.0</td>\n",
              "      <td>239719.0</td>\n",
              "    </tr>\n",
              "    <tr>\n",
              "      <th>...</th>\n",
              "      <td>...</td>\n",
              "      <td>...</td>\n",
              "      <td>...</td>\n",
              "      <td>...</td>\n",
              "      <td>...</td>\n",
              "      <td>...</td>\n",
              "      <td>...</td>\n",
              "      <td>...</td>\n",
              "      <td>...</td>\n",
              "      <td>...</td>\n",
              "      <td>...</td>\n",
              "      <td>...</td>\n",
              "      <td>...</td>\n",
              "      <td>...</td>\n",
              "      <td>...</td>\n",
              "      <td>...</td>\n",
              "    </tr>\n",
              "    <tr>\n",
              "      <th>199141</th>\n",
              "      <td>-74.160000</td>\n",
              "      <td>4.637000</td>\n",
              "      <td>421907</td>\n",
              "      <td>A001341297</td>\n",
              "      <td>10548522</td>\n",
              "      <td>2021/08/30 00:00:00+00</td>\n",
              "      <td>2021</td>\n",
              "      <td>KR 86 F  - CL 33  S 02</td>\n",
              "      <td>SOLO DANOS</td>\n",
              "      <td>CHOQUE</td>\n",
              "      <td>KENNEDY</td>\n",
              "      <td>2021/08/30 16:31:00+00</td>\n",
              "      <td>4.637000</td>\n",
              "      <td>-74.160000</td>\n",
              "      <td>8003090.0</td>\n",
              "      <td>NaN</td>\n",
              "    </tr>\n",
              "    <tr>\n",
              "      <th>199142</th>\n",
              "      <td>-74.167000</td>\n",
              "      <td>4.628000</td>\n",
              "      <td>421908</td>\n",
              "      <td>A001305748</td>\n",
              "      <td>10546116</td>\n",
              "      <td>2021/08/03 00:00:00+00</td>\n",
              "      <td>2021</td>\n",
              "      <td>CL 42 B  S- KR 81 L  02</td>\n",
              "      <td>CON HERIDOS</td>\n",
              "      <td>ATROPELLO</td>\n",
              "      <td>KENNEDY</td>\n",
              "      <td>2021/08/03 14:00:00+00</td>\n",
              "      <td>4.628000</td>\n",
              "      <td>-74.167000</td>\n",
              "      <td>8005066.0</td>\n",
              "      <td>NaN</td>\n",
              "    </tr>\n",
              "    <tr>\n",
              "      <th>199143</th>\n",
              "      <td>-74.158247</td>\n",
              "      <td>4.624830</td>\n",
              "      <td>421909</td>\n",
              "      <td>A001238302</td>\n",
              "      <td>10536074</td>\n",
              "      <td>2021/03/19 00:00:00+00</td>\n",
              "      <td>2021</td>\n",
              "      <td>DG 2 S- KR 79 12</td>\n",
              "      <td>CON HERIDOS</td>\n",
              "      <td>CHOQUE</td>\n",
              "      <td>KENNEDY</td>\n",
              "      <td>2021/03/19 12:50:00+00</td>\n",
              "      <td>4.624830</td>\n",
              "      <td>-74.158247</td>\n",
              "      <td>8005839.0</td>\n",
              "      <td>NaN</td>\n",
              "    </tr>\n",
              "    <tr>\n",
              "      <th>199144</th>\n",
              "      <td>-74.167000</td>\n",
              "      <td>4.622000</td>\n",
              "      <td>421910</td>\n",
              "      <td>A001297106</td>\n",
              "      <td>10538181</td>\n",
              "      <td>2021/04/18 00:00:00+00</td>\n",
              "      <td>2021</td>\n",
              "      <td>CL 43 S- KR 80 02</td>\n",
              "      <td>CON HERIDOS</td>\n",
              "      <td>CHOQUE</td>\n",
              "      <td>KENNEDY</td>\n",
              "      <td>2021/04/18 21:21:00+00</td>\n",
              "      <td>4.622000</td>\n",
              "      <td>-74.167000</td>\n",
              "      <td>8011660.0</td>\n",
              "      <td>NaN</td>\n",
              "    </tr>\n",
              "    <tr>\n",
              "      <th>199145</th>\n",
              "      <td>-74.168000</td>\n",
              "      <td>4.630000</td>\n",
              "      <td>421911</td>\n",
              "      <td>A001304271</td>\n",
              "      <td>10544226</td>\n",
              "      <td>2021/07/12 00:00:00+00</td>\n",
              "      <td>2021</td>\n",
              "      <td>AV AVENIDA CIUDAD DE CALI - CL 42  S 02</td>\n",
              "      <td>CON HERIDOS</td>\n",
              "      <td>CAIDA DE OCUPANTE</td>\n",
              "      <td>KENNEDY</td>\n",
              "      <td>2021/07/12 19:53:00+00</td>\n",
              "      <td>4.630000</td>\n",
              "      <td>-74.168000</td>\n",
              "      <td>8004623.0</td>\n",
              "      <td>NaN</td>\n",
              "    </tr>\n",
              "  </tbody>\n",
              "</table>\n",
              "<p>199146 rows × 16 columns</p>\n",
              "</div>"
            ],
            "text/plain": [
              "                X         Y  OBJECTID  FORMULARIO  CODIGO_ACCIDENTE  \\\n",
              "0      -74.090924  4.693807         1  A000640275           4484660   \n",
              "1      -74.121000  4.603000         2  A001233353          10533499   \n",
              "2      -74.042000  4.682000         4  A001232786          10533629   \n",
              "3      -74.166937  4.587187         7  A000200705           4412699   \n",
              "4      -74.092901  4.607648         8  A000402862           4447845   \n",
              "...           ...       ...       ...         ...               ...   \n",
              "199141 -74.160000  4.637000    421907  A001341297          10548522   \n",
              "199142 -74.167000  4.628000    421908  A001305748          10546116   \n",
              "199143 -74.158247  4.624830    421909  A001238302          10536074   \n",
              "199144 -74.167000  4.622000    421910  A001297106          10538181   \n",
              "199145 -74.168000  4.630000    421911  A001304271          10544226   \n",
              "\n",
              "          FECHA_OCURRENCIA_ACC  ANO_OCURRENCIA_ACC  \\\n",
              "0       2017/06/12 00:00:00+00                2017   \n",
              "1       2020/11/19 00:00:00+00                2020   \n",
              "2       2020/11/10 00:00:00+00                2020   \n",
              "3       2015/05/11 00:00:00+00                2015   \n",
              "4       2016/06/08 00:00:00+00                2016   \n",
              "...                        ...                 ...   \n",
              "199141  2021/08/30 00:00:00+00                2021   \n",
              "199142  2021/08/03 00:00:00+00                2021   \n",
              "199143  2021/03/19 00:00:00+00                2021   \n",
              "199144  2021/04/18 00:00:00+00                2021   \n",
              "199145  2021/07/12 00:00:00+00                2021   \n",
              "\n",
              "                                      DIRECCION     GRAVEDAD  \\\n",
              "0                    AV AVENIDA BOYACA-CL 79 02   SOLO DANOS   \n",
              "1                             CL 26 S- KR 50 02  CON HERIDOS   \n",
              "2                              KR 9 - CL 100 02   SOLO DANOS   \n",
              "3                             CL 63A-KR 72 S 02   SOLO DANOS   \n",
              "4                                 KR 27-CL 9 14   SOLO DANOS   \n",
              "...                                         ...          ...   \n",
              "199141                   KR 86 F  - CL 33  S 02   SOLO DANOS   \n",
              "199142                  CL 42 B  S- KR 81 L  02  CON HERIDOS   \n",
              "199143                         DG 2 S- KR 79 12  CON HERIDOS   \n",
              "199144                        CL 43 S- KR 80 02  CON HERIDOS   \n",
              "199145  AV AVENIDA CIUDAD DE CALI - CL 42  S 02  CON HERIDOS   \n",
              "\n",
              "                CLASE_ACC       LOCALIDAD          FECHA_HORA_ACC   LATITUD  \\\n",
              "0                  CHOQUE        ENGATIVA  2017/06/12 05:30:00+00  4.693807   \n",
              "1                    OTRO   PUENTE ARANDA  2020/11/19 02:05:00+00  4.603000   \n",
              "2                  CHOQUE         USAQUEN  2020/11/10 13:30:00+00  4.682000   \n",
              "3                  CHOQUE  CIUDAD BOLIVAR  2015/05/11 10:50:00+00  4.587187   \n",
              "4                  CHOQUE    LOS MARTIRES  2016/06/08 21:30:00+00  4.607648   \n",
              "...                   ...             ...                     ...       ...   \n",
              "199141             CHOQUE         KENNEDY  2021/08/30 16:31:00+00  4.637000   \n",
              "199142          ATROPELLO         KENNEDY  2021/08/03 14:00:00+00  4.628000   \n",
              "199143             CHOQUE         KENNEDY  2021/03/19 12:50:00+00  4.624830   \n",
              "199144             CHOQUE         KENNEDY  2021/04/18 21:21:00+00  4.622000   \n",
              "199145  CAIDA DE OCUPANTE         KENNEDY  2021/07/12 19:53:00+00  4.630000   \n",
              "\n",
              "         LONGITUD         CIV  PK_CALZADA  \n",
              "0      -74.090924  10006772.0    221236.0  \n",
              "1      -74.121000  16004560.0         NaN  \n",
              "2      -74.042000  30001107.0         NaN  \n",
              "3      -74.166937  19001483.0    136166.0  \n",
              "4      -74.092901  14000548.0    239719.0  \n",
              "...           ...         ...         ...  \n",
              "199141 -74.160000   8003090.0         NaN  \n",
              "199142 -74.167000   8005066.0         NaN  \n",
              "199143 -74.158247   8005839.0         NaN  \n",
              "199144 -74.167000   8011660.0         NaN  \n",
              "199145 -74.168000   8004623.0         NaN  \n",
              "\n",
              "[199146 rows x 16 columns]"
            ]
          },
          "execution_count": 2,
          "metadata": {},
          "output_type": "execute_result"
        }
      ],
      "source": [
        "df = pd.read_csv ('data/historico_siniestros_bogota.csv', delimiter=',')\n",
        "df"
      ]
    },
    {
      "cell_type": "markdown",
      "metadata": {
        "id": "ZDwFoksh1ogh"
      },
      "source": [
        "Our dataset has 199,146 rows and 16 columns. Below is a brief description of each column."
      ]
    },
    {
      "cell_type": "markdown",
      "metadata": {
        "id": "XBEH9bW5nmvK"
      },
      "source": [
        "|     Variable name    |                    Variable description                            |          Data Type        |\n",
        "|:--------------------:|:------------------------------------------------------------------:|:-------------------------:|\n",
        "|X                     |Latitude of the location where the accident occurred                |float64                    |\n",
        "|Y                     |Longitude of the location where the accident occurred               |float64                    |\n",
        "|OBJECTID              |Unique identifier for the accident record                           |int64                      |\n",
        "|FORMULARIO            |Unique alphanumeric identifier for the accident record              |object                     |\n",
        "|CODIGO_ACCIDENTE      |Code of the accident\t                                            |int64                      |\n",
        "|FECHA_OCURRENCIA_ACC  |Date when the accident occurred in YYYY/MM/DD format                |object                     |\n",
        "|ANO_OCURRENCIA_ACC    |Year when the accident occurred                                     |int64                      |\n",
        "|DIRECCION             |Address where the accident occurred                                 |object                     |\n",
        "|GRAVEDAD              |Severity of the accident occured (3 categories)                     |object                     |\n",
        "|CLASE_ACC             |Class of the accident occured (7 categories)                        |object                     |\n",
        "|LOCALIDAD             |Borough of the accident where the accident occurred (20 categories) |object                     |\n",
        "|FECHA_HORA_ACC        |Time when the accident occurred in HH:MM:SS + 00 format             |object                     |\n",
        "|LATITUD               |Latitude of the location where the accident occurred                |float64                    |\n",
        "|LONGITUD              |Longitude of the location where the accident occurred               |float64                    |\n",
        "|CIV                   |Road Identification Code. See details [here]( \thttps://movilidadbogota.maps.arcgis.com/apps/webappviewer/index.html?id=219e91e4397f4f8d99c4c1aaa66ba2c4)              |float64                    |\n",
        "|PK_CALZADA            |Roadway or carriageway identifier                                   |float64                    |\n"
      ]
    },
    {
      "cell_type": "markdown",
      "metadata": {
        "id": "aN1j7NZSnyR-"
      },
      "source": [
        "We also check for missing values across columns"
      ]
    },
    {
      "cell_type": "code",
      "execution_count": null,
      "metadata": {
        "id": "rjEic-tg1ogj",
        "outputId": "2d8a5fb0-144c-4bbc-f70c-822a8a7c8b14"
      },
      "outputs": [
        {
          "data": {
            "text/plain": [
              "X                       False\n",
              "Y                       False\n",
              "OBJECTID                False\n",
              "FORMULARIO              False\n",
              "CODIGO_ACCIDENTE        False\n",
              "FECHA_OCURRENCIA_ACC    False\n",
              "ANO_OCURRENCIA_ACC      False\n",
              "DIRECCION               False\n",
              "GRAVEDAD                False\n",
              "CLASE_ACC               False\n",
              "LOCALIDAD                True\n",
              "FECHA_HORA_ACC          False\n",
              "LATITUD                 False\n",
              "LONGITUD                False\n",
              "CIV                      True\n",
              "PK_CALZADA               True\n",
              "dtype: bool"
            ]
          },
          "execution_count": 3,
          "metadata": {},
          "output_type": "execute_result"
        }
      ],
      "source": [
        "df.isnull().any()"
      ]
    },
    {
      "cell_type": "markdown",
      "metadata": {
        "id": "Sz9mmvmt1ogk"
      },
      "source": [
        "## Relevance\n",
        "In order to guarantee that our dataset only contains relevant information for our analysis we:\n",
        "1. Remove unnecesary variables or observations as follows:\n",
        "* Columns `X` and `Y` contain the same information as the columns `LONGITUD` and `LATITUD` respectively. Therefore, we remove them from the dataset.\n",
        "* Columns `FECHA_OCURRENCIA_ACC` and `ANO_OCURRENCIA_ACC` contain the same information in `FECHA_HORA_ACC`\n",
        "2. Dealing with missing values in the columns `CIV`, `PK_CALZADA`. and `LOCALIDAD`"
      ]
    },
    {
      "cell_type": "code",
      "execution_count": null,
      "metadata": {
        "id": "BNsd4t5i1ogk"
      },
      "outputs": [],
      "source": [
        "#Drop X and Y columns\n",
        "df = df.drop([\"X\", \"Y\"], axis=1)"
      ]
    },
    {
      "cell_type": "code",
      "execution_count": null,
      "metadata": {
        "id": "l-mZnany1ogk"
      },
      "outputs": [],
      "source": [
        "#Drop FECHA_OCURRENCIA_ACC and ANO_OCURRENCIA_ACC\n",
        "df = df.drop([\"FECHA_OCURRENCIA_ACC\",\"ANO_OCURRENCIA_ACC\"], axis=1)"
      ]
    },
    {
      "cell_type": "code",
      "execution_count": null,
      "metadata": {
        "id": "0VkU5SVF1ogl"
      },
      "outputs": [],
      "source": [
        "#Replace each missing row in CIV and PK_CALZADA with the \"Not Available\" string\n",
        "df[\"CIV\"] = df[\"CIV\"].astype(str)\n",
        "df[\"CIV\"] = df[\"CIV\"].fillna(\"Not Available\")\n",
        "df[\"PK_CALZADA\"] = df[\"PK_CALZADA\"].astype(str)\n",
        "df[\"PK_CALZADA\"] = df[\"PK_CALZADA\"].fillna(\"Not Available\")"
      ]
    },
    {
      "cell_type": "code",
      "execution_count": null,
      "metadata": {
        "id": "uMYUyEEz1ogl"
      },
      "outputs": [],
      "source": [
        "#Drop missing values in LOCALIDAD\n",
        "df = df[df[\"LOCALIDAD\"].notna()]"
      ]
    },
    {
      "cell_type": "markdown",
      "metadata": {
        "id": "hEe_Wlj51ogl"
      },
      "source": [
        "## Consistency\n",
        "To achieve consistency in our dataset, we need to:\n",
        "1. Make sure that all features are represented in the right data type.\n",
        "* Convert GRAVEDAD, CLASE_ACC and LOCALIDAD to categorical data type\n",
        "* Convert FECHA_HORA_ACC to datetime\n",
        "2. Rename and standardize column names\n",
        "3. Provide appropiate replacements for categories in categorical columns"
      ]
    },
    {
      "cell_type": "code",
      "execution_count": null,
      "metadata": {
        "id": "wkI4RoCSIcjn"
      },
      "outputs": [],
      "source": [
        "#Convert categorical columns to appropriate data types\n",
        "df[\"GRAVEDAD\"] = df[\"GRAVEDAD\"].astype(\"category\")\n",
        "df[\"CLASE_ACC\"] = df[\"CLASE_ACC\"].astype(\"category\")\n",
        "df[\"LOCALIDAD\"] = df[\"LOCALIDAD\"].astype(\"category\")"
      ]
    },
    {
      "cell_type": "code",
      "execution_count": null,
      "metadata": {
        "id": "BZTvwOYY1ogm"
      },
      "outputs": [],
      "source": [
        "#Convert FECHA_HORA_ACC to datetime\n",
        "df[\"FECHA_HORA_ACC\"] = pd.to_datetime(df[\"FECHA_HORA_ACC\"])"
      ]
    },
    {
      "cell_type": "code",
      "execution_count": null,
      "metadata": {
        "id": "5X53wXhL1ogm"
      },
      "outputs": [],
      "source": [
        "#Rename columns with lowercase and underscore format\n",
        "columns_dict = {\"OBJECTID\":\"id\", \n",
        "                \"FORMULARIO\":\"form_id\",\n",
        "                \"CODIGO_ACCIDENTE\": \"accident_code\",\n",
        "                \"DIRECCION\":\"address\",\n",
        "                \"GRAVEDAD\":\"severity\",\n",
        "                \"CLASE_ACC\":\"accident_type\",\n",
        "                \"LOCALIDAD\":\"borough\",\n",
        "                \"FECHA_HORA_ACC\":\"full_date\",\n",
        "                \"LATITUD\":\"latitude\",\n",
        "                \"LONGITUD\":\"longitude\",\n",
        "                \"CIV\":\"civ\",\n",
        "                \"PK_CALZADA\":\"road_id\",\n",
        "               }\n",
        "df = df.rename(columns = columns_dict)"
      ]
    },
    {
      "cell_type": "code",
      "execution_count": null,
      "metadata": {
        "id": "tquXgiz01ogm"
      },
      "outputs": [],
      "source": [
        "#severity column categories\n",
        "rename_dict_severity = {\"SOLO DANOS\": \"Only damages\", \"CON HERIDOS\":\"With Injured\", \"CON MUERTOS\":\"With deceased\"}\n",
        "df[\"severity\"] = df[\"severity\"].cat.rename_categories(rename_dict_severity)"
      ]
    },
    {
      "cell_type": "code",
      "execution_count": null,
      "metadata": {
        "id": "ZNZm2-sk1ogm"
      },
      "outputs": [],
      "source": [
        "#accident type column categories\n",
        "rename_dict_acctype = {\"ATROPELLO\":\"Run-over\", \"AUTOLESION\":\"Self-harm\",\n",
        "                        \"CAIDA DE OCUPANTE\":\"Passenger falling\", \"CHOQUE\":\"Crash\", \n",
        "                        \"INCENDIO\":\"Fire\",\"OTRO\":\"Other\", \"VOLCAMIENTO\":\"Overturn\"}\n",
        "df[\"accident_type\"] = df[\"accident_type\"].cat.rename_categories(rename_dict_acctype)"
      ]
    },
    {
      "cell_type": "code",
      "execution_count": null,
      "metadata": {
        "id": "z0rephY81ogn"
      },
      "outputs": [],
      "source": [
        "#borough column categories (Antonio Nariño)\n",
        "rename_dict_boroughs = {\"ANTONIO NARINO\": \"ANTONIO NARIÑO\"}\n",
        "df[\"borough\"] = df[\"borough\"].cat.rename_categories(rename_dict_boroughs)"
      ]
    },
    {
      "cell_type": "markdown",
      "metadata": {
        "id": "YC-yrIsm1ogn"
      },
      "source": [
        "## Data Augmentation\n",
        "1. Creating new features in the dataset:\n",
        "* year column\n",
        "* month column\n",
        "* day_of_week column\n",
        "* hour column\n",
        "2. Merging our dataset with a geojson dataset containing polygons of boroughs to perform geospatial analysis\n"
      ]
    },
    {
      "cell_type": "code",
      "execution_count": null,
      "metadata": {
        "id": "CxPWFBfc1ogn"
      },
      "outputs": [],
      "source": [
        "#We extract the year, month, day name, and hour from the \"date\" column, store them in separate columns and rearrange the resulting categories in a chronological order\n",
        "#Year\n",
        "df[\"year\"] = df[\"full_date\"].dt.year\n",
        "#Month\n",
        "df[\"month\"] = df[\"full_date\"].dt.month_name()\n",
        "mon = ['January', 'February', 'March', 'April', 'May', 'June', 'July', 'August', 'September', 'October', 'November', 'December']\n",
        "df['month']= pd.Categorical(df['month'], categories=mon, ordered=True)\n",
        "#Weekday\n",
        "df[\"day_of_week\"] = df[\"full_date\"].dt.day_name()\n",
        "wday = ['Monday', 'Tuesday', 'Wednesday', 'Thursday', 'Friday', 'Saturday', 'Sunday']\n",
        "df['day_of_week']= pd.Categorical(df['day_of_week'], categories=wday, ordered=True)\n",
        "#Hour\n",
        "df[\"hour\"] = df[\"full_date\"].dt.hour\n",
        "#Month and Year\n",
        "df[\"month_year\"] = df[\"month\"].astype(str).str[:3] + \", \" + df[\"year\"].astype(str)"
      ]
    },
    {
      "cell_type": "code",
      "execution_count": null,
      "metadata": {
        "id": "seDS4Rkd1ogn"
      },
      "outputs": [],
      "source": [
        "#Export the clean dataset as df_clean.csv\n",
        "df.to_csv(\"data/df_clean.csv\", encoding = \"utf-8\", index = False)"
      ]
    },
    {
      "cell_type": "markdown",
      "metadata": {
        "id": "ADVBieHE1ogn"
      },
      "source": [
        "### Visualizing the cleaned dataset"
      ]
    },
    {
      "cell_type": "code",
      "execution_count": null,
      "metadata": {
        "id": "3b3pg6ca1ogn",
        "outputId": "d38c4b95-d8f2-40d3-f366-972e0cac239e"
      },
      "outputs": [
        {
          "data": {
            "text/html": [
              "<div>\n",
              "<style scoped>\n",
              "    .dataframe tbody tr th:only-of-type {\n",
              "        vertical-align: middle;\n",
              "    }\n",
              "\n",
              "    .dataframe tbody tr th {\n",
              "        vertical-align: top;\n",
              "    }\n",
              "\n",
              "    .dataframe thead th {\n",
              "        text-align: right;\n",
              "    }\n",
              "</style>\n",
              "<table border=\"1\" class=\"dataframe\">\n",
              "  <thead>\n",
              "    <tr style=\"text-align: right;\">\n",
              "      <th></th>\n",
              "      <th>id</th>\n",
              "      <th>form_id</th>\n",
              "      <th>accident_code</th>\n",
              "      <th>address</th>\n",
              "      <th>severity</th>\n",
              "      <th>accident_type</th>\n",
              "      <th>borough</th>\n",
              "      <th>full_date</th>\n",
              "      <th>latitude</th>\n",
              "      <th>longitude</th>\n",
              "      <th>civ</th>\n",
              "      <th>road_id</th>\n",
              "      <th>year</th>\n",
              "      <th>month</th>\n",
              "      <th>day_of_week</th>\n",
              "      <th>hour</th>\n",
              "      <th>month_year</th>\n",
              "    </tr>\n",
              "  </thead>\n",
              "  <tbody>\n",
              "    <tr>\n",
              "      <th>0</th>\n",
              "      <td>1</td>\n",
              "      <td>A000640275</td>\n",
              "      <td>4484660</td>\n",
              "      <td>AV AVENIDA BOYACA-CL 79 02</td>\n",
              "      <td>Only damages</td>\n",
              "      <td>Crash</td>\n",
              "      <td>ENGATIVA</td>\n",
              "      <td>2017-06-12 05:30:00+00:00</td>\n",
              "      <td>4.693807</td>\n",
              "      <td>-74.090924</td>\n",
              "      <td>10006772.0</td>\n",
              "      <td>221236.0</td>\n",
              "      <td>2017</td>\n",
              "      <td>June</td>\n",
              "      <td>Monday</td>\n",
              "      <td>5</td>\n",
              "      <td>Jun, 2017</td>\n",
              "    </tr>\n",
              "    <tr>\n",
              "      <th>1</th>\n",
              "      <td>2</td>\n",
              "      <td>A001233353</td>\n",
              "      <td>10533499</td>\n",
              "      <td>CL 26 S- KR 50 02</td>\n",
              "      <td>With Injured</td>\n",
              "      <td>Other</td>\n",
              "      <td>PUENTE ARANDA</td>\n",
              "      <td>2020-11-19 02:05:00+00:00</td>\n",
              "      <td>4.603000</td>\n",
              "      <td>-74.121000</td>\n",
              "      <td>16004560.0</td>\n",
              "      <td>nan</td>\n",
              "      <td>2020</td>\n",
              "      <td>November</td>\n",
              "      <td>Thursday</td>\n",
              "      <td>2</td>\n",
              "      <td>Nov, 2020</td>\n",
              "    </tr>\n",
              "    <tr>\n",
              "      <th>2</th>\n",
              "      <td>4</td>\n",
              "      <td>A001232786</td>\n",
              "      <td>10533629</td>\n",
              "      <td>KR 9 - CL 100 02</td>\n",
              "      <td>Only damages</td>\n",
              "      <td>Crash</td>\n",
              "      <td>USAQUEN</td>\n",
              "      <td>2020-11-10 13:30:00+00:00</td>\n",
              "      <td>4.682000</td>\n",
              "      <td>-74.042000</td>\n",
              "      <td>30001107.0</td>\n",
              "      <td>nan</td>\n",
              "      <td>2020</td>\n",
              "      <td>November</td>\n",
              "      <td>Tuesday</td>\n",
              "      <td>13</td>\n",
              "      <td>Nov, 2020</td>\n",
              "    </tr>\n",
              "    <tr>\n",
              "      <th>3</th>\n",
              "      <td>7</td>\n",
              "      <td>A000200705</td>\n",
              "      <td>4412699</td>\n",
              "      <td>CL 63A-KR 72 S 02</td>\n",
              "      <td>Only damages</td>\n",
              "      <td>Crash</td>\n",
              "      <td>CIUDAD BOLIVAR</td>\n",
              "      <td>2015-05-11 10:50:00+00:00</td>\n",
              "      <td>4.587187</td>\n",
              "      <td>-74.166937</td>\n",
              "      <td>19001483.0</td>\n",
              "      <td>136166.0</td>\n",
              "      <td>2015</td>\n",
              "      <td>May</td>\n",
              "      <td>Monday</td>\n",
              "      <td>10</td>\n",
              "      <td>May, 2015</td>\n",
              "    </tr>\n",
              "    <tr>\n",
              "      <th>4</th>\n",
              "      <td>8</td>\n",
              "      <td>A000402862</td>\n",
              "      <td>4447845</td>\n",
              "      <td>KR 27-CL 9 14</td>\n",
              "      <td>Only damages</td>\n",
              "      <td>Crash</td>\n",
              "      <td>LOS MARTIRES</td>\n",
              "      <td>2016-06-08 21:30:00+00:00</td>\n",
              "      <td>4.607648</td>\n",
              "      <td>-74.092901</td>\n",
              "      <td>14000548.0</td>\n",
              "      <td>239719.0</td>\n",
              "      <td>2016</td>\n",
              "      <td>June</td>\n",
              "      <td>Wednesday</td>\n",
              "      <td>21</td>\n",
              "      <td>Jun, 2016</td>\n",
              "    </tr>\n",
              "  </tbody>\n",
              "</table>\n",
              "</div>"
            ],
            "text/plain": [
              "   id     form_id  accident_code                     address      severity  \\\n",
              "0   1  A000640275        4484660  AV AVENIDA BOYACA-CL 79 02  Only damages   \n",
              "1   2  A001233353       10533499           CL 26 S- KR 50 02  With Injured   \n",
              "2   4  A001232786       10533629            KR 9 - CL 100 02  Only damages   \n",
              "3   7  A000200705        4412699           CL 63A-KR 72 S 02  Only damages   \n",
              "4   8  A000402862        4447845               KR 27-CL 9 14  Only damages   \n",
              "\n",
              "  accident_type         borough                 full_date  latitude  \\\n",
              "0         Crash        ENGATIVA 2017-06-12 05:30:00+00:00  4.693807   \n",
              "1         Other   PUENTE ARANDA 2020-11-19 02:05:00+00:00  4.603000   \n",
              "2         Crash         USAQUEN 2020-11-10 13:30:00+00:00  4.682000   \n",
              "3         Crash  CIUDAD BOLIVAR 2015-05-11 10:50:00+00:00  4.587187   \n",
              "4         Crash    LOS MARTIRES 2016-06-08 21:30:00+00:00  4.607648   \n",
              "\n",
              "   longitude         civ   road_id  year     month day_of_week  hour  \\\n",
              "0 -74.090924  10006772.0  221236.0  2017      June      Monday     5   \n",
              "1 -74.121000  16004560.0       nan  2020  November    Thursday     2   \n",
              "2 -74.042000  30001107.0       nan  2020  November     Tuesday    13   \n",
              "3 -74.166937  19001483.0  136166.0  2015       May      Monday    10   \n",
              "4 -74.092901  14000548.0  239719.0  2016      June   Wednesday    21   \n",
              "\n",
              "  month_year  \n",
              "0  Jun, 2017  \n",
              "1  Nov, 2020  \n",
              "2  Nov, 2020  \n",
              "3  May, 2015  \n",
              "4  Jun, 2016  "
            ]
          },
          "execution_count": 16,
          "metadata": {},
          "output_type": "execute_result"
        }
      ],
      "source": [
        "df.head()"
      ]
    },
    {
      "cell_type": "markdown",
      "metadata": {
        "id": "13DskEF41ogo"
      },
      "source": [
        "### Merging the Geographic Dataset with the Road Accidents Dataset"
      ]
    },
    {
      "cell_type": "code",
      "execution_count": null,
      "metadata": {
        "id": "TlH7-02z1ogo"
      },
      "outputs": [],
      "source": [
        "# Loading the shape file for Bogotá polygons of boroughs\n",
        "shp_df = gpd.read_file('data/localidades/localidades.shp')\n",
        "# Cleaning the dataframe before merging\n",
        "shp_df = shp_df.drop([\"OBJECTID\",\"CODIGO_LOC\",\"DECRETO\",\"LINK\",\"SIMBOLO\",\"ESCALA_CAP\",\"FECHA_CAPT\", \"SHAPE_LEN\"], axis=1)\n",
        "geo_columns_dict = {\"NOMBRE\":\"borough\", \"SHAPE_AREA\":\"shape_area\"}\n",
        "shp_df = shp_df.rename(columns = geo_columns_dict)\n",
        "shp_df.to_csv(\"data/geospatial.csv\")"
      ]
    },
    {
      "cell_type": "code",
      "execution_count": null,
      "metadata": {
        "id": "ullq9Cwp1ogo"
      },
      "outputs": [],
      "source": [
        "#Merging accident counts and shapefile\n",
        "df_borough = df.groupby(['borough', 'year']).size().reset_index(name=\"accident_count\")\n",
        "geospatial_df = shp_df.merge(df_borough, how=\"left\", left_on=['borough'], right_on=['borough'])"
      ]
    },
    {
      "cell_type": "code",
      "execution_count": null,
      "metadata": {
        "id": "C2ZhP1rN1ogo",
        "outputId": "ee2b2417-a518-44cc-cc1b-8e72a9c8164d"
      },
      "outputs": [
        {
          "data": {
            "text/html": [
              "<div>\n",
              "<style scoped>\n",
              "    .dataframe tbody tr th:only-of-type {\n",
              "        vertical-align: middle;\n",
              "    }\n",
              "\n",
              "    .dataframe tbody tr th {\n",
              "        vertical-align: top;\n",
              "    }\n",
              "\n",
              "    .dataframe thead th {\n",
              "        text-align: right;\n",
              "    }\n",
              "</style>\n",
              "<table border=\"1\" class=\"dataframe\">\n",
              "  <thead>\n",
              "    <tr style=\"text-align: right;\">\n",
              "      <th></th>\n",
              "      <th>borough</th>\n",
              "      <th>shape_area</th>\n",
              "      <th>geometry</th>\n",
              "      <th>year</th>\n",
              "      <th>accident_count</th>\n",
              "    </tr>\n",
              "  </thead>\n",
              "  <tbody>\n",
              "    <tr>\n",
              "      <th>0</th>\n",
              "      <td>SANTA FE</td>\n",
              "      <td>4.517065e+07</td>\n",
              "      <td>POLYGON ((100996.362 103506.019, 101013.606 10...</td>\n",
              "      <td>2015</td>\n",
              "      <td>603</td>\n",
              "    </tr>\n",
              "    <tr>\n",
              "      <th>1</th>\n",
              "      <td>SANTA FE</td>\n",
              "      <td>4.517065e+07</td>\n",
              "      <td>POLYGON ((100996.362 103506.019, 101013.606 10...</td>\n",
              "      <td>2016</td>\n",
              "      <td>813</td>\n",
              "    </tr>\n",
              "    <tr>\n",
              "      <th>2</th>\n",
              "      <td>SANTA FE</td>\n",
              "      <td>4.517065e+07</td>\n",
              "      <td>POLYGON ((100996.362 103506.019, 101013.606 10...</td>\n",
              "      <td>2017</td>\n",
              "      <td>966</td>\n",
              "    </tr>\n",
              "    <tr>\n",
              "      <th>3</th>\n",
              "      <td>SANTA FE</td>\n",
              "      <td>4.517065e+07</td>\n",
              "      <td>POLYGON ((100996.362 103506.019, 101013.606 10...</td>\n",
              "      <td>2018</td>\n",
              "      <td>993</td>\n",
              "    </tr>\n",
              "    <tr>\n",
              "      <th>4</th>\n",
              "      <td>SANTA FE</td>\n",
              "      <td>4.517065e+07</td>\n",
              "      <td>POLYGON ((100996.362 103506.019, 101013.606 10...</td>\n",
              "      <td>2019</td>\n",
              "      <td>991</td>\n",
              "    </tr>\n",
              "  </tbody>\n",
              "</table>\n",
              "</div>"
            ],
            "text/plain": [
              "    borough    shape_area                                           geometry  \\\n",
              "0  SANTA FE  4.517065e+07  POLYGON ((100996.362 103506.019, 101013.606 10...   \n",
              "1  SANTA FE  4.517065e+07  POLYGON ((100996.362 103506.019, 101013.606 10...   \n",
              "2  SANTA FE  4.517065e+07  POLYGON ((100996.362 103506.019, 101013.606 10...   \n",
              "3  SANTA FE  4.517065e+07  POLYGON ((100996.362 103506.019, 101013.606 10...   \n",
              "4  SANTA FE  4.517065e+07  POLYGON ((100996.362 103506.019, 101013.606 10...   \n",
              "\n",
              "   year  accident_count  \n",
              "0  2015             603  \n",
              "1  2016             813  \n",
              "2  2017             966  \n",
              "3  2018             993  \n",
              "4  2019             991  "
            ]
          },
          "execution_count": 26,
          "metadata": {},
          "output_type": "execute_result"
        }
      ],
      "source": [
        "geospatial_df.head()"
      ]
    },
    {
      "cell_type": "markdown",
      "metadata": {
        "id": "3LcBkIND1ogo"
      },
      "source": [
        "### Merging the Population Dataset with the Road Accidents Dataset"
      ]
    },
    {
      "cell_type": "markdown",
      "metadata": {
        "id": "pK96X96p1ogo"
      },
      "source": [
        "Importing the population dataset"
      ]
    },
    {
      "cell_type": "code",
      "execution_count": null,
      "metadata": {
        "id": "Ggos_56c1ogp",
        "outputId": "58939eff-5bc0-4fb0-c797-56719ef4b806"
      },
      "outputs": [
        {
          "data": {
            "text/html": [
              "<div>\n",
              "<style scoped>\n",
              "    .dataframe tbody tr th:only-of-type {\n",
              "        vertical-align: middle;\n",
              "    }\n",
              "\n",
              "    .dataframe tbody tr th {\n",
              "        vertical-align: top;\n",
              "    }\n",
              "\n",
              "    .dataframe thead th {\n",
              "        text-align: right;\n",
              "    }\n",
              "</style>\n",
              "<table border=\"1\" class=\"dataframe\">\n",
              "  <thead>\n",
              "    <tr style=\"text-align: right;\">\n",
              "      <th></th>\n",
              "      <th>borough</th>\n",
              "      <th>year</th>\n",
              "      <th>population</th>\n",
              "    </tr>\n",
              "  </thead>\n",
              "  <tbody>\n",
              "    <tr>\n",
              "      <th>0</th>\n",
              "      <td>USAQUEN</td>\n",
              "      <td>2015</td>\n",
              "      <td>520480.0</td>\n",
              "    </tr>\n",
              "    <tr>\n",
              "      <th>1</th>\n",
              "      <td>CHAPINERO</td>\n",
              "      <td>2015</td>\n",
              "      <td>151996.0</td>\n",
              "    </tr>\n",
              "    <tr>\n",
              "      <th>2</th>\n",
              "      <td>SANTA FE</td>\n",
              "      <td>2015</td>\n",
              "      <td>102155.0</td>\n",
              "    </tr>\n",
              "    <tr>\n",
              "      <th>3</th>\n",
              "      <td>SAN CRISTOBAL</td>\n",
              "      <td>2015</td>\n",
              "      <td>382247.0</td>\n",
              "    </tr>\n",
              "    <tr>\n",
              "      <th>4</th>\n",
              "      <td>USME</td>\n",
              "      <td>2015</td>\n",
              "      <td>353558.0</td>\n",
              "    </tr>\n",
              "    <tr>\n",
              "      <th>...</th>\n",
              "      <td>...</td>\n",
              "      <td>...</td>\n",
              "      <td>...</td>\n",
              "    </tr>\n",
              "    <tr>\n",
              "      <th>135</th>\n",
              "      <td>PUENTE ARANDA</td>\n",
              "      <td>2021</td>\n",
              "      <td>253367.0</td>\n",
              "    </tr>\n",
              "    <tr>\n",
              "      <th>136</th>\n",
              "      <td>LA CANDELARIA</td>\n",
              "      <td>2021</td>\n",
              "      <td>17877.0</td>\n",
              "    </tr>\n",
              "    <tr>\n",
              "      <th>137</th>\n",
              "      <td>RAFAEL URIBE URIBE</td>\n",
              "      <td>2021</td>\n",
              "      <td>383960.0</td>\n",
              "    </tr>\n",
              "    <tr>\n",
              "      <th>138</th>\n",
              "      <td>CIUDAD BOLIVAR</td>\n",
              "      <td>2021</td>\n",
              "      <td>649834.0</td>\n",
              "    </tr>\n",
              "    <tr>\n",
              "      <th>139</th>\n",
              "      <td>SUMAPAZ</td>\n",
              "      <td>2021</td>\n",
              "      <td>3584.0</td>\n",
              "    </tr>\n",
              "  </tbody>\n",
              "</table>\n",
              "<p>140 rows × 3 columns</p>\n",
              "</div>"
            ],
            "text/plain": [
              "                borough  year  population\n",
              "0               USAQUEN  2015    520480.0\n",
              "1             CHAPINERO  2015    151996.0\n",
              "2              SANTA FE  2015    102155.0\n",
              "3         SAN CRISTOBAL  2015    382247.0\n",
              "4                  USME  2015    353558.0\n",
              "..                  ...   ...         ...\n",
              "135       PUENTE ARANDA  2021    253367.0\n",
              "136       LA CANDELARIA  2021     17877.0\n",
              "137  RAFAEL URIBE URIBE  2021    383960.0\n",
              "138      CIUDAD BOLIVAR  2021    649834.0\n",
              "139             SUMAPAZ  2021      3584.0\n",
              "\n",
              "[140 rows x 3 columns]"
            ]
          },
          "execution_count": 27,
          "metadata": {},
          "output_type": "execute_result"
        }
      ],
      "source": [
        "df_pop = pd.read_excel('data/poblacion_localidades.xlsx',sheet_name=1, skiprows=5)\n",
        "#Remove Total Population for Bogotá\n",
        "df_pop = df_pop.drop(df_pop.index[20:22])\n",
        "#Drop Código Localidad and column years that are not in the main dataset (We are only interested in population from year 2015 to year 2021)\n",
        "df_pop.drop(df_pop.columns[[0, 2,3,4,5,6,7,8,9,10,11,19,20,21,22,23,24,25,26,27,28,29,30,31,32]], axis = 1, inplace = True)\n",
        "#Change Nombre de Localidad column name\n",
        "pop_columns_dict = {\"Nombre localidad\":\"borough\"}\n",
        "df_pop = df_pop.rename(columns = pop_columns_dict)\n",
        "#From Wide to Tidy Format\n",
        "df_pop = df_pop.melt(id_vars=[\"borough\"], var_name=\"year\", value_name=\"population\")\n",
        "df_pop"
      ]
    },
    {
      "cell_type": "code",
      "execution_count": null,
      "metadata": {
        "id": "8Irmdaxj1ogp",
        "outputId": "a41ebad4-806d-45db-918e-54c230bdd8f0"
      },
      "outputs": [
        {
          "data": {
            "text/html": [
              "<div>\n",
              "<style scoped>\n",
              "    .dataframe tbody tr th:only-of-type {\n",
              "        vertical-align: middle;\n",
              "    }\n",
              "\n",
              "    .dataframe tbody tr th {\n",
              "        vertical-align: top;\n",
              "    }\n",
              "\n",
              "    .dataframe thead th {\n",
              "        text-align: right;\n",
              "    }\n",
              "</style>\n",
              "<table border=\"1\" class=\"dataframe\">\n",
              "  <thead>\n",
              "    <tr style=\"text-align: right;\">\n",
              "      <th></th>\n",
              "      <th>borough</th>\n",
              "      <th>shape_area</th>\n",
              "      <th>geometry</th>\n",
              "      <th>year</th>\n",
              "      <th>accident_count</th>\n",
              "      <th>population</th>\n",
              "    </tr>\n",
              "  </thead>\n",
              "  <tbody>\n",
              "    <tr>\n",
              "      <th>0</th>\n",
              "      <td>SANTA FE</td>\n",
              "      <td>4.517065e+07</td>\n",
              "      <td>POLYGON ((100996.362 103506.019, 101013.606 10...</td>\n",
              "      <td>2015</td>\n",
              "      <td>603</td>\n",
              "      <td>102155.0</td>\n",
              "    </tr>\n",
              "    <tr>\n",
              "      <th>1</th>\n",
              "      <td>SANTA FE</td>\n",
              "      <td>4.517065e+07</td>\n",
              "      <td>POLYGON ((100996.362 103506.019, 101013.606 10...</td>\n",
              "      <td>2016</td>\n",
              "      <td>813</td>\n",
              "      <td>102485.0</td>\n",
              "    </tr>\n",
              "    <tr>\n",
              "      <th>2</th>\n",
              "      <td>SANTA FE</td>\n",
              "      <td>4.517065e+07</td>\n",
              "      <td>POLYGON ((100996.362 103506.019, 101013.606 10...</td>\n",
              "      <td>2017</td>\n",
              "      <td>966</td>\n",
              "      <td>102984.0</td>\n",
              "    </tr>\n",
              "  </tbody>\n",
              "</table>\n",
              "</div>"
            ],
            "text/plain": [
              "    borough    shape_area                                           geometry  \\\n",
              "0  SANTA FE  4.517065e+07  POLYGON ((100996.362 103506.019, 101013.606 10...   \n",
              "1  SANTA FE  4.517065e+07  POLYGON ((100996.362 103506.019, 101013.606 10...   \n",
              "2  SANTA FE  4.517065e+07  POLYGON ((100996.362 103506.019, 101013.606 10...   \n",
              "\n",
              "   year  accident_count  population  \n",
              "0  2015             603    102155.0  \n",
              "1  2016             813    102485.0  \n",
              "2  2017             966    102984.0  "
            ]
          },
          "execution_count": 28,
          "metadata": {},
          "output_type": "execute_result"
        }
      ],
      "source": [
        "df_merged = pd.merge(geospatial_df, df_pop, on=['borough','year'], how='left')\n",
        "df_merged.head(3)"
      ]
    },
    {
      "cell_type": "markdown",
      "metadata": {
        "id": "HSEPkfIx1ogp"
      },
      "source": [
        "## Attribution\n",
        "* \"Road accidents in Bogotá from 2015 to 2021\", May 20, 2022. Datos Abiertos Bogotá created by [Secretaria Distrital de Movilidad](https://www.movilidadbogota.gov.co/web/datos_abiertos),  available at: https://datosabiertos.bogota.gov.co/en/dataset/historico-siniestros-bogota-d-c\n",
        "* \"Boroughs in Bogotá D.C\", June 6, 2022. SERIES. Servicios de Información Espacial, available at: https://sites.google.com/site/seriescol/shapes\n",
        "* \"Bogotá demographic data per borough from 2005 to 2035\", June 6, 2022. Visor de Población - Secretaría Distrital de Planeación, available at https://sdpbogota.maps.arcgis.com/apps/MapSeries/index.html?appid=baabe888c3ab42c6bb3d10d4eaa993c5"
      ]
    }
  ],
  "metadata": {
    "colab": {
      "collapsed_sections": [],
      "name": "data.cleaning.ipynb",
      "provenance": []
    },
    "interpreter": {
      "hash": "8d3e54fe3ce154e32ac346abb9a52721706f8b6192d2a6d9e7d1f2a1d569502c"
    },
    "kernelspec": {
      "display_name": "Python 3.10.4 64-bit",
      "language": "python",
      "name": "python3"
    },
    "language_info": {
      "codemirror_mode": {
        "name": "ipython",
        "version": 3
      },
      "file_extension": ".py",
      "mimetype": "text/x-python",
      "name": "python",
      "nbconvert_exporter": "python",
      "pygments_lexer": "ipython3",
      "version": "3.10.4"
    }
  },
  "nbformat": 4,
  "nbformat_minor": 0
}